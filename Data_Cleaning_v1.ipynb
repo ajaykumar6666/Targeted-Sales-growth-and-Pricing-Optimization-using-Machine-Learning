{
 "cells": [
  {
   "cell_type": "markdown",
   "id": "f9c206a5-bfba-46be-a743-e3f8ff985904",
   "metadata": {},
   "source": [
    "## Loading the libraries"
   ]
  },
  {
   "cell_type": "code",
   "execution_count": 1,
   "id": "226a611e-d962-40ef-a876-ba0cf179f5b2",
   "metadata": {},
   "outputs": [],
   "source": [
    "## to load the python scripts which consists of pre-defined functions\n",
    "import sys\n",
    "sys.path.insert(0, '../scripts')"
   ]
  },
  {
   "cell_type": "code",
   "execution_count": 2,
   "id": "b85a8040-8997-4fe2-9e4d-08cf0ef30845",
   "metadata": {},
   "outputs": [],
   "source": [
    "import pandas as pd\n",
    "import numpy as np\n",
    "from helper_functions import *\n",
    "import seaborn as sns\n",
    "import matplotlib.pyplot as plt"
   ]
  },
  {
   "cell_type": "code",
   "execution_count": 3,
   "id": "fd8d98f2-56a8-40b8-9165-01b1b6cb25c5",
   "metadata": {},
   "outputs": [],
   "source": [
    "## to show the maximum set rows which makes it easy for visualization\n",
    "pd.set_option('display.max_rows',1000)\n",
    "pd.set_option('display.max_columns',1000)"
   ]
  },
  {
   "cell_type": "markdown",
   "id": "f33d7565-9275-46ac-8dff-0e57c6a5c971",
   "metadata": {},
   "source": [
    "## Loading the datasets"
   ]
  },
  {
   "cell_type": "code",
   "execution_count": 5,
   "id": "73ea4960-4ee4-446f-9783-beefda379263",
   "metadata": {},
   "outputs": [
    {
     "name": "stderr",
     "output_type": "stream",
     "text": [
      "<timed exec>:1: DtypeWarning: Columns (40) have mixed types. Specify dtype option on import or set low_memory=False.\n",
      "<timed exec>:2: DtypeWarning: Columns (26,30,31,62,81,83,84,105,106,112,115,116,118,119,120,121,122,123,124,125,126,127,135,144,195) have mixed types. Specify dtype option on import or set low_memory=False.\n"
     ]
    },
    {
     "name": "stdout",
     "output_type": "stream",
     "text": [
      "CPU times: user 35.2 s, sys: 7.07 s, total: 42.3 s\n",
      "Wall time: 44.2 s\n"
     ]
    }
   ],
   "source": [
    "%%time\n",
    "main= pd.read_csv('../Team 4/PLA_DETAIL_IDF_Main_v3.csv',encoding='latin-1')\n",
    "rating= pd.read_csv('../Team 4/PLA_DETAIL_IDF_Rating.csv')"
   ]
  },
  {
   "cell_type": "markdown",
   "id": "add192c6-d9a2-4915-a47f-be1f8b551b76",
   "metadata": {},
   "source": [
    "### Removing Duplicates - Rating dataframe"
   ]
  },
  {
   "cell_type": "code",
   "execution_count": 7,
   "id": "349436bd-ef90-456d-82a2-beb94e877f57",
   "metadata": {},
   "outputs": [],
   "source": [
    "## counting the duplicates by using the values_counts()"
   ]
  },
  {
   "cell_type": "code",
   "execution_count": 7,
   "id": "1568c053-d98d-489d-80ca-dbcdcbb6bd73",
   "metadata": {},
   "outputs": [
    {
     "data": {
      "text/html": [
       "<div>\n",
       "<style scoped>\n",
       "    .dataframe tbody tr th:only-of-type {\n",
       "        vertical-align: middle;\n",
       "    }\n",
       "\n",
       "    .dataframe tbody tr th {\n",
       "        vertical-align: top;\n",
       "    }\n",
       "\n",
       "    .dataframe thead th {\n",
       "        text-align: right;\n",
       "    }\n",
       "</style>\n",
       "<table border=\"1\" class=\"dataframe\">\n",
       "  <thead>\n",
       "    <tr style=\"text-align: right;\">\n",
       "      <th></th>\n",
       "      <th>index</th>\n",
       "      <th>POLICY_NUMBER</th>\n",
       "    </tr>\n",
       "  </thead>\n",
       "  <tbody>\n",
       "    <tr>\n",
       "      <th>0</th>\n",
       "      <td>1750855</td>\n",
       "      <td>11</td>\n",
       "    </tr>\n",
       "    <tr>\n",
       "      <th>1</th>\n",
       "      <td>169624</td>\n",
       "      <td>11</td>\n",
       "    </tr>\n",
       "    <tr>\n",
       "      <th>2</th>\n",
       "      <td>1308540</td>\n",
       "      <td>9</td>\n",
       "    </tr>\n",
       "    <tr>\n",
       "      <th>3</th>\n",
       "      <td>1663832</td>\n",
       "      <td>9</td>\n",
       "    </tr>\n",
       "    <tr>\n",
       "      <th>4</th>\n",
       "      <td>1157976</td>\n",
       "      <td>8</td>\n",
       "    </tr>\n",
       "    <tr>\n",
       "      <th>...</th>\n",
       "      <td>...</td>\n",
       "      <td>...</td>\n",
       "    </tr>\n",
       "    <tr>\n",
       "      <th>1112812</th>\n",
       "      <td>5364912</td>\n",
       "      <td>1</td>\n",
       "    </tr>\n",
       "    <tr>\n",
       "      <th>1112813</th>\n",
       "      <td>5364937</td>\n",
       "      <td>1</td>\n",
       "    </tr>\n",
       "    <tr>\n",
       "      <th>1112814</th>\n",
       "      <td>5364981</td>\n",
       "      <td>1</td>\n",
       "    </tr>\n",
       "    <tr>\n",
       "      <th>1112815</th>\n",
       "      <td>5364990</td>\n",
       "      <td>1</td>\n",
       "    </tr>\n",
       "    <tr>\n",
       "      <th>1112816</th>\n",
       "      <td>5907447</td>\n",
       "      <td>1</td>\n",
       "    </tr>\n",
       "  </tbody>\n",
       "</table>\n",
       "<p>1112817 rows × 2 columns</p>\n",
       "</div>"
      ],
      "text/plain": [
       "           index  POLICY_NUMBER\n",
       "0        1750855             11\n",
       "1         169624             11\n",
       "2        1308540              9\n",
       "3        1663832              9\n",
       "4        1157976              8\n",
       "...          ...            ...\n",
       "1112812  5364912              1\n",
       "1112813  5364937              1\n",
       "1112814  5364981              1\n",
       "1112815  5364990              1\n",
       "1112816  5907447              1\n",
       "\n",
       "[1112817 rows x 2 columns]"
      ]
     },
     "execution_count": 7,
     "metadata": {},
     "output_type": "execute_result"
    }
   ],
   "source": [
    "rating['POLICY_NUMBER'].value_counts().reset_index()"
   ]
  },
  {
   "cell_type": "code",
   "execution_count": 8,
   "id": "b7cabc6a-ec11-4bd0-9f3e-e479589dace0",
   "metadata": {},
   "outputs": [],
   "source": [
    "## using cleaning_policy_numbers by using the python script to identify and remove them\n",
    "rating['POLICY_NUMBER']=cleaning_policy_numbers(rating)"
   ]
  },
  {
   "cell_type": "code",
   "execution_count": 9,
   "id": "f8de4535-2496-4cba-9cd2-e5e11766930f",
   "metadata": {},
   "outputs": [],
   "source": [
    "## using the same functioon to remove the duplicates for the main dataframe\n",
    "main['POLICY_NUMBER']=cleaning_policy_numbers(main)"
   ]
  },
  {
   "cell_type": "code",
   "execution_count": null,
   "id": "3ee9f845-37bd-4e93-8b8e-f099affac8db",
   "metadata": {},
   "outputs": [],
   "source": [
    "# duplicates are identified as properties having multiple inspections"
   ]
  },
  {
   "cell_type": "code",
   "execution_count": 10,
   "id": "3bd3693d-1f5f-4771-ae36-c4a42625101c",
   "metadata": {},
   "outputs": [
    {
     "name": "stdout",
     "output_type": "stream",
     "text": [
      "INSPECTION_COMPANY_NAME\n",
      "INSPECTOR_FIRST_NAME\n",
      "INSPECTOR_LAST_NAME\n",
      "INSPECTION_TYPE\n",
      "INSPECTOR_LICENSE_TYPE\n",
      "INSPECTOR_LICENSE_NUMBER\n"
     ]
    }
   ],
   "source": [
    "for i in rating.columns:\n",
    "    k = rating.loc[rating['POLICY_NUMBER']=='01157976',i].value_counts()\n",
    "    if len(k)>1:\n",
    "        print(i)"
   ]
  },
  {
   "cell_type": "code",
   "execution_count": 11,
   "id": "00871e7d-dd7e-4e4a-ba67-d2f6d3070961",
   "metadata": {},
   "outputs": [
    {
     "name": "stdout",
     "output_type": "stream",
     "text": [
      "Index(['INSPECTION_COMPANY_NAME', 'INSPECTOR_FIRST_NAME',\n",
      "       'INSPECTOR_LAST_NAME', 'INSPECTION_TYPE', 'INSPECTOR_LICENSE_TYPE',\n",
      "       'INSPECTOR_LICENSE_NUMBER'],\n",
      "      dtype='object')\n"
     ]
    }
   ],
   "source": [
    "inspection_cols = rating.columns[rating.columns.str.startswith('INSP')]\n",
    "print(inspection_cols)"
   ]
  },
  {
   "cell_type": "code",
   "execution_count": 12,
   "id": "cbbfe675-44c5-45af-8c07-248def839db8",
   "metadata": {},
   "outputs": [],
   "source": [
    "# created a new column called NUMBER_OF_INSPECTIONS and got rid of the duplicates\n",
    "kk = rating['POLICY_NUMBER'].value_counts().reset_index()\n",
    "kk.rename(columns={'index':'POLICY_NUMBER','POLICY_NUMBER':\"NUMBER_OF_INSPECTIONS\"},inplace=True)"
   ]
  },
  {
   "cell_type": "code",
   "execution_count": 14,
   "id": "b4877e8b-ecd4-4c6a-80d2-db14b435a8b2",
   "metadata": {},
   "outputs": [],
   "source": [
    "inspection_cols = np.array(inspection_cols)"
   ]
  },
  {
   "cell_type": "code",
   "execution_count": 15,
   "id": "94db322d-1b64-460a-bd8a-96c410ccbce2",
   "metadata": {},
   "outputs": [
    {
     "name": "stdout",
     "output_type": "stream",
     "text": [
      "['INSPECTION_COMPANY_NAME' 'INSPECTOR_FIRST_NAME' 'INSPECTOR_LAST_NAME'\n",
      " 'INSPECTION_TYPE' 'INSPECTOR_LICENSE_TYPE' 'INSPECTOR_LICENSE_NUMBER'\n",
      " 'POLICY_NUMBER']\n"
     ]
    }
   ],
   "source": [
    "duplicate_check = np.append(inspection_cols,'POLICY_NUMBER')\n",
    "print(duplicate_check)"
   ]
  },
  {
   "cell_type": "code",
   "execution_count": 16,
   "id": "e87ebf97-61fe-444e-b6a9-b7fdd24faa6d",
   "metadata": {},
   "outputs": [
    {
     "data": {
      "text/plain": [
       "(1830301, 208)"
      ]
     },
     "execution_count": 16,
     "metadata": {},
     "output_type": "execute_result"
    }
   ],
   "source": [
    "rating.drop_duplicates(subset=duplicate_check).shape"
   ]
  },
  {
   "cell_type": "code",
   "execution_count": 17,
   "id": "c928506b-abb8-4cd6-bd22-8cd2cc2cba06",
   "metadata": {},
   "outputs": [
    {
     "data": {
      "text/plain": [
       "(1830301, 208)"
      ]
     },
     "execution_count": 17,
     "metadata": {},
     "output_type": "execute_result"
    }
   ],
   "source": [
    "rating.shape"
   ]
  },
  {
   "cell_type": "code",
   "execution_count": 18,
   "id": "569641ea-91c7-4aa0-8390-98211bdf67f4",
   "metadata": {},
   "outputs": [],
   "source": [
    "rating.drop_duplicates(subset='POLICY_NUMBER',ignore_index=True,inplace=True,keep='last')"
   ]
  },
  {
   "cell_type": "code",
   "execution_count": 22,
   "id": "c5c25da4-e813-4452-b30b-00bc96740b19",
   "metadata": {},
   "outputs": [],
   "source": [
    "rating = rating.merge(kk,on='POLICY_NUMBER',how='inner')"
   ]
  },
  {
   "cell_type": "code",
   "execution_count": 23,
   "id": "1239a0cd-8b6d-4d16-8faa-9f74f291b6e9",
   "metadata": {},
   "outputs": [
    {
     "data": {
      "text/plain": [
       "(1112817, 209)"
      ]
     },
     "execution_count": 23,
     "metadata": {},
     "output_type": "execute_result"
    }
   ],
   "source": [
    "rating.shape"
   ]
  },
  {
   "cell_type": "markdown",
   "id": "b8df70ab-371e-4158-8364-b0e45e075061",
   "metadata": {},
   "source": [
    "### Removing duplicates - Main dataframe"
   ]
  },
  {
   "cell_type": "code",
   "execution_count": 27,
   "id": "86ea42e2-72dc-4e3f-b4dd-bb3c8b4dd0e5",
   "metadata": {},
   "outputs": [
    {
     "data": {
      "text/plain": [
       "06311202    8\n",
       "03882605    8\n",
       "05591444    7\n",
       "04182424    7\n",
       "06724158    7\n",
       "           ..\n",
       "07971908    1\n",
       "07971945    1\n",
       "07971953    1\n",
       "07971964    1\n",
       "07071139    1\n",
       "Name: POLICY_NUMBER, Length: 1033188, dtype: int64"
      ]
     },
     "execution_count": 27,
     "metadata": {},
     "output_type": "execute_result"
    }
   ],
   "source": [
    "main['POLICY_NUMBER'].value_counts()"
   ]
  },
  {
   "cell_type": "code",
   "execution_count": 28,
   "id": "d8f7657f-1f23-4475-b150-b4eb6fbb7345",
   "metadata": {},
   "outputs": [],
   "source": [
    "for i in main.columns:\n",
    "    kk = main.loc[main['POLICY_NUMBER']=='03882605',i].value_counts()\n",
    "    if len(kk)>1:\n",
    "        print(i)"
   ]
  },
  {
   "cell_type": "code",
   "execution_count": 29,
   "id": "9633afe1-4a79-4334-b4e3-a3ec2c0822f5",
   "metadata": {},
   "outputs": [],
   "source": [
    "k1 = main.drop_duplicates()"
   ]
  },
  {
   "cell_type": "code",
   "execution_count": 30,
   "id": "0fb4413c-1abc-47e3-8765-0b2aa63deeae",
   "metadata": {},
   "outputs": [],
   "source": [
    "k2= main.drop_duplicates(subset=['POLICY_NUMBER'])"
   ]
  },
  {
   "cell_type": "code",
   "execution_count": 32,
   "id": "b2d1d8a7-668a-4b5d-afae-1b0a57f3d529",
   "metadata": {},
   "outputs": [
    {
     "data": {
      "text/plain": [
       "((1048575, 41), (1034396, 41), (1033188, 41))"
      ]
     },
     "execution_count": 32,
     "metadata": {},
     "output_type": "execute_result"
    }
   ],
   "source": [
    "main.shape,k1.shape,k2.shape"
   ]
  },
  {
   "cell_type": "code",
   "execution_count": null,
   "id": "c9afbf06-3698-48ab-89e4-bc2fb2902815",
   "metadata": {},
   "outputs": [],
   "source": [
    "# removed the email,phone number and any contact related columns that would be helpful for the analysis making it easier"
   ]
  },
  {
   "cell_type": "code",
   "execution_count": 36,
   "id": "3a8a2ae2-287e-4777-b477-1131c1f6e55a",
   "metadata": {},
   "outputs": [],
   "source": [
    "main.drop(columns=['PAYOR','EXPIRATION_DATE','EFFECTIVE_DATE','CURRENT_STATUS','POLICE_TAX_DISTRICT',\n",
    "                  'FIRE_TAX_DISTRICT','AGENCY_ID','AGENCY_WORK_PHONE','AGENCY_FAX_PHONE','AGENCY_ADDRESS_LINE2','AGENCY_EMAIL_ADDRESS1',\n",
    "                  'AGENT_EMAIL_ADDRESS','BULK_INTAKE_SUBMISSION',\n",
    "                  'AGENCY_ADDRESS_LINE1','AGENCY_CITY','AGENCY_STATE','AGENCY_POSTAL_CODE',\n",
    "                  'AGENT_NAME','AGENT_LICENSE_NUMBER'],inplace=True)"
   ]
  },
  {
   "cell_type": "code",
   "execution_count": 38,
   "id": "c564477b-b33f-48e6-956b-1ce234d9881b",
   "metadata": {},
   "outputs": [],
   "source": [
    "# cleaning the address column and filling the missing values with the empty space\n",
    "main['PROPERTY_ADDRESS_LINE2'] = main['PROPERTY_ADDRESS_LINE2'].fillna(' ')"
   ]
  },
  {
   "cell_type": "code",
   "execution_count": 39,
   "id": "aac83a7c-5f44-43ce-a73a-32c640753c9d",
   "metadata": {},
   "outputs": [],
   "source": [
    "main['AGENCY_PHYSICAL_ADDRESS_LINE_2']=main['AGENCY_PHYSICAL_ADDRESS_LINE_2'].fillna(' ')"
   ]
  },
  {
   "cell_type": "code",
   "execution_count": 41,
   "id": "3689c094-28b6-41fd-94d1-4a1469645c87",
   "metadata": {},
   "outputs": [],
   "source": [
    "inds = main.loc[main['AGENCY_PHYSICAL_ADDRESS_LINE_1'].isna()].index\n",
    "main.drop(index=inds,inplace=True)"
   ]
  },
  {
   "cell_type": "code",
   "execution_count": 43,
   "id": "9b350632-b4e6-4696-9ad0-651fa7038f5c",
   "metadata": {},
   "outputs": [],
   "source": [
    "# fill missing values with mode\n",
    "main['POLICY_ENDORSEMENT_NUMBER'] = main['POLICY_ENDORSEMENT_NUMBER'].fillna(main['POLICY_ENDORSEMENT_NUMBER'].mode()[0])"
   ]
  },
  {
   "cell_type": "code",
   "execution_count": 44,
   "id": "3ccc888e-ce6c-496f-b7fb-b9c41fd86c91",
   "metadata": {},
   "outputs": [],
   "source": [
    "# if there are missing values still, you can remove it\n",
    "inds = main.loc[main['PROPERTY_ADDRESS_LINE1'].isna()].index\n",
    "main.drop(index=inds,inplace=True)"
   ]
  },
  {
   "cell_type": "code",
   "execution_count": 45,
   "id": "f05f0c6a-848f-4534-b278-2b0662bcce2b",
   "metadata": {},
   "outputs": [],
   "source": [
    "# combiningh the address line 1 and address line 2 into one\n",
    "main['PROPERTY_ADDRESS']=main['PROPERTY_ADDRESS_LINE1']+' '+ main['PROPERTY_ADDRESS_LINE2']\n",
    "main['AGENCY_ADDRESS']=main['AGENCY_PHYSICAL_ADDRESS_LINE_1']+' '+main['AGENCY_PHYSICAL_ADDRESS_LINE_2']"
   ]
  },
  {
   "cell_type": "code",
   "execution_count": 46,
   "id": "28a0fd68-da68-4e82-839a-3a93312b7b60",
   "metadata": {},
   "outputs": [],
   "source": [
    "# removing any useless columns\n",
    "main.drop(columns=['PROPERTY_ADDRESS_LINE1','PROPERTY_ADDRESS_LINE2','AGENCY_PHYSICAL_ADDRESS_LINE_1','AGENCY_PHYSICAL_ADDRESS_LINE_2'],inplace=True)"
   ]
  },
  {
   "cell_type": "code",
   "execution_count": 49,
   "id": "7a131970-9394-4596-afca-fa21d763c776",
   "metadata": {},
   "outputs": [],
   "source": [
    "# create a new column which uses the PRIOR_POLICY_NUMBER and make it a categorical variable\n",
    "main['PRIOR_POLICY_NUMBER'] = np.where(main['PRIOR_POLICY_NUMBER'].str.startswith('FRJ'),'Yes','No')"
   ]
  },
  {
   "cell_type": "code",
   "execution_count": 53,
   "id": "f0c3443e-5379-4ffd-b18c-febfc57f1fcf",
   "metadata": {},
   "outputs": [],
   "source": [
    "# convert it to a datetime formaty\n",
    "main['PURCHASED_LEASED_DATE'] = pd.to_datetime(main['PURCHASED_LEASED_DATE'], errors='coerce')"
   ]
  },
  {
   "cell_type": "code",
   "execution_count": 54,
   "id": "af9808e1-289b-4f75-b421-21b137b8312f",
   "metadata": {},
   "outputs": [
    {
     "data": {
      "text/plain": [
       "Int64Index([40559, 136489, 270886, 544020, 892819], dtype='int64')"
      ]
     },
     "execution_count": 54,
     "metadata": {},
     "output_type": "execute_result"
    }
   ],
   "source": [
    "# remove nulls\n",
    "inds = main.loc[main['PURCHASED_LEASED_DATE'].isna()].index\n",
    "inds"
   ]
  },
  {
   "cell_type": "code",
   "execution_count": 55,
   "id": "f4f33f70-a16a-4a8f-acf0-196366784d81",
   "metadata": {},
   "outputs": [],
   "source": [
    "# drop them\n",
    "main.drop(index=inds,inplace=True)"
   ]
  },
  {
   "cell_type": "code",
   "execution_count": 56,
   "id": "1ce3edf2-3e69-4df0-b67d-4bed505f9a0d",
   "metadata": {},
   "outputs": [
    {
     "data": {
      "text/plain": [
       "POLICY_NUMBER                       0\n",
       "POLICY_TERM_NUMBER                  0\n",
       "POLICY_ENDORSEMENT_NUMBER           0\n",
       "ACCOUNTING_COMPANY                  0\n",
       "POLICY_TYPE                         0\n",
       "PRIOR_POLICY_NUMBER                 0\n",
       "PURCHASED_LEASED_DATE               0\n",
       "BILLING_METHOD                      0\n",
       "PAY_PLAN                            0\n",
       "PROPERTY_CITY                       0\n",
       "PROPERTY_STATE                      0\n",
       "PROPERTY_ZIPCODE                    0\n",
       "PROPERTY_COUNTY                     0\n",
       "AGENCY_NAME                         0\n",
       "AGENCY_FEIN                         0\n",
       "AGENCY_PHYSICAL_ADDRESS_CITY        0\n",
       "AGENCY_PHYSICAL_ADDRESS_STATE       0\n",
       "AGENCY_PHYSICAL_ADDRESS_ZIP_CODE    0\n",
       "PROPERTY_ADDRESS                    0\n",
       "AGENCY_ADDRESS                      0\n",
       "dtype: int64"
      ]
     },
     "execution_count": 56,
     "metadata": {},
     "output_type": "execute_result"
    }
   ],
   "source": [
    "main.isna().sum()"
   ]
  },
  {
   "cell_type": "code",
   "execution_count": 57,
   "id": "44ecafbc-577e-4c15-9b0e-fca7f99c4683",
   "metadata": {},
   "outputs": [],
   "source": [
    "# apply string functions to the address based columns and captialize them\n",
    "main[['PROPERTY_ADDRESS','PROPERTY_CITY','PROPERTY_COUNTY','PROPERTY_STATE']]  = main[['PROPERTY_ADDRESS','PROPERTY_CITY','PROPERTY_COUNTY','PROPERTY_STATE']].applymap(lambda x: x.strip().capitalize())"
   ]
  },
  {
   "cell_type": "code",
   "execution_count": 58,
   "id": "96771a5c-391b-4167-8c8f-304c42af1380",
   "metadata": {},
   "outputs": [],
   "source": [
    "# apply same as above for the agency columns\n",
    "main[['AGENCY_ADDRESS','AGENCY_PHYSICAL_ADDRESS_CITY','AGENCY_PHYSICAL_ADDRESS_STATE']]  = main[['AGENCY_ADDRESS','AGENCY_PHYSICAL_ADDRESS_CITY','AGENCY_PHYSICAL_ADDRESS_STATE']].applymap(lambda x: x.strip().capitalize())"
   ]
  },
  {
   "cell_type": "code",
   "execution_count": 61,
   "id": "4908d365-5948-44ae-b691-401a48b895c0",
   "metadata": {},
   "outputs": [],
   "source": [
    "## clean the zipcode by removing the FIPS code and converting it to String datatype\n",
    "main['PROPERTY_ZIPCODE'] = main['PROPERTY_ZIPCODE'].apply(lambda x: x.split('-')[0])\n",
    "main['AGENCY_PHYSICAL_ADDRESS_ZIP_CODE'] = main['AGENCY_PHYSICAL_ADDRESS_ZIP_CODE'].astype('str')\n",
    "main['AGENCY_PHYSICAL_ADDRESS_ZIP_CODE'] = main['AGENCY_PHYSICAL_ADDRESS_ZIP_CODE'].apply(lambda x: x.split('.')[0])"
   ]
  },
  {
   "cell_type": "code",
   "execution_count": 62,
   "id": "e4c6a8ee-24c9-4388-840c-876e7627bd4a",
   "metadata": {},
   "outputs": [],
   "source": [
    "# make sure they zipcode is of length 5 without loss of information\n",
    "main[['PROPERTY_ZIPCODE','AGENCY_PHYSICAL_ADDRESS_ZIP_CODE']]= main[['PROPERTY_ZIPCODE','AGENCY_PHYSICAL_ADDRESS_ZIP_CODE']].applymap(lambda x : x.zfill(5))"
   ]
  },
  {
   "cell_type": "code",
   "execution_count": 63,
   "id": "fac5b807-e088-4d2f-a030-f0d5ccea3e74",
   "metadata": {},
   "outputs": [
    {
     "data": {
      "text/plain": [
       "(894, 1004)"
      ]
     },
     "execution_count": 63,
     "metadata": {},
     "output_type": "execute_result"
    }
   ],
   "source": [
    "main['AGENCY_PHYSICAL_ADDRESS_ZIP_CODE'].nunique(),main['PROPERTY_ZIPCODE'].nunique()"
   ]
  },
  {
   "cell_type": "code",
   "execution_count": 64,
   "id": "2a6ecd16-fae7-4a1d-893b-6891d7051e2e",
   "metadata": {},
   "outputs": [
    {
     "data": {
      "text/plain": [
       "303"
      ]
     },
     "execution_count": 64,
     "metadata": {},
     "output_type": "execute_result"
    }
   ],
   "source": [
    "main.loc[~main['PROPERTY_ZIPCODE'].isin(main['AGENCY_PHYSICAL_ADDRESS_ZIP_CODE']),'PROPERTY_ZIPCODE'].nunique()"
   ]
  },
  {
   "cell_type": "code",
   "execution_count": 65,
   "id": "35273371-99fc-4410-93bc-20cefaf4d6f0",
   "metadata": {},
   "outputs": [],
   "source": [
    "# convetrt agencies name to lower case\n",
    "main['AGENCY_NAME'] = main['AGENCY_NAME'].apply(lambda x: x.strip().lower())"
   ]
  },
  {
   "cell_type": "code",
   "execution_count": 66,
   "id": "3d2d8b3a-8f0d-498b-a549-83412dad37cd",
   "metadata": {},
   "outputs": [
    {
     "data": {
      "text/plain": [
       "(5188, 5173)"
      ]
     },
     "execution_count": 66,
     "metadata": {},
     "output_type": "execute_result"
    }
   ],
   "source": [
    "main['AGENCY_NAME'].nunique(),main['AGENCY_FEIN'].nunique()"
   ]
  },
  {
   "cell_type": "code",
   "execution_count": 67,
   "id": "7cee0abe-6a77-4e95-8508-b0f9ebd1ced5",
   "metadata": {},
   "outputs": [],
   "source": [
    "main['AGENCY_FEIN'] = main['AGENCY_FEIN'].astype('str')\n",
    "main['AGENCY_FEIN'] = main['AGENCY_FEIN'].apply(lambda x: x.split('.')[0])"
   ]
  },
  {
   "cell_type": "code",
   "execution_count": 68,
   "id": "e47b2b03-ac29-4cd7-b943-3d07f0b17527",
   "metadata": {},
   "outputs": [],
   "source": [
    "main[['AGENCY_FEIN','AGENCY_NAME']] = main[['AGENCY_FEIN','AGENCY_NAME']].applymap(lambda x: x.strip())"
   ]
  },
  {
   "cell_type": "code",
   "execution_count": 70,
   "id": "55823703-7c88-4031-9ab8-28a0c5131490",
   "metadata": {},
   "outputs": [],
   "source": [
    "# save as version_1\n",
    "main.to_csv('meth_v1.csv',index_label=False)"
   ]
  },
  {
   "cell_type": "markdown",
   "id": "2e3793c6-a2f4-45be-8d78-71ba6a144e00",
   "metadata": {},
   "source": [
    "### Load again from methodology_v2.csv and merge it with the Rating dataframe"
   ]
  },
  {
   "cell_type": "code",
   "execution_count": 71,
   "id": "f79c434f-8679-4a79-b8d8-1ed2004f56cb",
   "metadata": {},
   "outputs": [
    {
     "data": {
      "text/plain": [
       "(1112817, 209)"
      ]
     },
     "execution_count": 71,
     "metadata": {},
     "output_type": "execute_result"
    }
   ],
   "source": [
    "rating.shape"
   ]
  },
  {
   "cell_type": "code",
   "execution_count": 72,
   "id": "918bb8b3-8746-4533-9337-1c623065980d",
   "metadata": {},
   "outputs": [],
   "source": [
    "main=pd.read_csv('./meth_v2.csv')"
   ]
  },
  {
   "cell_type": "code",
   "execution_count": 73,
   "id": "27a72076-4011-4619-a40c-a1190345a293",
   "metadata": {},
   "outputs": [
    {
     "data": {
      "text/plain": [
       "(1048551, 20)"
      ]
     },
     "execution_count": 73,
     "metadata": {},
     "output_type": "execute_result"
    }
   ],
   "source": [
    "main.shape"
   ]
  },
  {
   "cell_type": "code",
   "execution_count": 74,
   "id": "25bc33f5-0d3e-4217-befd-50fa70f3cc06",
   "metadata": {},
   "outputs": [
    {
     "data": {
      "text/plain": [
       "(dtype('int64'), dtype('O'))"
      ]
     },
     "execution_count": 74,
     "metadata": {},
     "output_type": "execute_result"
    }
   ],
   "source": [
    "main['POLICY_NUMBER'].dtypes,rating['POLICY_NUMBER'].dtypes"
   ]
  },
  {
   "cell_type": "code",
   "execution_count": 75,
   "id": "7c367d02-5ec4-4234-97fd-180754dc5d8a",
   "metadata": {},
   "outputs": [],
   "source": [
    "# convert to appropriate datatypes\n",
    "main['POLICY_NUMBER'] = main['POLICY_NUMBER'].astype('str')\n",
    "main['POLICY_NUMBER'] = main['POLICY_NUMBER'].apply(lambda x: x.zfill(8))"
   ]
  },
  {
   "cell_type": "code",
   "execution_count": 77,
   "id": "ddb85b82-9ee4-404a-a0ce-b780d4dd866f",
   "metadata": {},
   "outputs": [],
   "source": [
    "main.drop(columns=['POLICY_TERM_NUMBER','POLICY_ENDORSEMENT_NUMBER','ACCOUNTING_COMPANY','POLICY_TYPE'],inplace=True)"
   ]
  },
  {
   "cell_type": "code",
   "execution_count": 78,
   "id": "4ee30976-ae73-4838-bf43-0dbaa049401b",
   "metadata": {},
   "outputs": [],
   "source": [
    "# drop duplicates from the main dataframe\n",
    "main.drop_duplicates(subset='POLICY_NUMBER',ignore_index=True,inplace=True)"
   ]
  },
  {
   "cell_type": "code",
   "execution_count": 79,
   "id": "2ca89b81-6f00-4878-8ddf-193a64b46b04",
   "metadata": {},
   "outputs": [
    {
     "data": {
      "text/plain": [
       "(1033164, 16)"
      ]
     },
     "execution_count": 79,
     "metadata": {},
     "output_type": "execute_result"
    }
   ],
   "source": [
    "main.shape"
   ]
  },
  {
   "cell_type": "code",
   "execution_count": 81,
   "id": "1b6d3768-ae8e-4f31-ac18-6092e0347d4e",
   "metadata": {},
   "outputs": [],
   "source": [
    "# maerge on rating\n",
    "df = rating.merge(main,on='POLICY_NUMBER',how='inner')"
   ]
  },
  {
   "cell_type": "code",
   "execution_count": 82,
   "id": "93ee1ba8-d675-4510-a4a5-ec73371d5de7",
   "metadata": {},
   "outputs": [
    {
     "data": {
      "text/plain": [
       "(1033164, 224)"
      ]
     },
     "execution_count": 82,
     "metadata": {},
     "output_type": "execute_result"
    }
   ],
   "source": [
    "df.shape"
   ]
  },
  {
   "cell_type": "code",
   "execution_count": 84,
   "id": "2aa398db-2dd7-41a9-a7bb-81d416bf406a",
   "metadata": {},
   "outputs": [],
   "source": [
    "for i in df.columns:\n",
    "    k = df.loc[df['POLICY_NUMBER']=='03882605',i].unique()\n",
    "    if len(k)>1:\n",
    "        print(i)"
   ]
  },
  {
   "cell_type": "code",
   "execution_count": 86,
   "id": "709f8e74-a4df-414c-bce6-6ed87683f773",
   "metadata": {},
   "outputs": [],
   "source": [
    "df.drop(columns=['PRIOR_POLICY_NUMBER_x'],inplace=True)"
   ]
  },
  {
   "cell_type": "code",
   "execution_count": 87,
   "id": "59e469cb-58a8-4a7c-a603-2de566d8cecb",
   "metadata": {},
   "outputs": [
    {
     "data": {
      "text/plain": [
       "Index(['INSPECTION_COMPANY_NAME', 'INSPECTOR_FIRST_NAME',\n",
       "       'INSPECTOR_LAST_NAME', 'INSPECTION_TYPE', 'INSPECTOR_LICENSE_TYPE',\n",
       "       'INSPECTOR_LICENSE_NUMBER'],\n",
       "      dtype='object')"
      ]
     },
     "execution_count": 87,
     "metadata": {},
     "output_type": "execute_result"
    }
   ],
   "source": [
    "inspection_cols = df.columns[df.columns.str.startswith('INSP')]\n",
    "inspection_cols"
   ]
  },
  {
   "cell_type": "code",
   "execution_count": 88,
   "id": "e765ed11-c5b7-46c8-98d5-e994bb6ad092",
   "metadata": {},
   "outputs": [
    {
     "data": {
      "text/plain": [
       "array(['INSPECTION_COMPANY_NAME', 'INSPECTOR_FIRST_NAME',\n",
       "       'INSPECTOR_LAST_NAME', 'INSPECTION_TYPE', 'INSPECTOR_LICENSE_TYPE',\n",
       "       'INSPECTOR_LICENSE_NUMBER'], dtype=object)"
      ]
     },
     "execution_count": 88,
     "metadata": {},
     "output_type": "execute_result"
    }
   ],
   "source": [
    "inspection_cols =np.array(inspection_cols)\n",
    "inspection_cols"
   ]
  },
  {
   "cell_type": "code",
   "execution_count": 89,
   "id": "36366ba8-b46d-4284-bc9d-786ede27a078",
   "metadata": {},
   "outputs": [],
   "source": [
    "inspection_cols = np.append(inspection_cols,'FOUR_POINT_INSPECTION_DATE')"
   ]
  },
  {
   "cell_type": "code",
   "execution_count": 90,
   "id": "6fdf903a-ead6-4f99-a062-846a6c0a51d3",
   "metadata": {},
   "outputs": [],
   "source": [
    "df.drop(columns=inspection_cols,inplace=True)"
   ]
  },
  {
   "cell_type": "code",
   "execution_count": 91,
   "id": "b7c0fd61-aab4-4595-94aa-d311ebe1ec05",
   "metadata": {},
   "outputs": [
    {
     "data": {
      "text/plain": [
       "array(['RENTAL_FREQUENCY', 'OWNER_OCCUPIED_PCT', 'POOL_FENCE_HEIGHT',\n",
       "       'MH_HAS_SKIRTING', 'FLOOD_INSURER_NAME', 'FLOOD_POLICY_NUMBER',\n",
       "       'FLOOD_POLICY_EFFECTIVE_DATE', 'FLOOD_BUILDING_LIMIT',\n",
       "       'FLOOD_CONTENTS_LIMIT', 'FHCF_STATUS', 'IS_PRIMARY_HEAT_PORTABLE',\n",
       "       'IS_PRIMARY_HEAT_OPEN_FLAME',\n",
       "       'IS_PRIMARY_HEAT_FIREPLACE_OR_WOOD_STOVE', 'REMAINING_ROOF_LIFE',\n",
       "       'PLUMBING_UPDATE_YEAR', 'HEATING_UPDATE_YEAR',\n",
       "       'WIRING_UPDATE_YEAR', 'CLASS_C_TYPE', 'FBC_WIND_SPEED',\n",
       "       'FBC_WIND_DESIGN', 'WINDSTORM_PROTECTIVE_DEVICES',\n",
       "       'VALUATION_SOURCE', 'ALTERNATE_VALUATION_REPLACEMENT_COST',\n",
       "       'ACTUAL_CASH_VALUE', 'STATED_VALUE_AMOUNT',\n",
       "       'STATED_VALUATION_SOURCE', 'ALTERNATE_VALUE_AMOUNT',\n",
       "       'RENOVATION_OCCUPIED', 'RENOVATION_COMPLETION_DATE',\n",
       "       'BURGLAR_ALARM_TYPE', 'MOBILE_HOME_MANUFACTURER',\n",
       "       'MOBILE_HOME_SECTION_LENGTH_FT', 'MOBILE_HOME_SECTION_WIDTH_FT',\n",
       "       'MOBILE_HOME_SERIAL_NUMBER', 'MOBILE_HOME_INSTALATION_DATE',\n",
       "       'MOBILE_HOME_CREDIT_ANSI_ASCE',\n",
       "       'MOBILE_HOME_IS_PERMANENTLY_INSTALLED', 'MOBILE_HOME_LOCATION',\n",
       "       'MOBILE_HOME_PARK', 'MOBILE_HOME_PARK_CONTACT',\n",
       "       'MOBILE_HOME_PARK_EXCEEDS_20_UNITS',\n",
       "       'MOBILE_HOME_PARK_PAVED_STREETS',\n",
       "       'MOBILE_HOME_PARK_LIMITED_ACCESS',\n",
       "       'MOBILE_HOME_SUBDIVISION_LESS_THAN_3_ACRES',\n",
       "       'MOBILE_HOME_NEIGHBORS_WITHIN_300_FT',\n",
       "       'MOBILE_HOME_SUBDIVISION_EXCEEDS_21_UNITS',\n",
       "       'COVERAGE_LEINHOLDER_SINGLE_INTEREST',\n",
       "       'SINKHOLE_DEDUCTIBLE_PERCENT'], dtype=object)"
      ]
     },
     "execution_count": 91,
     "metadata": {},
     "output_type": "execute_result"
    }
   ],
   "source": [
    "# drop the columns with missing values greater than 40%\n",
    "cols= get_missing_values(df,40)\n",
    "cols"
   ]
  },
  {
   "cell_type": "code",
   "execution_count": 92,
   "id": "4170bb50-b8d5-4be3-9d3e-f122d4dd2bd5",
   "metadata": {},
   "outputs": [
    {
     "data": {
      "text/plain": [
       "48"
      ]
     },
     "execution_count": 92,
     "metadata": {},
     "output_type": "execute_result"
    }
   ],
   "source": [
    "len(cols)"
   ]
  },
  {
   "cell_type": "code",
   "execution_count": 93,
   "id": "a2b620ba-2f84-4f28-af18-e1de38863ae9",
   "metadata": {},
   "outputs": [],
   "source": [
    "df.drop(columns=cols,inplace=True)"
   ]
  },
  {
   "cell_type": "code",
   "execution_count": 94,
   "id": "cd2431af-c812-439d-bf36-1e3b6713883b",
   "metadata": {},
   "outputs": [
    {
     "data": {
      "text/plain": [
       "(1033164, 168)"
      ]
     },
     "execution_count": 94,
     "metadata": {},
     "output_type": "execute_result"
    }
   ],
   "source": [
    "df.shape"
   ]
  },
  {
   "cell_type": "code",
   "execution_count": null,
   "id": "b656d5e8-6a73-4d11-89fd-95054db02b7e",
   "metadata": {},
   "outputs": [],
   "source": [
    "df.to_csv('meth_v3.csv',index_label=False)"
   ]
  },
  {
   "cell_type": "code",
   "execution_count": 1,
   "id": "bf0b69cd-1eec-49e6-b69a-a29cff698cb2",
   "metadata": {},
   "outputs": [],
   "source": [
    "## Load the Data_cleaning_v2.ipynb with meth_v3.csv file"
   ]
  },
  {
   "cell_type": "code",
   "execution_count": null,
   "id": "dfe08fb8-48be-41a9-ad9e-a92016bb03da",
   "metadata": {},
   "outputs": [],
   "source": []
  }
 ],
 "metadata": {
  "kernelspec": {
   "display_name": "Python 3 (ipykernel)",
   "language": "python",
   "name": "python3"
  },
  "language_info": {
   "codemirror_mode": {
    "name": "ipython",
    "version": 3
   },
   "file_extension": ".py",
   "mimetype": "text/x-python",
   "name": "python",
   "nbconvert_exporter": "python",
   "pygments_lexer": "ipython3",
   "version": "3.9.16"
  }
 },
 "nbformat": 4,
 "nbformat_minor": 5
}
