{
 "cells": [
  {
   "cell_type": "markdown",
   "metadata": {},
   "source": [
    "## Loading the libraries"
   ]
  },
  {
   "cell_type": "code",
   "execution_count": 1,
   "metadata": {
    "id": "TWIXlMBrtXuX"
   },
   "outputs": [],
   "source": [
    "import pandas as pd\n",
    "import numpy as np\n",
    "from keras.models import Sequential\n",
    "from keras.layers import Dense\n",
    "from sklearn.model_selection import train_test_split\n",
    "from keras.utils import np_utils\n",
    "import tensorflow as tf\n",
    "from tensorflow import keras\n",
    "from tensorflow.keras.callbacks import EarlyStopping\n",
    "from sklearn.preprocessing import LabelEncoder\n",
    "import seaborn as sns"
   ]
  },
  {
   "cell_type": "markdown",
   "metadata": {},
   "source": [
    "## loading the data"
   ]
  },
  {
   "cell_type": "code",
   "execution_count": 2,
   "metadata": {
    "colab": {
     "base_uri": "https://localhost:8080/"
    },
    "id": "09ZjFZKEtdN8",
    "outputId": "9c5abbf0-e742-49c9-fd16-08e23a45310d"
   },
   "outputs": [
    {
     "name": "stdout",
     "output_type": "stream",
     "text": [
      "Downloading...\n",
      "From: https://drive.google.com/uc?id=148pw0gWc4N2tCLGiMw_yW3pXbN1uso4N\n",
      "To: /content/Premium_Prediction.csv\n",
      "100% 89.6M/89.6M [00:01<00:00, 77.7MB/s]\n"
     ]
    }
   ],
   "source": [
    "!gdown 148pw0gWc4N2tCLGiMw_yW3pXbN1uso4N"
   ]
  },
  {
   "cell_type": "code",
   "execution_count": 3,
   "metadata": {
    "id": "reoQxfRUtnAD"
   },
   "outputs": [],
   "source": [
    "df = pd.read_csv('/content/Premium_Prediction.csv')"
   ]
  },
  {
   "cell_type": "markdown",
   "metadata": {},
   "source": [
    "## Train and Test Split"
   ]
  },
  {
   "cell_type": "code",
   "execution_count": 4,
   "metadata": {
    "id": "5bYQskF6zr8l"
   },
   "outputs": [],
   "source": [
    "train_len = df.shape[0]*0.80\n",
    "test_len= df.shape[0]-train_len\n",
    "test_len\n",
    "train_set =df.iloc[0:int(train_len)]\n",
    "test_set =df.iloc[int(train_len):]"
   ]
  },
  {
   "cell_type": "code",
   "execution_count": 5,
   "metadata": {
    "colab": {
     "base_uri": "https://localhost:8080/"
    },
    "id": "qT3u1_5A0GDL",
    "outputId": "05e84f36-d727-42dd-fbe7-05a6e4ff23fd"
   },
   "outputs": [
    {
     "data": {
      "text/plain": [
       "((783404, 20), (195851, 20))"
      ]
     },
     "execution_count": 5,
     "metadata": {},
     "output_type": "execute_result"
    }
   ],
   "source": [
    "train_set.shape,test_set.shape"
   ]
  },
  {
   "cell_type": "code",
   "execution_count": 6,
   "metadata": {
    "id": "bpvDA6TT0M1A"
   },
   "outputs": [],
   "source": [
    "labels_categorical=train_set['POLICY_TYPE']\n",
    "labels_continuous=train_set['TOTAL_PREMIUM']"
   ]
  },
  {
   "cell_type": "code",
   "execution_count": 7,
   "metadata": {
    "id": "3uCn03UWt-02"
   },
   "outputs": [],
   "source": [
    "X = train_set.drop(columns=['TOTAL_PREMIUM','POLICY_TYPE'])"
   ]
  },
  {
   "cell_type": "code",
   "execution_count": 8,
   "metadata": {
    "colab": {
     "base_uri": "https://localhost:8080/"
    },
    "id": "DBrPuU1CuF5F",
    "outputId": "7723ad63-142c-46d8-acc8-a2b7bb3bc0e3"
   },
   "outputs": [
    {
     "data": {
      "text/plain": [
       "((783404, 18), (783404,), (783404,))"
      ]
     },
     "execution_count": 8,
     "metadata": {},
     "output_type": "execute_result"
    }
   ],
   "source": [
    "X.shape,labels_categorical.shape,labels_continuous.shape"
   ]
  },
  {
   "cell_type": "markdown",
   "metadata": {},
   "source": [
    "## Encoding the data"
   ]
  },
  {
   "cell_type": "code",
   "execution_count": 9,
   "metadata": {
    "id": "AlclEhhr6JMU"
   },
   "outputs": [],
   "source": [
    "# using label encoder to encode the text to numbers\n",
    "encoder = LabelEncoder()\n",
    "encoder.fit(labels_categorical)\n",
    "encoded_Y = encoder.transform(labels_categorical)\n",
    "# convert integers to dummy variables (i.e. one hot encoded)\n",
    "dummy_y = np_utils.to_categorical(encoded_Y)"
   ]
  },
  {
   "cell_type": "code",
   "execution_count": 10,
   "metadata": {
    "colab": {
     "base_uri": "https://localhost:8080/"
    },
    "id": "Wn-BNdk663RY",
    "outputId": "86c2177b-6be2-4f9d-c881-255143911f54"
   },
   "outputs": [
    {
     "data": {
      "text/plain": [
       "((783404, 18), (783404, 15), (783404,))"
      ]
     },
     "execution_count": 10,
     "metadata": {},
     "output_type": "execute_result"
    }
   ],
   "source": [
    "X.shape,dummy_y.shape,labels_continuous.shape"
   ]
  },
  {
   "cell_type": "markdown",
   "metadata": {},
   "source": [
    "## Model Architecture and Training"
   ]
  },
  {
   "cell_type": "code",
   "execution_count": 11,
   "metadata": {
    "colab": {
     "base_uri": "https://localhost:8080/"
    },
    "id": "crujg_XsuYsu",
    "outputId": "c8af3e82-fa05-497b-f218-13ce8193b788"
   },
   "outputs": [
    {
     "name": "stdout",
     "output_type": "stream",
     "text": [
      "Epoch 1/10\n",
      "24482/24482 [==============================] - 93s 4ms/step - loss: 10956027.0000 - output1_loss: 10955723.0000 - output2_loss: 295.2961 - output1_mae: 2715.0315 - output1_accuracy: 0.0000e+00 - output2_mae: 0.0270 - output2_accuracy: 0.7972\n",
      "Epoch 2/10\n",
      "24482/24482 [==============================] - 87s 4ms/step - loss: 1946978.7500 - output1_loss: 1946963.3750 - output2_loss: 16.0825 - output1_mae: 1002.8269 - output1_accuracy: 0.0000e+00 - output2_mae: 0.0291 - output2_accuracy: 0.7823\n",
      "Epoch 3/10\n",
      "24482/24482 [==============================] - 87s 4ms/step - loss: 1891523.2500 - output1_loss: 1891509.8750 - output2_loss: 13.2180 - output1_mae: 986.5628 - output1_accuracy: 0.0000e+00 - output2_mae: 0.0286 - output2_accuracy: 0.7861\n",
      "Epoch 4/10\n",
      "24482/24482 [==============================] - 87s 4ms/step - loss: 1842538.8750 - output1_loss: 1842527.6250 - output2_loss: 11.8642 - output1_mae: 976.6591 - output1_accuracy: 0.0000e+00 - output2_mae: 0.0307 - output2_accuracy: 0.7703\n",
      "Epoch 5/10\n",
      "24482/24482 [==============================] - 86s 4ms/step - loss: 1818254.1250 - output1_loss: 1818241.1250 - output2_loss: 12.8501 - output1_mae: 973.4335 - output1_accuracy: 0.0000e+00 - output2_mae: 0.0314 - output2_accuracy: 0.7656\n",
      "Epoch 6/10\n",
      "24482/24482 [==============================] - 87s 4ms/step - loss: 1808479.5000 - output1_loss: 1808466.0000 - output2_loss: 13.0219 - output1_mae: 971.7225 - output1_accuracy: 0.0000e+00 - output2_mae: 0.0322 - output2_accuracy: 0.7595\n",
      "Epoch 7/10\n",
      "24482/24482 [==============================] - 85s 3ms/step - loss: 1801046.3750 - output1_loss: 1801033.0000 - output2_loss: 13.2999 - output1_mae: 970.6793 - output1_accuracy: 0.0000e+00 - output2_mae: 0.0329 - output2_accuracy: 0.7538\n",
      "Epoch 8/10\n",
      "24482/24482 [==============================] - 82s 3ms/step - loss: 1793449.3750 - output1_loss: 1793434.7500 - output2_loss: 13.3993 - output1_mae: 969.1926 - output1_accuracy: 0.0000e+00 - output2_mae: 0.0333 - output2_accuracy: 0.7506\n",
      "Epoch 9/10\n",
      "24482/24482 [==============================] - 83s 3ms/step - loss: 1790544.6250 - output1_loss: 1790531.1250 - output2_loss: 13.5307 - output1_mae: 969.5149 - output1_accuracy: 0.0000e+00 - output2_mae: 0.0338 - output2_accuracy: 0.7474\n",
      "Epoch 10/10\n",
      "24482/24482 [==============================] - 83s 3ms/step - loss: 1785287.8750 - output1_loss: 1785273.6250 - output2_loss: 13.4879 - output1_mae: 968.0999 - output1_accuracy: 0.0000e+00 - output2_mae: 0.0334 - output2_accuracy: 0.7505\n"
     ]
    },
    {
     "data": {
      "text/plain": [
       "<keras.callbacks.History at 0x7f6da6982e50>"
      ]
     },
     "execution_count": 11,
     "metadata": {},
     "output_type": "execute_result"
    }
   ],
   "source": [
    "import tensorflow as tf\n",
    "from tensorflow.keras.layers import Input, Dense, concatenate\n",
    "from tensorflow.keras.models import Model\n",
    "\n",
    "# Define inputs\n",
    "input1 = Input(shape=(18,))\n",
    "\n",
    "# Define layers\n",
    "dense1 = Dense(256, activation='relu')(input1)\n",
    "dense2 = Dense(64, activation='relu')(dense1)\n",
    "dense3 = Dense(32, activation='relu')(dense2)\n",
    "\n",
    "# Concatenate layers\n",
    "merge = concatenate([dense1, dense2, dense3])\n",
    "\n",
    "# Output layer for continuous variable\n",
    "output1 = Dense(1, activation='relu', name='output1')(merge)\n",
    "\n",
    "# Output layer for categorical variable\n",
    "output2 = Dense(15, activation='softmax', name='output2')(merge)\n",
    "\n",
    "# Define the model\n",
    "model = Model(inputs=[input1], outputs=[output1, output2])\n",
    "\n",
    "# Define loss functions for both outputs\n",
    "losses = {\n",
    "    \"output1\": \"mse\",\n",
    "    \"output2\": \"categorical_crossentropy\"\n",
    "}\n",
    "\n",
    "# Compile the model with the loss functions and weights\n",
    "model.compile(optimizer='adam', loss=losses, metrics=['mae','accuracy'])\n",
    "\n",
    "# Train the model with your data\n",
    "model.fit([X], [labels_continuous,dummy_y], epochs=10, batch_size=32,)\n"
   ]
  },
  {
   "cell_type": "markdown",
   "metadata": {},
   "source": [
    "## Model testing"
   ]
  },
  {
   "cell_type": "code",
   "execution_count": 12,
   "metadata": {
    "id": "3oO4Pdal_GCE"
   },
   "outputs": [],
   "source": [
    "# encoding for the test data\n",
    "labels_categorical_test=test_set['POLICY_TYPE']\n",
    "labels_continuous_test=test_set['TOTAL_PREMIUM']"
   ]
  },
  {
   "cell_type": "code",
   "execution_count": 13,
   "metadata": {
    "id": "L842yLQBBeyh"
   },
   "outputs": [],
   "source": [
    "X_test = test_set.drop(columns=['TOTAL_PREMIUM','POLICY_TYPE'])"
   ]
  },
  {
   "cell_type": "code",
   "execution_count": 14,
   "metadata": {
    "id": "cqbdul6gBjTo"
   },
   "outputs": [],
   "source": [
    "encoder1 = LabelEncoder()\n",
    "encoder1.fit(labels_categorical_test)\n",
    "encoded_Y_test = encoder1.transform(labels_categorical_test)\n",
    "# convert integers to dummy variables (i.e. one hot encoded)\n",
    "dummy_y_test = np_utils.to_categorical(encoded_Y_test)"
   ]
  },
  {
   "cell_type": "code",
   "execution_count": 15,
   "metadata": {
    "colab": {
     "base_uri": "https://localhost:8080/"
    },
    "id": "nu-O0266B1bj",
    "outputId": "67861001-f92d-4f36-8761-d3a325ea40e5"
   },
   "outputs": [
    {
     "name": "stdout",
     "output_type": "stream",
     "text": [
      "6121/6121 [==============================] - 15s 2ms/step\n"
     ]
    }
   ],
   "source": [
    "y1,y2 = model.predict(X_test)"
   ]
  },
  {
   "cell_type": "markdown",
   "metadata": {},
   "source": [
    "## Evaluation"
   ]
  },
  {
   "cell_type": "code",
   "execution_count": 16,
   "metadata": {
    "id": "1LMRmUwxE0mQ"
   },
   "outputs": [],
   "source": [
    "from sklearn.metrics import confusion_matrix,classification_report,f1_score"
   ]
  },
  {
   "cell_type": "code",
   "execution_count": 17,
   "metadata": {
    "colab": {
     "base_uri": "https://localhost:8080/"
    },
    "id": "Q2uTxSyDCSOp",
    "outputId": "49d217e3-f7a6-48e7-d1eb-5e8779cf063f"
   },
   "outputs": [
    {
     "name": "stdout",
     "output_type": "stream",
     "text": [
      "0.7482378629717167\n"
     ]
    }
   ],
   "source": [
    "print(f1_score(dummy_y_test.argmax(axis=1), y2.argmax(axis=1),average='weighted'))"
   ]
  },
  {
   "cell_type": "code",
   "execution_count": 38,
   "metadata": {
    "id": "eocYQKD9AwDv"
   },
   "outputs": [],
   "source": [
    "l_policy_type_classes={0:'DP-1',1:'DP-3',2:\"DW-2\",3:'HO-3',4:'HO-4',5:'HO-6',6:'HO-8',7:'HW-2',8:'HW-4',9:'HW-6',10:'MD-1',11:'MDP-1',12:'MHO-3',13:'MHO-4',14:'MW-2'}"
   ]
  },
  {
   "cell_type": "code",
   "execution_count": 51,
   "metadata": {
    "colab": {
     "base_uri": "https://localhost:8080/",
     "height": 145
    },
    "id": "wDkWEdziBfOK",
    "outputId": "6c402810-acbe-4c00-82ff-da355e86b235"
   },
   "outputs": [
    {
     "data": {
      "text/html": [
       "\n",
       "  <div id=\"df-c428e310-243f-4da6-a28a-8939e22961eb\">\n",
       "    <div class=\"colab-df-container\">\n",
       "      <div>\n",
       "<style scoped>\n",
       "    .dataframe tbody tr th:only-of-type {\n",
       "        vertical-align: middle;\n",
       "    }\n",
       "\n",
       "    .dataframe tbody tr th {\n",
       "        vertical-align: top;\n",
       "    }\n",
       "\n",
       "    .dataframe thead th {\n",
       "        text-align: right;\n",
       "    }\n",
       "</style>\n",
       "<table border=\"1\" class=\"dataframe\">\n",
       "  <thead>\n",
       "    <tr style=\"text-align: right;\">\n",
       "      <th></th>\n",
       "      <th>HAS_POOL</th>\n",
       "      <th>IS_DWELLING_ON_MASONARY</th>\n",
       "      <th>IS_MOBILE_HOME</th>\n",
       "      <th>CONSTRUCTION</th>\n",
       "      <th>TOTAL_AREA_OF_BUILDING_SQFEET</th>\n",
       "      <th>REPLACEMENT_COST</th>\n",
       "      <th>OCCUPANCY</th>\n",
       "      <th>COVERAGE_A_DWELLING</th>\n",
       "      <th>COVERAGE_A_LOSS_SETTLEMENT</th>\n",
       "      <th>COVERAGE_C_PERSONAL_PROPERTY_AMOUNT</th>\n",
       "      <th>COVERAGE_C_LOSS_SETTLEMENT</th>\n",
       "      <th>COVERAGE_D_LOSS_OF_USE</th>\n",
       "      <th>SINKHOLE_LOSS_COVERAGE</th>\n",
       "      <th>HURRICANE_DEDUCTIBLE_AMOUNT</th>\n",
       "      <th>SINKHOLE_DEDUCTIBLE_AMOUNT</th>\n",
       "      <th>WIND_HAIL_DEDUCTIBLE_AMOUNT</th>\n",
       "      <th>MEDIAN_HOUSEHOLD_INCOME</th>\n",
       "      <th>PROPERTY_AGE</th>\n",
       "    </tr>\n",
       "  </thead>\n",
       "  <tbody>\n",
       "    <tr>\n",
       "      <th>800363</th>\n",
       "      <td>0</td>\n",
       "      <td>1</td>\n",
       "      <td>0</td>\n",
       "      <td>1</td>\n",
       "      <td>1107.0</td>\n",
       "      <td>212300.0</td>\n",
       "      <td>0</td>\n",
       "      <td>208100.0</td>\n",
       "      <td>1</td>\n",
       "      <td>52030.0</td>\n",
       "      <td>0</td>\n",
       "      <td>20810.0</td>\n",
       "      <td>0</td>\n",
       "      <td>4162.0</td>\n",
       "      <td>0.0</td>\n",
       "      <td>0.0</td>\n",
       "      <td>46806.0</td>\n",
       "      <td>68</td>\n",
       "    </tr>\n",
       "  </tbody>\n",
       "</table>\n",
       "</div>\n",
       "      <button class=\"colab-df-convert\" onclick=\"convertToInteractive('df-c428e310-243f-4da6-a28a-8939e22961eb')\"\n",
       "              title=\"Convert this dataframe to an interactive table.\"\n",
       "              style=\"display:none;\">\n",
       "        \n",
       "  <svg xmlns=\"http://www.w3.org/2000/svg\" height=\"24px\"viewBox=\"0 0 24 24\"\n",
       "       width=\"24px\">\n",
       "    <path d=\"M0 0h24v24H0V0z\" fill=\"none\"/>\n",
       "    <path d=\"M18.56 5.44l.94 2.06.94-2.06 2.06-.94-2.06-.94-.94-2.06-.94 2.06-2.06.94zm-11 1L8.5 8.5l.94-2.06 2.06-.94-2.06-.94L8.5 2.5l-.94 2.06-2.06.94zm10 10l.94 2.06.94-2.06 2.06-.94-2.06-.94-.94-2.06-.94 2.06-2.06.94z\"/><path d=\"M17.41 7.96l-1.37-1.37c-.4-.4-.92-.59-1.43-.59-.52 0-1.04.2-1.43.59L10.3 9.45l-7.72 7.72c-.78.78-.78 2.05 0 2.83L4 21.41c.39.39.9.59 1.41.59.51 0 1.02-.2 1.41-.59l7.78-7.78 2.81-2.81c.8-.78.8-2.07 0-2.86zM5.41 20L4 18.59l7.72-7.72 1.47 1.35L5.41 20z\"/>\n",
       "  </svg>\n",
       "      </button>\n",
       "      \n",
       "  <style>\n",
       "    .colab-df-container {\n",
       "      display:flex;\n",
       "      flex-wrap:wrap;\n",
       "      gap: 12px;\n",
       "    }\n",
       "\n",
       "    .colab-df-convert {\n",
       "      background-color: #E8F0FE;\n",
       "      border: none;\n",
       "      border-radius: 50%;\n",
       "      cursor: pointer;\n",
       "      display: none;\n",
       "      fill: #1967D2;\n",
       "      height: 32px;\n",
       "      padding: 0 0 0 0;\n",
       "      width: 32px;\n",
       "    }\n",
       "\n",
       "    .colab-df-convert:hover {\n",
       "      background-color: #E2EBFA;\n",
       "      box-shadow: 0px 1px 2px rgba(60, 64, 67, 0.3), 0px 1px 3px 1px rgba(60, 64, 67, 0.15);\n",
       "      fill: #174EA6;\n",
       "    }\n",
       "\n",
       "    [theme=dark] .colab-df-convert {\n",
       "      background-color: #3B4455;\n",
       "      fill: #D2E3FC;\n",
       "    }\n",
       "\n",
       "    [theme=dark] .colab-df-convert:hover {\n",
       "      background-color: #434B5C;\n",
       "      box-shadow: 0px 1px 3px 1px rgba(0, 0, 0, 0.15);\n",
       "      filter: drop-shadow(0px 1px 2px rgba(0, 0, 0, 0.3));\n",
       "      fill: #FFFFFF;\n",
       "    }\n",
       "  </style>\n",
       "\n",
       "      <script>\n",
       "        const buttonEl =\n",
       "          document.querySelector('#df-c428e310-243f-4da6-a28a-8939e22961eb button.colab-df-convert');\n",
       "        buttonEl.style.display =\n",
       "          google.colab.kernel.accessAllowed ? 'block' : 'none';\n",
       "\n",
       "        async function convertToInteractive(key) {\n",
       "          const element = document.querySelector('#df-c428e310-243f-4da6-a28a-8939e22961eb');\n",
       "          const dataTable =\n",
       "            await google.colab.kernel.invokeFunction('convertToInteractive',\n",
       "                                                     [key], {});\n",
       "          if (!dataTable) return;\n",
       "\n",
       "          const docLinkHtml = 'Like what you see? Visit the ' +\n",
       "            '<a target=\"_blank\" href=https://colab.research.google.com/notebooks/data_table.ipynb>data table notebook</a>'\n",
       "            + ' to learn more about interactive tables.';\n",
       "          element.innerHTML = '';\n",
       "          dataTable['output_type'] = 'display_data';\n",
       "          await google.colab.output.renderOutput(dataTable, element);\n",
       "          const docLink = document.createElement('div');\n",
       "          docLink.innerHTML = docLinkHtml;\n",
       "          element.appendChild(docLink);\n",
       "        }\n",
       "      </script>\n",
       "    </div>\n",
       "  </div>\n",
       "  "
      ],
      "text/plain": [
       "        HAS_POOL  IS_DWELLING_ON_MASONARY  IS_MOBILE_HOME  CONSTRUCTION  \\\n",
       "800363         0                        1               0             1   \n",
       "\n",
       "        TOTAL_AREA_OF_BUILDING_SQFEET  REPLACEMENT_COST  OCCUPANCY  \\\n",
       "800363                         1107.0          212300.0          0   \n",
       "\n",
       "        COVERAGE_A_DWELLING  COVERAGE_A_LOSS_SETTLEMENT  \\\n",
       "800363             208100.0                           1   \n",
       "\n",
       "        COVERAGE_C_PERSONAL_PROPERTY_AMOUNT  COVERAGE_C_LOSS_SETTLEMENT  \\\n",
       "800363                              52030.0                           0   \n",
       "\n",
       "        COVERAGE_D_LOSS_OF_USE  SINKHOLE_LOSS_COVERAGE  \\\n",
       "800363                 20810.0                       0   \n",
       "\n",
       "        HURRICANE_DEDUCTIBLE_AMOUNT  SINKHOLE_DEDUCTIBLE_AMOUNT  \\\n",
       "800363                       4162.0                         0.0   \n",
       "\n",
       "        WIND_HAIL_DEDUCTIBLE_AMOUNT  MEDIAN_HOUSEHOLD_INCOME  PROPERTY_AGE  \n",
       "800363                          0.0                  46806.0            68  "
      ]
     },
     "execution_count": 51,
     "metadata": {},
     "output_type": "execute_result"
    }
   ],
   "source": [
    "sample_test_case = X_test.sample()\n",
    "sample_test_case"
   ]
  },
  {
   "cell_type": "code",
   "execution_count": 55,
   "metadata": {
    "colab": {
     "base_uri": "https://localhost:8080/"
    },
    "id": "mjPu4jGREAzl",
    "outputId": "48fe7b75-9c3d-4539-d712-b72fc6b69072"
   },
   "outputs": [
    {
     "data": {
      "text/plain": [
       "['HAS_POOL',\n",
       " 'IS_DWELLING_ON_MASONARY',\n",
       " 'IS_MOBILE_HOME',\n",
       " 'CONSTRUCTION',\n",
       " 'TOTAL_AREA_OF_BUILDING_SQFEET',\n",
       " 'REPLACEMENT_COST',\n",
       " 'OCCUPANCY',\n",
       " 'COVERAGE_A_DWELLING',\n",
       " 'COVERAGE_A_LOSS_SETTLEMENT',\n",
       " 'COVERAGE_C_PERSONAL_PROPERTY_AMOUNT',\n",
       " 'COVERAGE_C_LOSS_SETTLEMENT',\n",
       " 'COVERAGE_D_LOSS_OF_USE',\n",
       " 'SINKHOLE_LOSS_COVERAGE',\n",
       " 'HURRICANE_DEDUCTIBLE_AMOUNT',\n",
       " 'SINKHOLE_DEDUCTIBLE_AMOUNT',\n",
       " 'WIND_HAIL_DEDUCTIBLE_AMOUNT',\n",
       " 'MEDIAN_HOUSEHOLD_INCOME',\n",
       " 'PROPERTY_AGE']"
      ]
     },
     "execution_count": 55,
     "metadata": {},
     "output_type": "execute_result"
    }
   ],
   "source": [
    "list(sample_test_case.columns)"
   ]
  },
  {
   "cell_type": "code",
   "execution_count": 42,
   "metadata": {
    "colab": {
     "base_uri": "https://localhost:8080/"
    },
    "id": "gXlM9ZF_CHzp",
    "outputId": "ef883d47-ad04-4809-8b6e-ae61b69600f3"
   },
   "outputs": [
    {
     "name": "stdout",
     "output_type": "stream",
     "text": [
      "1/1 [==============================] - 0s 27ms/step\n",
      "Premium Predicted is: 2439.609619140625\n",
      "Policy Type Predicted is: HO-3\n"
     ]
    }
   ],
   "source": [
    "## test the prediction\n",
    "premium_predict,policy_type_predict= model.predict(sample_test_case)\n",
    "print(f'Premium Predicted is: {premium_predict[0][0]}')\n",
    "print(f'Policy Type Predicted is: {l_policy_type_classes[np.argmax(policy_type_predict)]}')\n"
   ]
  },
  {
   "cell_type": "markdown",
   "metadata": {},
   "source": [
    "## Save the model"
   ]
  },
  {
   "cell_type": "code",
   "execution_count": 59,
   "metadata": {
    "id": "tuoJKPAd_MVr"
   },
   "outputs": [],
   "source": [
    "# save the model\n",
    "model.save('final_model.h5')"
   ]
  },
  {
   "cell_type": "code",
   "execution_count": 60,
   "metadata": {
    "colab": {
     "base_uri": "https://localhost:8080/"
    },
    "id": "rIEzZnRnE_lS",
    "outputId": "4631e10e-9b2f-4e58-faf7-6aa1d0480b9e"
   },
   "outputs": [
    {
     "name": "stdout",
     "output_type": "stream",
     "text": [
      "Model: \"model\"\n",
      "__________________________________________________________________________________________________\n",
      " Layer (type)                   Output Shape         Param #     Connected to                     \n",
      "==================================================================================================\n",
      " input_1 (InputLayer)           [(None, 18)]         0           []                               \n",
      "                                                                                                  \n",
      " dense (Dense)                  (None, 256)          4864        ['input_1[0][0]']                \n",
      "                                                                                                  \n",
      " dense_1 (Dense)                (None, 64)           16448       ['dense[0][0]']                  \n",
      "                                                                                                  \n",
      " dense_2 (Dense)                (None, 32)           2080        ['dense_1[0][0]']                \n",
      "                                                                                                  \n",
      " concatenate (Concatenate)      (None, 352)          0           ['dense[0][0]',                  \n",
      "                                                                  'dense_1[0][0]',                \n",
      "                                                                  'dense_2[0][0]']                \n",
      "                                                                                                  \n",
      " output1 (Dense)                (None, 1)            353         ['concatenate[0][0]']            \n",
      "                                                                                                  \n",
      " output2 (Dense)                (None, 15)           5295        ['concatenate[0][0]']            \n",
      "                                                                                                  \n",
      "==================================================================================================\n",
      "Total params: 29,040\n",
      "Trainable params: 29,040\n",
      "Non-trainable params: 0\n",
      "__________________________________________________________________________________________________\n"
     ]
    }
   ],
   "source": [
    "## load the saved model\n",
    "from tensorflow.keras.models import load_model\n",
    " \n",
    "# load model\n",
    "model = load_model('final_model.h5')\n",
    "# summarize model.\n",
    "model.summary()\n",
    "# load dataset"
   ]
  },
  {
   "cell_type": "code",
   "execution_count": null,
   "metadata": {
    "id": "PKpgqWh0Fbxw"
   },
   "outputs": [],
   "source": []
  }
 ],
 "metadata": {
  "colab": {
   "provenance": []
  },
  "kernelspec": {
   "display_name": "Python 3 (ipykernel)",
   "language": "python",
   "name": "python3"
  },
  "language_info": {
   "codemirror_mode": {
    "name": "ipython",
    "version": 3
   },
   "file_extension": ".py",
   "mimetype": "text/x-python",
   "name": "python",
   "nbconvert_exporter": "python",
   "pygments_lexer": "ipython3",
   "version": "3.9.16"
  }
 },
 "nbformat": 4,
 "nbformat_minor": 4
}
