{
 "cells": [
  {
   "cell_type": "markdown",
   "id": "f5316bc2-1734-41f5-ac04-c87a7ecf95b8",
   "metadata": {},
   "source": [
    "## Loading the libraries"
   ]
  },
  {
   "cell_type": "code",
   "execution_count": 1,
   "id": "252b3d56-4372-437d-bbd3-1cc0478f6f37",
   "metadata": {},
   "outputs": [],
   "source": [
    "import sys\n",
    "sys.path.insert(0, '../scripts')"
   ]
  },
  {
   "cell_type": "code",
   "execution_count": 3,
   "id": "a686741f-5983-47ee-8f3e-68c7e915d6b7",
   "metadata": {},
   "outputs": [],
   "source": [
    "import pandas as pd\n",
    "import numpy as np\n",
    "import matplotlib.pyplot as plt\n",
    "import seaborn as sns\n",
    "from helper_functions import *\n",
    "import time\n",
    "import tqdm"
   ]
  },
  {
   "cell_type": "markdown",
   "id": "fe8e66fa-0c0e-4fab-9eed-477c2f686f3c",
   "metadata": {},
   "source": [
    "### Loading the data"
   ]
  },
  {
   "cell_type": "code",
   "execution_count": 4,
   "id": "2635e656-e538-4ea5-ae94-abbe67e231d4",
   "metadata": {},
   "outputs": [],
   "source": [
    "pd.set_option('display.max_rows',250)\n",
    "pd.set_option('display.max_columns',250)"
   ]
  },
  {
   "cell_type": "code",
   "execution_count": 5,
   "id": "80bf38d2-78f5-4997-b245-afec3787037b",
   "metadata": {},
   "outputs": [
    {
     "name": "stderr",
     "output_type": "stream",
     "text": [
      "/var/folders/0q/4w9_419s5jgfsk1krpn17gk00000gn/T/ipykernel_48485/3738534700.py:2: DtypeWarning: Columns (23,27,48,140) have mixed types. Specify dtype option on import or set low_memory=False.\n",
      "  df_main = pd.read_csv('../notebooks/meth_v3.csv')\n"
     ]
    },
    {
     "name": "stdout",
     "output_type": "stream",
     "text": [
      "Time taken is 18.721561193466187 seconds to load the dataset\n"
     ]
    }
   ],
   "source": [
    "start = time.time()\n",
    "df_main = pd.read_csv('../notebooks/meth_v3.csv')\n",
    "end = time.time()\n",
    "print(f'Time taken is {end-start} seconds to load the dataset')"
   ]
  },
  {
   "cell_type": "code",
   "execution_count": 6,
   "id": "984d066c-41b6-47bd-ad6a-da712252f763",
   "metadata": {},
   "outputs": [],
   "source": [
    "df = df_main.copy()"
   ]
  },
  {
   "cell_type": "markdown",
   "id": "d57a28a1-5dcc-458d-a4fc-321accb80adc",
   "metadata": {},
   "source": [
    "## Preprocessing the data"
   ]
  },
  {
   "cell_type": "markdown",
   "id": "91affd10-46bf-4bcf-b343-a69e0ebef083",
   "metadata": {},
   "source": [
    "**Note:** After doing some basic preprocessing, we decided to merge with the cleaned main file with `POLICY_NUMBER` as the primary key"
   ]
  },
  {
   "cell_type": "markdown",
   "id": "4e928410-cf9e-43cf-9dc7-12ca6e3c76d6",
   "metadata": {},
   "source": [
    "#### Removing duplicate policies"
   ]
  },
  {
   "cell_type": "code",
   "execution_count": 7,
   "id": "c3b50d9a-81d5-4a35-846e-bcae3244c660",
   "metadata": {},
   "outputs": [
    {
     "name": "stdout",
     "output_type": "stream",
     "text": [
      "There are 1033164 unique policies in the dataset.\n"
     ]
    }
   ],
   "source": [
    "k =df['POLICY_NUMBER'].nunique()\n",
    "print(f'There are {k} unique policies in the dataset.')"
   ]
  },
  {
   "cell_type": "markdown",
   "id": "bcfbb90e-7fdb-4d1f-9870-772975ed9d63",
   "metadata": {},
   "source": [
    "#### Property Characterstic columns\n",
    "\n",
    "If the column consists of only category, then it makes no sense to include in the analysis"
   ]
  },
  {
   "cell_type": "code",
   "execution_count": 8,
   "id": "31e17c61-e665-489a-bea1-c17e89476b46",
   "metadata": {},
   "outputs": [
    {
     "data": {
      "text/plain": [
       "Index(['IS_DWELLING_ON_FARM', 'IS_DWELLING_VACANT', 'IS_LOCATED_ON_LANDFILL',\n",
       "       'IS_ON_BARRIER_ISLAND', 'IS_FIRE_STATION_ON_BARRIER_ISLAND',\n",
       "       'IS_SHORT_TERM_RENTAL', 'IS_DWELLING_FOR_RENT', 'HAS_POOL',\n",
       "       'IS_POOL_SCREENED', 'IS_POOL_FENCED', 'HAS_POOL_DIVING_BOARD',\n",
       "       'HAS_TRAMPOLINE', 'HAS_SKATEBOARD_RAMP', 'HAS_BICYCLE_RAMP',\n",
       "       'IS_POOL_EMPTY', 'HAS_VICIOUS_ANIMALS',\n",
       "       'HAS_APPLICANT_HAD_RECENT_FORCLOSURE', 'IS_DWELLING_ON_MASONARY',\n",
       "       'IS_MOBILE_HOME', 'WINDBORNE_DEBRIS_REGION',\n",
       "       'DISTANCE_FROM_FIRE_HYDRANT_FT', 'DISTANCE_FROM_FIRE_STATION_MI',\n",
       "       'IS_RISK_WITHIN_CITY_LIMITS', 'IS_SPECIAL_FLOOD_ZONE',\n",
       "       'IS_THERE_A_FLOOD_POLICY_IN_EFFECT', 'NUMBER_UNITS_IN_FIRE_DIVISION',\n",
       "       'SECONDARY_WATER_RESISTANCE', 'PURCHASE_PRICE', 'IS_UNDER_CONSTRUCTION',\n",
       "       'HAS_SECURITY_GUARD', 'BCEGS_MITIGATION_DISCOUNT', 'WLM_DISCOUNT',\n",
       "       'IS_WIND_COVERAGE_EXCLUDED', 'VANDALISM_MALICIOUS_MISCHIEF',\n",
       "       'PURCHASED_LEASED_DATE'],\n",
       "      dtype='object')"
      ]
     },
     "execution_count": 8,
     "metadata": {},
     "output_type": "execute_result"
    }
   ],
   "source": [
    "characteristic_columns=df.columns[df.columns.str.contains('IS|HAS')]\n",
    "characteristic_columns"
   ]
  },
  {
   "cell_type": "code",
   "execution_count": 9,
   "id": "46259999-b547-44bb-8ac3-8dd0fde67b25",
   "metadata": {},
   "outputs": [],
   "source": [
    "d={}\n",
    "for each_col in characteristic_columns:\n",
    "    k = df[each_col].unique()\n",
    "    if len(k)<=1:\n",
    "        d[each_col] = k"
   ]
  },
  {
   "cell_type": "code",
   "execution_count": 10,
   "id": "c4ed2cb3-0599-4f0e-a559-b222c017afaf",
   "metadata": {},
   "outputs": [
    {
     "data": {
      "text/plain": [
       "{'IS_DWELLING_ON_FARM': array(['No'], dtype=object)}"
      ]
     },
     "execution_count": 10,
     "metadata": {},
     "output_type": "execute_result"
    }
   ],
   "source": [
    "d"
   ]
  },
  {
   "cell_type": "markdown",
   "id": "f5c304d2-3834-458d-b288-519d7898868a",
   "metadata": {},
   "source": [
    "As there is only one category for this categorical variable, you can remove it"
   ]
  },
  {
   "cell_type": "code",
   "execution_count": 11,
   "id": "6eed402d-d6ff-4099-9db6-e15b5f5872f3",
   "metadata": {},
   "outputs": [],
   "source": [
    "df.drop(columns=d.keys(),inplace=True)"
   ]
  },
  {
   "cell_type": "code",
   "execution_count": 12,
   "id": "17052e26-bcd9-4653-b44d-ee72985c480c",
   "metadata": {},
   "outputs": [
    {
     "data": {
      "text/plain": [
       "Index(['IS_DWELLING_VACANT', 'IS_LOCATED_ON_LANDFILL', 'IS_ON_BARRIER_ISLAND',\n",
       "       'IS_FIRE_STATION_ON_BARRIER_ISLAND', 'IS_SHORT_TERM_RENTAL',\n",
       "       'IS_DWELLING_FOR_RENT', 'HAS_POOL', 'IS_POOL_SCREENED',\n",
       "       'IS_POOL_FENCED', 'HAS_POOL_DIVING_BOARD', 'HAS_TRAMPOLINE',\n",
       "       'HAS_SKATEBOARD_RAMP', 'HAS_BICYCLE_RAMP', 'IS_POOL_EMPTY',\n",
       "       'HAS_VICIOUS_ANIMALS', 'HAS_APPLICANT_HAD_RECENT_FORCLOSURE',\n",
       "       'IS_DWELLING_ON_MASONARY', 'IS_MOBILE_HOME', 'WINDBORNE_DEBRIS_REGION',\n",
       "       'DISTANCE_FROM_FIRE_HYDRANT_FT', 'DISTANCE_FROM_FIRE_STATION_MI',\n",
       "       'IS_RISK_WITHIN_CITY_LIMITS', 'IS_SPECIAL_FLOOD_ZONE',\n",
       "       'IS_THERE_A_FLOOD_POLICY_IN_EFFECT', 'NUMBER_UNITS_IN_FIRE_DIVISION',\n",
       "       'SECONDARY_WATER_RESISTANCE', 'PURCHASE_PRICE', 'IS_UNDER_CONSTRUCTION',\n",
       "       'HAS_SECURITY_GUARD', 'BCEGS_MITIGATION_DISCOUNT', 'WLM_DISCOUNT',\n",
       "       'IS_WIND_COVERAGE_EXCLUDED', 'VANDALISM_MALICIOUS_MISCHIEF',\n",
       "       'PURCHASED_LEASED_DATE'],\n",
       "      dtype='object')"
      ]
     },
     "execution_count": 12,
     "metadata": {},
     "output_type": "execute_result"
    }
   ],
   "source": [
    "## house charactersics\n",
    "characteristic_columns=df.columns[df.columns.str.contains('IS|HAS')]\n",
    "characteristic_columns"
   ]
  },
  {
   "cell_type": "markdown",
   "id": "66e6ba19-9ae5-443f-8e3d-7406e4e4930d",
   "metadata": {},
   "source": [
    "#### Property Characterstic columns\n",
    "\n",
    "If any of the category is greater than 95% out of all the other categories, you can remove the column as it is more aligned to one specific category which is out for the analysis"
   ]
  },
  {
   "cell_type": "code",
   "execution_count": 20,
   "id": "19f8d2f5-bc70-460c-82a4-5267d00f40dd",
   "metadata": {},
   "outputs": [
    {
     "name": "stdout",
     "output_type": "stream",
     "text": [
      "IS_DWELLING_VACANT,[9.99999032e+01 9.67900546e-05]\n",
      "IS_LOCATED_ON_LANDFILL,[9.99978706e+01 2.12938120e-03]\n",
      "IS_ON_BARRIER_ISLAND,[98.70785277  1.29214723]\n",
      "IS_FIRE_STATION_ON_BARRIER_ISLAND,[99.2321645  0.7678355]\n",
      "IS_SHORT_TERM_RENTAL,[99.39012587  0.60987413]\n",
      "IS_DWELLING_FOR_RENT,[99.70256416  0.29743584]\n",
      "HAS_POOL_DIVING_BOARD,[99.81813149  0.18186851]\n",
      "HAS_TRAMPOLINE,[9.99155023e+01 8.44977177e-02]\n",
      "HAS_SKATEBOARD_RAMP,[9.99990321e+01 9.67900546e-04]\n",
      "HAS_BICYCLE_RAMP,[9.99996128e+01 3.87160219e-04]\n",
      "IS_POOL_EMPTY,[9.99905146e+01 9.48542535e-03]\n",
      "HAS_VICIOUS_ANIMALS,[9.99900306e+01 9.96937563e-03]\n",
      "HAS_APPLICANT_HAD_RECENT_FORCLOSURE,[99.73198834  0.26801166]\n",
      "IS_UNDER_CONSTRUCTION,[9.99655427e+01 3.43604694e-02 9.67900546e-05]\n"
     ]
    }
   ],
   "source": [
    "# removing the columns which have missing values >98\n",
    "cols_tobe_removed=[]\n",
    "d={}\n",
    "for each_col in characteristic_columns:\n",
    "    k = (df[each_col].value_counts()/df.shape[0])*100\n",
    "    if np.max(k.values)>98:\n",
    "        print(f'{each_col},{k.values}')\n",
    "        cols_tobe_removed.append(each_col)"
   ]
  },
  {
   "cell_type": "code",
   "execution_count": 22,
   "id": "1525b705-213f-4e99-af6b-8b2a4f05b373",
   "metadata": {},
   "outputs": [],
   "source": [
    "# dropped the columns\n",
    "df.drop(columns=cols_tobe_removed,inplace=True)"
   ]
  },
  {
   "cell_type": "code",
   "execution_count": 23,
   "id": "dd04c1f8-7da8-422f-a5ae-728fa9d0cb87",
   "metadata": {},
   "outputs": [
    {
     "data": {
      "text/plain": [
       "(1033164, 153)"
      ]
     },
     "execution_count": 23,
     "metadata": {},
     "output_type": "execute_result"
    }
   ],
   "source": [
    "df.shape"
   ]
  },
  {
   "cell_type": "markdown",
   "id": "b1d1bce7-af4a-497e-ba01-1d9e505da43d",
   "metadata": {},
   "source": [
    "#### Fema Flood Zone\n",
    "\n",
    "**Group thre policies based on the their respective categories like Special Flood Zones, Moderate Flood Zones and the Unknown flood zones**"
   ]
  },
  {
   "cell_type": "code",
   "execution_count": 24,
   "id": "6a5ad0b1-0dd1-4807-a16e-25f3c9300891",
   "metadata": {
    "tags": []
   },
   "outputs": [],
   "source": [
    "As = ['A'+str(i) for i in range(1,31)]\n",
    "Vs = ['V'+str(i) for i in range(1,31)]\n",
    "sfha = ['A', 'AO', 'AH', 'AE', 'A99', 'AR', 'AO', 'V', 'VE']+As+Vs\n",
    "mfha = ['X','B','X500','C']\n",
    "ufha = ['D','Z','N']\n",
    "df['FEMA_FLOOD_ZONE']=np.where(df['FEMA_FLOOD_ZONE'].isin(sfha),'SFHA','MFHA')\n",
    "df.loc[df['FEMA_FLOOD_ZONE'].isin(ufha),'FEMA_FLOOD_ZONE'] = \"UFHA\""
   ]
  },
  {
   "cell_type": "code",
   "execution_count": 25,
   "id": "c7334092-df70-4669-9756-0e1b629d513d",
   "metadata": {},
   "outputs": [
    {
     "data": {
      "text/plain": [
       "Index(['POLICY_NUMBER', 'POLICY_TERM_NUMBER', 'POLICY_ENDORSEMENT_NUMBER',\n",
       "       'ACCOUNTING_COMPANY', 'PRODUCT_CATEGORY', 'POLICY_TYPE', 'HAS_POOL',\n",
       "       'IS_POOL_SCREENED', 'IS_POOL_FENCED', 'VICIOUS_ANIMALS_DESC',\n",
       "       ...\n",
       "       'PROPERTY_STATE', 'PROPERTY_ZIPCODE', 'PROPERTY_COUNTY', 'AGENCY_NAME',\n",
       "       'AGENCY_FEIN', 'AGENCY_PHYSICAL_ADDRESS_CITY',\n",
       "       'AGENCY_PHYSICAL_ADDRESS_STATE', 'AGENCY_PHYSICAL_ADDRESS_ZIP_CODE',\n",
       "       'PROPERTY_ADDRESS', 'AGENCY_ADDRESS'],\n",
       "      dtype='object', length=153)"
      ]
     },
     "execution_count": 25,
     "metadata": {},
     "output_type": "execute_result"
    }
   ],
   "source": [
    "df.columns"
   ]
  },
  {
   "cell_type": "markdown",
   "id": "908af7ca-5f63-41bc-8580-fec595f5d99c",
   "metadata": {},
   "source": [
    "#### Protection class\n"
   ]
  },
  {
   "cell_type": "code",
   "execution_count": 27,
   "id": "684e9a8b-0d3b-4948-9709-ca9d7f01f58e",
   "metadata": {},
   "outputs": [
    {
     "data": {
      "text/plain": [
       "2       152340\n",
       "2.0     131851\n",
       "1       112888\n",
       "1.0      97467\n",
       "3        91698\n",
       "4        72790\n",
       "2.0      65007\n",
       "3.0      57167\n",
       "1.0      48237\n",
       "3.0      31284\n",
       "4.0      29581\n",
       "4.0      16951\n",
       "5         8492\n",
       "10        3989\n",
       "9         3342\n",
       "5.0       2697\n",
       "10.0      2375\n",
       "5.0       1666\n",
       "6         1612\n",
       "10.0      1506\n",
       "8B         793\n",
       "9.0        521\n",
       "6.0        431\n",
       "9.0        319\n",
       "7          318\n",
       "6.0        269\n",
       "8           95\n",
       "7.0         44\n",
       "8.0         32\n",
       "7.0         28\n",
       "8.0         10\n",
       "Name: PROTECTION_CLASS, dtype: int64"
      ]
     },
     "execution_count": 27,
     "metadata": {},
     "output_type": "execute_result"
    }
   ],
   "source": [
    "df['PROTECTION_CLASS'].value_counts()"
   ]
  },
  {
   "cell_type": "code",
   "execution_count": 28,
   "id": "f863258f-9a30-4b5a-9053-b2e47fdb6fdf",
   "metadata": {},
   "outputs": [],
   "source": [
    "df.loc[df['PROTECTION_CLASS']=='8B','PROTECTION_CLASS']='8'"
   ]
  },
  {
   "cell_type": "code",
   "execution_count": 29,
   "id": "c0e8e1dd-27a5-4e10-93d1-a2911e136d79",
   "metadata": {},
   "outputs": [],
   "source": [
    "df['PROTECTION_CLASS']=pd.to_numeric(df['PROTECTION_CLASS'],errors='coerce')"
   ]
  },
  {
   "cell_type": "code",
   "execution_count": 30,
   "id": "b73fe6f2-669f-4611-92cf-09086ee6dac2",
   "metadata": {},
   "outputs": [
    {
     "data": {
      "text/plain": [
       "(97364, (1033164, 153))"
      ]
     },
     "execution_count": 30,
     "metadata": {},
     "output_type": "execute_result"
    }
   ],
   "source": [
    "df['PROTECTION_CLASS'].isna().sum(),df.shape"
   ]
  },
  {
   "cell_type": "markdown",
   "id": "282b53c1-0f95-4ae7-acc8-8eee58f4e219",
   "metadata": {},
   "source": [
    "There are close to 10% of missing values in the `PROTECTION_CLASS` column. I would try to replace the missing values with the `PROTECTION_CLASS` value assigned to the county."
   ]
  },
  {
   "cell_type": "code",
   "execution_count": 31,
   "id": "020871a7-489d-4cec-b4b8-39b0b9849504",
   "metadata": {},
   "outputs": [],
   "source": [
    "pclass_zips = df.loc[df['PROTECTION_CLASS'].isna(),'PROPERTY_COUNTY'].unique()\n",
    "d={}\n",
    "for e in pclass_zips:\n",
    "    k = df.loc[df['PROPERTY_COUNTY']==e,'PROTECTION_CLASS'].mode()[0]\n",
    "    d[e] = k\n",
    "for i in pclass_zips:\n",
    "    df.loc[(df['PROTECTION_CLASS'].isna()) & (df['PROPERTY_COUNTY']==i),'PROTECTION_CLASS']=d[i]"
   ]
  },
  {
   "cell_type": "code",
   "execution_count": 32,
   "id": "4f3b3322-5848-43b6-8457-8521ecee6b93",
   "metadata": {},
   "outputs": [
    {
     "data": {
      "text/plain": [
       "0"
      ]
     },
     "execution_count": 32,
     "metadata": {},
     "output_type": "execute_result"
    }
   ],
   "source": [
    "df['PROTECTION_CLASS'].isna().sum()"
   ]
  },
  {
   "cell_type": "markdown",
   "id": "bd41aede-a84f-433e-b893-7838b6928018",
   "metadata": {},
   "source": [
    "#### WINDBORNE DEBRIS REGION"
   ]
  },
  {
   "cell_type": "code",
   "execution_count": 33,
   "id": "d45502ef-0bf4-4263-8bb7-27f01888bf5c",
   "metadata": {},
   "outputs": [
    {
     "data": {
      "text/plain": [
       "16901"
      ]
     },
     "execution_count": 33,
     "metadata": {},
     "output_type": "execute_result"
    }
   ],
   "source": [
    "df['WINDBORNE_DEBRIS_REGION'].isna().sum()"
   ]
  },
  {
   "cell_type": "code",
   "execution_count": 34,
   "id": "f6193592-e539-4a0f-9480-6516fa223bc7",
   "metadata": {},
   "outputs": [
    {
     "data": {
      "text/plain": [
       "In     781956\n",
       "Out    234307\n",
       "Name: WINDBORNE_DEBRIS_REGION, dtype: int64"
      ]
     },
     "execution_count": 34,
     "metadata": {},
     "output_type": "execute_result"
    }
   ],
   "source": [
    "df['WINDBORNE_DEBRIS_REGION'].value_counts()"
   ]
  },
  {
   "cell_type": "code",
   "execution_count": null,
   "id": "b53fc0ce-c7d1-4a20-9eff-69d2d09e2bb7",
   "metadata": {},
   "outputs": [],
   "source": [
    "## imputation of the windborne debris region missing values by county"
   ]
  },
  {
   "cell_type": "code",
   "execution_count": 35,
   "id": "47f12b4d-65b6-41a6-872c-57eaa0898aab",
   "metadata": {},
   "outputs": [],
   "source": [
    "k =df.loc[df['WINDBORNE_DEBRIS_REGION'].isna(),'PROPERTY_COUNTY'].unique()\n",
    "dd={}\n",
    "for i in k:\n",
    "    pk = df.loc[(df['WINDBORNE_DEBRIS_REGION'].notna()) & (df['PROPERTY_COUNTY']==i),'WINDBORNE_DEBRIS_REGION'].unique()[0]\n",
    "    dd[i] = pk\n",
    "for i in dd.keys():\n",
    "    df.loc[(df['WINDBORNE_DEBRIS_REGION'].isna()) & (df['PROPERTY_COUNTY']==i),'WINDBORNE_DEBRIS_REGION'] = dd[i]"
   ]
  },
  {
   "cell_type": "code",
   "execution_count": 38,
   "id": "0077b6ce-23dc-4cca-b756-a929d08f5d90",
   "metadata": {},
   "outputs": [],
   "source": [
    "df.loc[(df['TERRAIN'].isna()) & (df['PROPERTY_COUNTY'].isin(['Broward','Miami-dade'])),'TERRAIN']='C'\n",
    "df['TERRAIN'] = df['TERRAIN'].fillna('B')"
   ]
  },
  {
   "cell_type": "markdown",
   "id": "8212a176-fd47-4b9e-b462-bcb971032e3e",
   "metadata": {},
   "source": [
    "#### There are some columns which can be directly removed as they don't add any information to the analysis "
   ]
  },
  {
   "cell_type": "code",
   "execution_count": 40,
   "id": "280c1239-2248-4316-8256-c65925eed700",
   "metadata": {},
   "outputs": [],
   "source": [
    "# drop the columns\n",
    "df.drop(columns=['TERRITORY'],inplace=True)\n",
    "df.drop(columns=['COASTAL_TERRITORY'],inplace=True)\n",
    "df.drop(columns=['DISTANCE_FROM_FIRE_HYDRANT_FT','DISTANCE_FROM_FIRE_STATION_MI'],inplace=True)"
   ]
  },
  {
   "cell_type": "code",
   "execution_count": 41,
   "id": "899e2755-3118-4aab-8ce3-4d5a39d51479",
   "metadata": {},
   "outputs": [],
   "source": [
    "df.drop(columns=['RESPONDING_FIRE_DEPARTMENT','RESPONDING_FIRE_DEPARTMENT_CITY'],inplace=True)"
   ]
  },
  {
   "cell_type": "code",
   "execution_count": 43,
   "id": "96deee49-e524-46de-8bce-7ee3b258e9ea",
   "metadata": {},
   "outputs": [],
   "source": [
    "df.loc[df['POLICY_TYPE'].str.contains('DP-3'),'POLICY_TYPE']='DP-3'\n",
    "df.loc[df['POLICY_TYPE'].str.startswith('DP-1'),'POLICY_TYPE']='DP-1'\n",
    "df.loc[df['POLICY_TYPE'].str.startswith('MDP-1'),'POLICY_TYPE']='MDP-1'"
   ]
  },
  {
   "cell_type": "markdown",
   "id": "16dec240-c134-4144-8758-5ba91394b759",
   "metadata": {},
   "source": [
    "#### Pool columns"
   ]
  },
  {
   "cell_type": "code",
   "execution_count": 44,
   "id": "c087d4f9-3b6f-49b8-89fb-4490035c02bf",
   "metadata": {},
   "outputs": [],
   "source": [
    "df.loc[df['HAS_POOL']=='No','IS_POOL_SCREENED']='No'"
   ]
  },
  {
   "cell_type": "code",
   "execution_count": 45,
   "id": "9e541f38-ea62-4475-8607-77b6d9b15aaf",
   "metadata": {},
   "outputs": [
    {
     "data": {
      "text/plain": [
       "Yes    101826\n",
       "No      63511\n",
       "Name: IS_POOL_FENCED, dtype: int64"
      ]
     },
     "execution_count": 45,
     "metadata": {},
     "output_type": "execute_result"
    }
   ],
   "source": [
    "df.loc[df['HAS_POOL']=='Yes','IS_POOL_FENCED'].value_counts()"
   ]
  },
  {
   "cell_type": "markdown",
   "id": "9d01d19c-ec62-45c3-80e4-b012b3fd75af",
   "metadata": {},
   "source": [
    "#### End columns"
   ]
  },
  {
   "cell_type": "code",
   "execution_count": null,
   "id": "23e0edfa-e6d3-4df3-b03f-efa481025463",
   "metadata": {},
   "outputs": [],
   "source": [
    "## all the end columns are removed if they seem to be irrelevant for the analysis"
   ]
  },
  {
   "cell_type": "code",
   "execution_count": 46,
   "id": "c713df7f-9399-443f-8381-bd607001319c",
   "metadata": {},
   "outputs": [],
   "source": [
    "end_cols= df.columns[df.columns.str.contains('ENDDP')]"
   ]
  },
  {
   "cell_type": "code",
   "execution_count": 47,
   "id": "a8159f04-ee6c-459e-b2b1-6ba7fae4da68",
   "metadata": {},
   "outputs": [
    {
     "data": {
      "text/plain": [
       "Index(['ENDDP0420', 'ENDDP0420C', 'ENDDP0420M', 'ENDDP1143'], dtype='object')"
      ]
     },
     "execution_count": 47,
     "metadata": {},
     "output_type": "execute_result"
    }
   ],
   "source": [
    "end_cols"
   ]
  },
  {
   "cell_type": "code",
   "execution_count": 48,
   "id": "f3b1e9d1-8140-47e2-a1d2-25763bd41cb0",
   "metadata": {},
   "outputs": [
    {
     "name": "stdout",
     "output_type": "stream",
     "text": [
      "ENDDP0420,[9.99998064e+01 1.93580109e-04]\n",
      "ENDDP0420C,[9.99999032e+01 9.67900546e-05]\n",
      "ENDDP0420M,[100.]\n",
      "ENDDP1143,[9.99656395e+01 3.43604694e-02]\n"
     ]
    }
   ],
   "source": [
    "for i in end_cols:\n",
    "    k = (df[i].value_counts()/df.shape[0])*100\n",
    "    if np.max(k.values)>99:\n",
    "        print(f'{i},{k.values}')"
   ]
  },
  {
   "cell_type": "code",
   "execution_count": 53,
   "id": "fc8b376d-aba8-4ee3-821d-a847d2e8daa0",
   "metadata": {},
   "outputs": [],
   "source": [
    "df.drop(columns='ENDDP0420C',inplace=True)"
   ]
  },
  {
   "cell_type": "code",
   "execution_count": 54,
   "id": "b9ca8b27-5ba5-46e4-95d8-ccdd7ccf333d",
   "metadata": {},
   "outputs": [
    {
     "data": {
      "text/plain": [
       "No    1033164\n",
       "Name: ENDDP0420M, dtype: int64"
      ]
     },
     "execution_count": 54,
     "metadata": {},
     "output_type": "execute_result"
    }
   ],
   "source": [
    "df['ENDDP0420M'].value_counts()"
   ]
  },
  {
   "cell_type": "code",
   "execution_count": 55,
   "id": "e64df7ea-eba9-449d-b04a-572e1708121c",
   "metadata": {},
   "outputs": [],
   "source": [
    "df.drop(columns='ENDDP0420M',inplace=True)"
   ]
  },
  {
   "cell_type": "code",
   "execution_count": 56,
   "id": "faebdb81-ef05-4793-b951-dbc75858d0fb",
   "metadata": {},
   "outputs": [
    {
     "data": {
      "text/plain": [
       "No     1032809\n",
       "Yes        355\n",
       "Name: ENDDP1143, dtype: int64"
      ]
     },
     "execution_count": 56,
     "metadata": {},
     "output_type": "execute_result"
    }
   ],
   "source": [
    "df['ENDDP1143'].value_counts()"
   ]
  },
  {
   "cell_type": "code",
   "execution_count": 57,
   "id": "12863952-73ce-4be9-a1d8-4454d37d56e2",
   "metadata": {},
   "outputs": [
    {
     "data": {
      "text/plain": [
       "POLICY_TYPE  ENDDP1143\n",
       "DP-1         No            40264\n",
       "             Yes              11\n",
       "DP-3         No           175444\n",
       "             Yes              34\n",
       "DW-2         No            10354\n",
       "             Yes              17\n",
       "HO-3         No           581270\n",
       "             Yes             189\n",
       "HO-4         No             9179\n",
       "             Yes               1\n",
       "HO-6         No            69719\n",
       "             Yes              16\n",
       "HO-8         No             7098\n",
       "             Yes               5\n",
       "HW-2         No            51984\n",
       "             Yes              39\n",
       "HW-4         No              164\n",
       "HW-6         No            16623\n",
       "             Yes              16\n",
       "MD-1         No              178\n",
       "MDP-1        No            19566\n",
       "             Yes               7\n",
       "MHO-3        No            48403\n",
       "             Yes              18\n",
       "MHO-4        No              737\n",
       "MW-2         No             1826\n",
       "             Yes               2\n",
       "Name: POLICY_NUMBER, dtype: int64"
      ]
     },
     "execution_count": 57,
     "metadata": {},
     "output_type": "execute_result"
    }
   ],
   "source": [
    "df.groupby(['POLICY_TYPE','ENDDP1143'])['POLICY_NUMBER'].count()"
   ]
  },
  {
   "cell_type": "code",
   "execution_count": 58,
   "id": "6fd07e9f-4337-415b-9d44-b991b6b7d8e3",
   "metadata": {},
   "outputs": [
    {
     "data": {
      "text/plain": [
       "array([nan, 'Masonry', 'Frame', 'Superior', 'Masonry Non-Combustible',\n",
       "       'Fire Resistive', 'Masonry Veneer', 'Aluminum Siding Over Frame',\n",
       "       'Plastic Siding over Frame', 'Non-Combustible', 'Modular'],\n",
       "      dtype=object)"
      ]
     },
     "execution_count": 58,
     "metadata": {},
     "output_type": "execute_result"
    }
   ],
   "source": [
    "df['CONSTRUCTION'].unique()"
   ]
  },
  {
   "cell_type": "code",
   "execution_count": 59,
   "id": "f65b79bc-d1c1-4df9-ade0-667c24b36339",
   "metadata": {},
   "outputs": [],
   "source": [
    "df.drop(columns='ENDDP1143',inplace=True)"
   ]
  },
  {
   "cell_type": "code",
   "execution_count": 60,
   "id": "7a52ad88-74fd-44f1-8a7c-355b6d5c7872",
   "metadata": {},
   "outputs": [
    {
     "data": {
      "text/plain": [
       "Index(['POLICY_ENDORSEMENT_NUMBER', 'EXTENDED_COVERAGE', 'ENDHO0490',\n",
       "       'ENDHO1732', 'ENDHO1733', 'ENDHW1733', 'ENDMH0404'],\n",
       "      dtype='object')"
      ]
     },
     "execution_count": 60,
     "metadata": {},
     "output_type": "execute_result"
    }
   ],
   "source": [
    "end_cols= df.columns[df.columns.str.contains('END')]\n",
    "end_cols"
   ]
  },
  {
   "cell_type": "code",
   "execution_count": 61,
   "id": "b2757ecb-f9ae-46be-8bae-9ce0eca2e988",
   "metadata": {},
   "outputs": [
    {
     "data": {
      "text/plain": [
       "No     683454\n",
       "Yes    349710\n",
       "Name: ENDHO0490, dtype: int64"
      ]
     },
     "execution_count": 61,
     "metadata": {},
     "output_type": "execute_result"
    }
   ],
   "source": [
    "df['ENDHO0490'].value_counts()"
   ]
  },
  {
   "cell_type": "code",
   "execution_count": 62,
   "id": "050ef1db-fef1-4906-a005-37739808f5d9",
   "metadata": {},
   "outputs": [
    {
     "data": {
      "text/plain": [
       "No     981956\n",
       "Yes     51208\n",
       "Name: ENDHO1732, dtype: int64"
      ]
     },
     "execution_count": 62,
     "metadata": {},
     "output_type": "execute_result"
    }
   ],
   "source": [
    "df['ENDHO1732'].value_counts()"
   ]
  },
  {
   "cell_type": "code",
   "execution_count": 63,
   "id": "06dfcf82-5f2b-4094-b87c-866da0dd8eb8",
   "metadata": {},
   "outputs": [
    {
     "data": {
      "text/plain": [
       "No     1015680\n",
       "Yes      17484\n",
       "Name: ENDHO1733, dtype: int64"
      ]
     },
     "execution_count": 63,
     "metadata": {},
     "output_type": "execute_result"
    }
   ],
   "source": [
    "df['ENDHO1733'].value_counts()"
   ]
  },
  {
   "cell_type": "code",
   "execution_count": 64,
   "id": "99c9f2c2-3d44-475d-acae-562a96e2868f",
   "metadata": {},
   "outputs": [
    {
     "data": {
      "text/plain": [
       "No     1032363\n",
       "Yes        801\n",
       "Name: ENDMH0404, dtype: int64"
      ]
     },
     "execution_count": 64,
     "metadata": {},
     "output_type": "execute_result"
    }
   ],
   "source": [
    "df['ENDMH0404'].value_counts()"
   ]
  },
  {
   "cell_type": "code",
   "execution_count": 65,
   "id": "8e89ddc8-2bb0-4ad3-9d62-fcecc3132447",
   "metadata": {},
   "outputs": [
    {
     "data": {
      "text/plain": [
       "POLICY_TYPE  ENDMH0404\n",
       "DP-1         No            40275\n",
       "DP-3         No           175478\n",
       "DW-2         No            10371\n",
       "HO-3         No           581459\n",
       "HO-4         No             9180\n",
       "HO-6         No            69735\n",
       "HO-8         No             7103\n",
       "HW-2         No            52023\n",
       "HW-4         No              164\n",
       "HW-6         No            16639\n",
       "MD-1         No              178\n",
       "MDP-1        No            19268\n",
       "             Yes             305\n",
       "MHO-3        No            47925\n",
       "             Yes             496\n",
       "MHO-4        No              737\n",
       "MW-2         No             1828\n",
       "Name: POLICY_NUMBER, dtype: int64"
      ]
     },
     "execution_count": 65,
     "metadata": {},
     "output_type": "execute_result"
    }
   ],
   "source": [
    "df.groupby(['POLICY_TYPE','ENDMH0404'])['POLICY_NUMBER'].count()"
   ]
  },
  {
   "cell_type": "code",
   "execution_count": 66,
   "id": "8c09eb4b-630e-4340-acf1-285caaccd778",
   "metadata": {},
   "outputs": [
    {
     "data": {
      "text/plain": [
       "IS_MOBILE_HOME  POLICY_TYPE  ENDMH0404\n",
       "No              DP-1         No            40275\n",
       "                DP-3         No           175478\n",
       "                DW-2         No            10371\n",
       "                HO-3         No           581459\n",
       "                HO-4         No             9180\n",
       "                HO-6         No            69735\n",
       "                HO-8         No             7103\n",
       "                HW-2         No            52023\n",
       "                HW-4         No              164\n",
       "                HW-6         No            16639\n",
       "Yes             MD-1         No              178\n",
       "                MDP-1        No            19268\n",
       "                             Yes             305\n",
       "                MHO-3        No            47925\n",
       "                             Yes             496\n",
       "                MHO-4        No              737\n",
       "                MW-2         No             1828\n",
       "Name: POLICY_NUMBER, dtype: int64"
      ]
     },
     "execution_count": 66,
     "metadata": {},
     "output_type": "execute_result"
    }
   ],
   "source": [
    "df.groupby(['IS_MOBILE_HOME','POLICY_TYPE','ENDMH0404'])['POLICY_NUMBER'].count()"
   ]
  },
  {
   "cell_type": "code",
   "execution_count": 67,
   "id": "75007483-cf3d-4174-8bfc-030a0a035af5",
   "metadata": {},
   "outputs": [
    {
     "data": {
      "text/plain": [
       "Index(['POLICY_ENDORSEMENT_NUMBER', 'EXTENDED_COVERAGE', 'ENDHO0490',\n",
       "       'ENDHO1732', 'ENDHO1733', 'ENDHW1733', 'ENDMH0404'],\n",
       "      dtype='object')"
      ]
     },
     "execution_count": 67,
     "metadata": {},
     "output_type": "execute_result"
    }
   ],
   "source": [
    "end_cols= df.columns[df.columns.str.contains('END')]\n",
    "end_cols"
   ]
  },
  {
   "cell_type": "code",
   "execution_count": 68,
   "id": "5ff6b9a0-5127-47c0-8df4-1ade25830170",
   "metadata": {
    "tags": []
   },
   "outputs": [
    {
     "data": {
      "text/plain": [
       "POLICY_TYPE  ENDHO1733\n",
       "DP-1         No            40275\n",
       "DP-3         No           175478\n",
       "DW-2         No            10371\n",
       "HO-3         No           581459\n",
       "HO-4         No             9180\n",
       "HO-6         No            52251\n",
       "             Yes           17484\n",
       "HO-8         No             7103\n",
       "HW-2         No            52023\n",
       "HW-4         No              164\n",
       "HW-6         No            16639\n",
       "MD-1         No              178\n",
       "MDP-1        No            19573\n",
       "MHO-3        No            48421\n",
       "MHO-4        No              737\n",
       "MW-2         No             1828\n",
       "Name: POLICY_NUMBER, dtype: int64"
      ]
     },
     "execution_count": 68,
     "metadata": {},
     "output_type": "execute_result"
    }
   ],
   "source": [
    "df.groupby(['POLICY_TYPE','ENDHO1733'])['POLICY_NUMBER'].count()"
   ]
  },
  {
   "cell_type": "markdown",
   "id": "c991d5a7-1f32-4b4c-bbc7-c6509d46b1dc",
   "metadata": {},
   "source": [
    "### Coverage columns"
   ]
  },
  {
   "cell_type": "code",
   "execution_count": 70,
   "id": "95f53ca6-059b-4b3d-884f-c702802ff7f2",
   "metadata": {},
   "outputs": [
    {
     "data": {
      "text/plain": [
       "N          798072\n",
       "Y          235091\n",
       ".550000         1\n",
       "Name: EXTENDED_COVERAGE, dtype: int64"
      ]
     },
     "execution_count": 70,
     "metadata": {},
     "output_type": "execute_result"
    }
   ],
   "source": [
    "df['EXTENDED_COVERAGE'].value_counts()"
   ]
  },
  {
   "cell_type": "code",
   "execution_count": 71,
   "id": "8ecf91bf-11de-4d38-aed8-711407088e6f",
   "metadata": {},
   "outputs": [],
   "source": [
    "df.loc[~df['EXTENDED_COVERAGE'].isin(['Y','N']),'EXTENDED_COVERAGE']='N'"
   ]
  },
  {
   "cell_type": "code",
   "execution_count": 72,
   "id": "bb85f11c-f480-4573-aa8a-77e1067ae495",
   "metadata": {},
   "outputs": [
    {
     "data": {
      "text/plain": [
       "Index(['POLICY_ENDORSEMENT_NUMBER', 'EXTENDED_COVERAGE', 'ENDHO0490',\n",
       "       'ENDHO1732', 'ENDHO1733', 'ENDHW1733', 'ENDMH0404'],\n",
       "      dtype='object')"
      ]
     },
     "execution_count": 72,
     "metadata": {},
     "output_type": "execute_result"
    }
   ],
   "source": [
    "end_cols"
   ]
  },
  {
   "cell_type": "code",
   "execution_count": 73,
   "id": "f8223e22-6f99-41a6-9624-7c087884e20b",
   "metadata": {},
   "outputs": [
    {
     "data": {
      "text/plain": [
       "EXTENDED_COVERAGE  ENDHO0490\n",
       "N                  No           448363\n",
       "                   Yes          349710\n",
       "Y                  No           235091\n",
       "Name: POLICY_NUMBER, dtype: int64"
      ]
     },
     "execution_count": 73,
     "metadata": {},
     "output_type": "execute_result"
    }
   ],
   "source": [
    "df.groupby(['EXTENDED_COVERAGE','ENDHO0490'])['POLICY_NUMBER'].count()"
   ]
  },
  {
   "cell_type": "code",
   "execution_count": 74,
   "id": "411b5d73-2c29-4af8-83d2-d82f94e89318",
   "metadata": {},
   "outputs": [
    {
     "data": {
      "text/plain": [
       "EXTENDED_COVERAGE  ENDHO1732\n",
       "N                  No           746865\n",
       "                   Yes           51208\n",
       "Y                  No           235091\n",
       "Name: POLICY_NUMBER, dtype: int64"
      ]
     },
     "execution_count": 74,
     "metadata": {},
     "output_type": "execute_result"
    }
   ],
   "source": [
    "df.groupby(['EXTENDED_COVERAGE','ENDHO1732'])['POLICY_NUMBER'].count()"
   ]
  },
  {
   "cell_type": "code",
   "execution_count": 75,
   "id": "ff5650c3-38cf-44a6-a4c6-d0bf17aae71e",
   "metadata": {},
   "outputs": [
    {
     "data": {
      "text/plain": [
       "EXTENDED_COVERAGE  ENDHO1733\n",
       "N                  No           780589\n",
       "                   Yes           17484\n",
       "Y                  No           235091\n",
       "Name: POLICY_NUMBER, dtype: int64"
      ]
     },
     "execution_count": 75,
     "metadata": {},
     "output_type": "execute_result"
    }
   ],
   "source": [
    "df.groupby(['EXTENDED_COVERAGE','ENDHO1733'])['POLICY_NUMBER'].count()"
   ]
  },
  {
   "cell_type": "code",
   "execution_count": 76,
   "id": "5127eb47-7ae5-4e02-ad6f-dc6ecbc1512b",
   "metadata": {},
   "outputs": [
    {
     "data": {
      "text/plain": [
       "EXTENDED_COVERAGE  ENDHW1733\n",
       "N                  No           793191\n",
       "                   Yes            4882\n",
       "Y                  No           235091\n",
       "Name: POLICY_NUMBER, dtype: int64"
      ]
     },
     "execution_count": 76,
     "metadata": {},
     "output_type": "execute_result"
    }
   ],
   "source": [
    "df.groupby(['EXTENDED_COVERAGE','ENDHW1733'])['POLICY_NUMBER'].count()"
   ]
  },
  {
   "cell_type": "code",
   "execution_count": 77,
   "id": "64a18272-a1be-4985-809a-63975dd44d0a",
   "metadata": {},
   "outputs": [
    {
     "data": {
      "text/plain": [
       "EXTENDED_COVERAGE  ENDMH0404\n",
       "N                  No           797577\n",
       "                   Yes             496\n",
       "Y                  No           234786\n",
       "                   Yes             305\n",
       "Name: POLICY_NUMBER, dtype: int64"
      ]
     },
     "execution_count": 77,
     "metadata": {},
     "output_type": "execute_result"
    }
   ],
   "source": [
    "df.groupby(['EXTENDED_COVERAGE','ENDMH0404'])['POLICY_NUMBER'].count()"
   ]
  },
  {
   "cell_type": "code",
   "execution_count": 78,
   "id": "d24a0fd3-f7b2-4396-adc8-669ea669bd4c",
   "metadata": {},
   "outputs": [
    {
     "data": {
      "text/plain": [
       "Owner Occupied     801062\n",
       "Tenant Occupied    232086\n",
       "Vacant                  8\n",
       "Unoccupied              8\n",
       "Name: OCCUPANCY, dtype: int64"
      ]
     },
     "execution_count": 78,
     "metadata": {},
     "output_type": "execute_result"
    }
   ],
   "source": [
    "df['OCCUPANCY'].value_counts()"
   ]
  },
  {
   "cell_type": "markdown",
   "id": "22cb2de6-14e5-4207-bb5a-cc28f882824d",
   "metadata": {},
   "source": [
    "## occupancy columns"
   ]
  },
  {
   "cell_type": "code",
   "execution_count": 79,
   "id": "ebd8a89d-6ffa-4352-b1c6-305f3b7942fb",
   "metadata": {},
   "outputs": [
    {
     "data": {
      "text/plain": [
       "0"
      ]
     },
     "execution_count": 79,
     "metadata": {},
     "output_type": "execute_result"
    }
   ],
   "source": [
    "df['OCCUPANCY'].isna().sum()"
   ]
  },
  {
   "cell_type": "code",
   "execution_count": 80,
   "id": "003fb871-a11f-484f-9dc2-0c3bf59232e1",
   "metadata": {},
   "outputs": [],
   "source": [
    "df.loc[df['OCCUPANCY'].isin(['Vacant','Unoccupied']),'OCCUPANCY']='Owner Occupied'"
   ]
  },
  {
   "cell_type": "code",
   "execution_count": 81,
   "id": "ac097b50-28dd-4a47-b488-497f64d6acbe",
   "metadata": {},
   "outputs": [],
   "source": [
    "k = df.groupby(['OCCUPANCY','POLICY_TYPE'])['POLICY_NUMBER'].count()\n",
    "pk = k.groupby(level=1,group_keys=False).apply(lambda x: 100 * x / float(x.sum())).reset_index()"
   ]
  },
  {
   "cell_type": "code",
   "execution_count": 82,
   "id": "7aafd7b8-0d52-41df-8c75-62798d1226f0",
   "metadata": {},
   "outputs": [],
   "source": [
    "pk.rename(columns={'POLICY_NUMBER':'PERCENTAGE'},inplace=True)"
   ]
  },
  {
   "cell_type": "code",
   "execution_count": null,
   "id": "b8736a25-e924-451f-a810-8d700489eacf",
   "metadata": {},
   "outputs": [],
   "source": [
    "# pk.to_excel('../data files/policy_distribution.xlsx')"
   ]
  },
  {
   "cell_type": "code",
   "execution_count": 83,
   "id": "d440f8e5-c2d6-4bec-8d5f-269302dc3581",
   "metadata": {},
   "outputs": [
    {
     "data": {
      "image/png": "[encoded data removed]",
      "text/plain": [
       "<Figure size 1500x700 with 1 Axes>"
      ]
     },
     "metadata": {},
     "output_type": "display_data"
    }
   ],
   "source": [
    "fig,ax=plt.subplots(1,1,figsize=(15,7))\n",
    "plots = sns.barplot(data=pk,x='POLICY_TYPE',y='PERCENTAGE',hue='OCCUPANCY',ax=ax)\n",
    "for bar in plots.patches:\n",
    "   \n",
    "  # Using Matplotlib's annotate function and\n",
    "  # passing the coordinates where the annotation shall be done\n",
    "  # x-coordinate: bar.get_x() + bar.get_width() / 2\n",
    "  # y-coordinate: bar.get_height()\n",
    "  # free space to be left to make graph pleasing: (0, 8)\n",
    "  # ha and va stand for the horizontal and vertical alignment\n",
    "    plots.annotate(format(bar.get_height(), '.2f'),\n",
    "                   (bar.get_x() + bar.get_width() / 2,\n",
    "                    bar.get_height()), ha='center', va='center',\n",
    "                   size=15, xytext=(0, 8),\n",
    "                   textcoords='offset points')"
   ]
  },
  {
   "cell_type": "markdown",
   "id": "bc8fb3a7-a2aa-48ec-9d0d-3d426201465e",
   "metadata": {},
   "source": [
    "## Flood related columns"
   ]
  },
  {
   "cell_type": "code",
   "execution_count": 85,
   "id": "fced3a75-1cd2-4b21-8ee1-4872a5225a42",
   "metadata": {},
   "outputs": [
    {
     "data": {
      "text/plain": [
       "85635"
      ]
     },
     "execution_count": 85,
     "metadata": {},
     "output_type": "execute_result"
    }
   ],
   "source": [
    "df['IS_THERE_A_FLOOD_POLICY_IN_EFFECT'].isna().sum()"
   ]
  },
  {
   "cell_type": "code",
   "execution_count": 86,
   "id": "ed20112f-378e-4ccc-afbc-6b3cafb44da4",
   "metadata": {},
   "outputs": [
    {
     "data": {
      "text/plain": [
       "No                             557411\n",
       "Flood Affirmation Completed    207995\n",
       "Flood Waiver Completed          87355\n",
       "Yes                             81033\n",
       "Applied For                     11295\n",
       "Association Policy               2440\n",
       "Name: IS_THERE_A_FLOOD_POLICY_IN_EFFECT, dtype: int64"
      ]
     },
     "execution_count": 86,
     "metadata": {},
     "output_type": "execute_result"
    }
   ],
   "source": [
    "df['IS_THERE_A_FLOOD_POLICY_IN_EFFECT'].value_counts()"
   ]
  },
  {
   "cell_type": "code",
   "execution_count": null,
   "id": "aedb6ba6-ad68-4a04-a798-d640bc87f024",
   "metadata": {},
   "outputs": [],
   "source": [
    "# reduced the number of categories from the column based on other columns"
   ]
  },
  {
   "cell_type": "code",
   "execution_count": 87,
   "id": "531d8731-d7ad-4aa4-8e2d-0eb74c056c3a",
   "metadata": {},
   "outputs": [],
   "source": [
    "df.loc[(df['IS_THERE_A_FLOOD_POLICY_IN_EFFECT'].str.contains('Waiver')) & (df['IS_THERE_A_FLOOD_POLICY_IN_EFFECT'].notna()),'IS_THERE_A_FLOOD_POLICY_IN_EFFECT']='No'"
   ]
  },
  {
   "cell_type": "code",
   "execution_count": 88,
   "id": "3662eab8-bd14-4da9-902b-80417af300d8",
   "metadata": {},
   "outputs": [],
   "source": [
    "df.loc[(df['IS_THERE_A_FLOOD_POLICY_IN_EFFECT'].str.contains('Affirmation')) & (df['IS_THERE_A_FLOOD_POLICY_IN_EFFECT'].notna()),'IS_THERE_A_FLOOD_POLICY_IN_EFFECT']='Yes'"
   ]
  },
  {
   "cell_type": "code",
   "execution_count": 89,
   "id": "282acddc-2f2e-4bb9-bf6e-5e6af83e70ee",
   "metadata": {},
   "outputs": [],
   "source": [
    "df.loc[(df['IS_THERE_A_FLOOD_POLICY_IN_EFFECT'].str.contains('Association')) & (df['IS_THERE_A_FLOOD_POLICY_IN_EFFECT'].notna()),'IS_THERE_A_FLOOD_POLICY_IN_EFFECT']='Yes'"
   ]
  },
  {
   "cell_type": "code",
   "execution_count": 90,
   "id": "ee35fa78-da1d-46e5-9f07-f2c7356563a4",
   "metadata": {},
   "outputs": [],
   "source": [
    "df.loc[(df['IS_THERE_A_FLOOD_POLICY_IN_EFFECT'].str.contains('Applied')) & (df['IS_THERE_A_FLOOD_POLICY_IN_EFFECT'].notna()),'IS_THERE_A_FLOOD_POLICY_IN_EFFECT']='No'"
   ]
  },
  {
   "cell_type": "code",
   "execution_count": 91,
   "id": "e86f6d45-59d5-41f4-8172-6b6f4432051f",
   "metadata": {},
   "outputs": [
    {
     "data": {
      "text/plain": [
       "FEMA_FLOOD_ZONE  IS_SPECIAL_FLOOD_ZONE\n",
       "MFHA             No                       759240\n",
       "                 Yes                          71\n",
       "SFHA             No                          104\n",
       "                 Yes                      273749\n",
       "Name: POLICY_NUMBER, dtype: int64"
      ]
     },
     "execution_count": 91,
     "metadata": {},
     "output_type": "execute_result"
    }
   ],
   "source": [
    "df.groupby(['FEMA_FLOOD_ZONE','IS_SPECIAL_FLOOD_ZONE'])['POLICY_NUMBER'].count()"
   ]
  },
  {
   "cell_type": "code",
   "execution_count": 92,
   "id": "2bbc3158-9fcf-4a7e-8e67-b57b93027394",
   "metadata": {},
   "outputs": [
    {
     "data": {
      "text/plain": [
       "IS_SPECIAL_FLOOD_ZONE  IS_THERE_A_FLOOD_POLICY_IN_EFFECT\n",
       "No                     No                                   577353\n",
       "                       Yes                                   98108\n",
       "Yes                    No                                    78708\n",
       "                       Yes                                  193360\n",
       "Name: POLICY_NUMBER, dtype: int64"
      ]
     },
     "execution_count": 92,
     "metadata": {},
     "output_type": "execute_result"
    }
   ],
   "source": [
    "df.groupby(['IS_SPECIAL_FLOOD_ZONE','IS_THERE_A_FLOOD_POLICY_IN_EFFECT'])['POLICY_NUMBER'].count()"
   ]
  },
  {
   "cell_type": "code",
   "execution_count": 93,
   "id": "478fdf7e-ac4b-4857-aa4a-0f7d57d3a7dc",
   "metadata": {},
   "outputs": [],
   "source": [
    "df.drop(columns=['IS_SPECIAL_FLOOD_ZONE'],inplace=True)"
   ]
  },
  {
   "cell_type": "code",
   "execution_count": 94,
   "id": "47ed8504-a116-4b0a-b02e-0c3c7061a854",
   "metadata": {},
   "outputs": [
    {
     "data": {
      "text/plain": [
       "FEMA_FLOOD_ZONE                          0\n",
       "IS_THERE_A_FLOOD_POLICY_IN_EFFECT    85635\n",
       "dtype: int64"
      ]
     },
     "execution_count": 94,
     "metadata": {},
     "output_type": "execute_result"
    }
   ],
   "source": [
    "df[df.columns[df.columns.str.contains('FLOOD')]].isna().sum()"
   ]
  },
  {
   "cell_type": "code",
   "execution_count": 95,
   "id": "0a6c59b9-7630-45a2-8b0f-4636a0b3e529",
   "metadata": {},
   "outputs": [
    {
     "data": {
      "text/plain": [
       "No     656061\n",
       "Yes    291468\n",
       "Name: IS_THERE_A_FLOOD_POLICY_IN_EFFECT, dtype: int64"
      ]
     },
     "execution_count": 95,
     "metadata": {},
     "output_type": "execute_result"
    }
   ],
   "source": [
    "df['IS_THERE_A_FLOOD_POLICY_IN_EFFECT'].value_counts()"
   ]
  },
  {
   "cell_type": "code",
   "execution_count": 96,
   "id": "88ddbccc-c2c2-40a5-8553-5c3f47be8ca3",
   "metadata": {},
   "outputs": [
    {
     "data": {
      "text/plain": [
       "FEMA_FLOOD_ZONE  IS_THERE_A_FLOOD_POLICY_IN_EFFECT\n",
       "MFHA             No                                   577308\n",
       "                 Yes                                   98120\n",
       "SFHA             No                                    78753\n",
       "                 Yes                                  193348\n",
       "Name: POLICY_NUMBER, dtype: int64"
      ]
     },
     "execution_count": 96,
     "metadata": {},
     "output_type": "execute_result"
    }
   ],
   "source": [
    "df.groupby(['FEMA_FLOOD_ZONE','IS_THERE_A_FLOOD_POLICY_IN_EFFECT'])['POLICY_NUMBER'].count()"
   ]
  },
  {
   "cell_type": "code",
   "execution_count": 97,
   "id": "b179a52f-65db-41fc-9931-b53c04f9635e",
   "metadata": {},
   "outputs": [],
   "source": [
    "df.loc[(df['IS_THERE_A_FLOOD_POLICY_IN_EFFECT'].isna()) & (df['FEMA_FLOOD_ZONE']=='SFHA'),'IS_THERE_A_FLOOD_POLICY_IN_EFFECT']='Yes'"
   ]
  },
  {
   "cell_type": "code",
   "execution_count": 98,
   "id": "a7debffa-7787-46d4-849f-86a8e66006f9",
   "metadata": {
    "tags": []
   },
   "outputs": [
    {
     "data": {
      "text/plain": [
       "array([nan], dtype=object)"
      ]
     },
     "execution_count": 98,
     "metadata": {},
     "output_type": "execute_result"
    }
   ],
   "source": [
    "df.loc[(df['IS_THERE_A_FLOOD_POLICY_IN_EFFECT'].isna()) & (df['FEMA_FLOOD_ZONE']=='MFHA'),'IS_THERE_A_FLOOD_POLICY_IN_EFFECT'].unique()"
   ]
  },
  {
   "cell_type": "code",
   "execution_count": 99,
   "id": "be70239e-4fdc-47d3-a356-f5543410c8f6",
   "metadata": {},
   "outputs": [
    {
     "data": {
      "text/plain": [
       "83883"
      ]
     },
     "execution_count": 99,
     "metadata": {},
     "output_type": "execute_result"
    }
   ],
   "source": [
    "df['IS_THERE_A_FLOOD_POLICY_IN_EFFECT'].isna().sum()"
   ]
  },
  {
   "cell_type": "code",
   "execution_count": 100,
   "id": "746a095d-2d1a-4a09-a63b-45373ecd6c50",
   "metadata": {},
   "outputs": [
    {
     "data": {
      "text/plain": [
       "Yes    698764\n",
       "No     334400\n",
       "Name: IS_RISK_WITHIN_CITY_LIMITS, dtype: int64"
      ]
     },
     "execution_count": 100,
     "metadata": {},
     "output_type": "execute_result"
    }
   ],
   "source": [
    "df['IS_RISK_WITHIN_CITY_LIMITS'].value_counts()"
   ]
  },
  {
   "cell_type": "code",
   "execution_count": 101,
   "id": "6aafcfa7-ae5c-457a-8bc2-c2da13ea1c85",
   "metadata": {},
   "outputs": [
    {
     "data": {
      "text/plain": [
       "0"
      ]
     },
     "execution_count": 101,
     "metadata": {},
     "output_type": "execute_result"
    }
   ],
   "source": [
    "df['IS_RISK_WITHIN_CITY_LIMITS'].isna().sum()"
   ]
  },
  {
   "cell_type": "code",
   "execution_count": 102,
   "id": "a8eacc90-f08d-4ba5-a916-a62c6f6a61b4",
   "metadata": {},
   "outputs": [],
   "source": [
    "# df.groupby(['FEMA_FLOOD_ZONE','IS_RISK_WITHIN_CITY_LIMITS'])['POLICY_NUMBER'].count()"
   ]
  },
  {
   "cell_type": "code",
   "execution_count": 103,
   "id": "0220abbe-2cf7-428d-ad66-218d22c84cfc",
   "metadata": {},
   "outputs": [
    {
     "data": {
      "text/plain": [
       "Yes    818876\n",
       "No     214288\n",
       "Name: IS_DWELLING_ON_MASONARY, dtype: int64"
      ]
     },
     "execution_count": 103,
     "metadata": {},
     "output_type": "execute_result"
    }
   ],
   "source": [
    "df['IS_DWELLING_ON_MASONARY'].value_counts()"
   ]
  },
  {
   "cell_type": "code",
   "execution_count": 104,
   "id": "ec0f5290-2ee2-42b1-b11e-27a83006a5ae",
   "metadata": {},
   "outputs": [
    {
     "data": {
      "text/plain": [
       "0"
      ]
     },
     "execution_count": 104,
     "metadata": {},
     "output_type": "execute_result"
    }
   ],
   "source": [
    "df['IS_DWELLING_ON_MASONARY'].isna().sum()"
   ]
  },
  {
   "cell_type": "markdown",
   "id": "713f0112-3bf3-4a08-b679-6ea7080ae6bd",
   "metadata": {},
   "source": [
    "## Property age and the YEAR BUILT AND DATE OCCUPIED columns"
   ]
  },
  {
   "cell_type": "code",
   "execution_count": 106,
   "id": "554bdc08-8ded-4466-8f36-73c38e8f3f0e",
   "metadata": {},
   "outputs": [
    {
     "data": {
      "text/plain": [
       "(6,)"
      ]
     },
     "execution_count": 106,
     "metadata": {},
     "output_type": "execute_result"
    }
   ],
   "source": [
    "df.loc[df['YEAR_BUILT']<1850,'YEAR_BUILT'].shape"
   ]
  },
  {
   "cell_type": "code",
   "execution_count": 107,
   "id": "fcb7363e-f2f1-49e6-a911-1bb915400eb4",
   "metadata": {},
   "outputs": [],
   "source": [
    "inds = df.loc[df['YEAR_BUILT']<1850,'YEAR_BUILT'].index\n",
    "df.drop(index=inds,inplace=True)"
   ]
  },
  {
   "cell_type": "code",
   "execution_count": 108,
   "id": "4c390adc-d6a5-486c-bb27-f0fef48a000e",
   "metadata": {},
   "outputs": [],
   "source": [
    "inds = df.loc[df['YEAR_BUILT']>2023,'YEAR_BUILT'].index\n",
    "df.drop(index=inds,inplace=True)"
   ]
  },
  {
   "cell_type": "code",
   "execution_count": 109,
   "id": "07d2ca53-3636-4970-ba4c-5d6897c932ec",
   "metadata": {},
   "outputs": [],
   "source": [
    "df['DATE_OCCUPIED']=pd.to_datetime(df['DATE_OCCUPIED'],errors='coerce')"
   ]
  },
  {
   "cell_type": "code",
   "execution_count": 110,
   "id": "59610fdb-82f4-449f-a915-4a30740c785f",
   "metadata": {},
   "outputs": [],
   "source": [
    "df.loc[df['DATE_OCCUPIED'].isna(),'DATE_OCCUPIED_YEAR']= 1974"
   ]
  },
  {
   "cell_type": "code",
   "execution_count": 111,
   "id": "0db2950a-c898-461f-8414-6a6d8a4665fe",
   "metadata": {},
   "outputs": [],
   "source": [
    "df['DATE_OCCUPIED_YEAR']=df['DATE_OCCUPIED'].dt.year"
   ]
  },
  {
   "cell_type": "code",
   "execution_count": 112,
   "id": "3b92622d-3313-4b86-b44a-52497bf51ed9",
   "metadata": {},
   "outputs": [
    {
     "data": {
      "text/plain": [
       "Int64Index([    327,     440,     601,    1307,    1618,    2283,    2397,\n",
       "               2429,    2591,    2616,\n",
       "            ...\n",
       "            1022295, 1022445, 1024100, 1024521, 1028111, 1029014, 1029318,\n",
       "            1031316, 1032354, 1033007],\n",
       "           dtype='int64', length=662)"
      ]
     },
     "execution_count": 112,
     "metadata": {},
     "output_type": "execute_result"
    }
   ],
   "source": [
    "inds= df.loc[df['YEAR_BUILT']>df['DATE_OCCUPIED_YEAR'],['YEAR_BUILT','DATE_OCCUPIED_YEAR']].index\n",
    "inds"
   ]
  },
  {
   "cell_type": "code",
   "execution_count": 113,
   "id": "071fcfcf-583a-494a-9e58-f4e22edc02bd",
   "metadata": {
    "collapsed": true,
    "jupyter": {
     "outputs_hidden": true
    },
    "tags": []
   },
   "outputs": [
    {
     "name": "stdout",
     "output_type": "stream",
     "text": [
      "327\n",
      "440\n",
      "601\n",
      "1307\n",
      "1618\n",
      "2283\n",
      "2397\n",
      "2429\n",
      "2591\n",
      "2616\n",
      "3546\n",
      "4723\n",
      "7390\n",
      "7440\n",
      "8256\n",
      "9294\n",
      "9861\n",
      "9913\n",
      "9979\n",
      "10273\n",
      "10278\n",
      "10450\n",
      "11046\n",
      "11189\n",
      "12210\n",
      "12299\n",
      "12682\n",
      "13051\n",
      "13152\n",
      "13901\n",
      "13977\n",
      "14159\n",
      "14536\n",
      "14969\n",
      "16334\n",
      "17130\n",
      "17240\n",
      "17776\n",
      "18500\n",
      "18981\n",
      "19397\n",
      "19565\n",
      "22022\n",
      "23203\n",
      "23251\n",
      "23278\n",
      "25238\n",
      "25968\n",
      "26768\n",
      "27089\n",
      "27601\n",
      "28016\n",
      "28398\n",
      "28852\n",
      "29307\n",
      "32116\n",
      "35254\n",
      "35379\n",
      "35798\n",
      "36572\n",
      "36731\n",
      "37058\n",
      "37316\n",
      "37963\n",
      "39360\n",
      "40848\n",
      "41266\n",
      "42788\n",
      "43187\n",
      "43612\n",
      "43906\n",
      "44709\n",
      "45556\n",
      "46573\n",
      "46902\n",
      "49797\n",
      "50585\n",
      "51381\n",
      "51979\n",
      "52777\n",
      "53067\n",
      "54471\n",
      "55164\n",
      "55428\n",
      "56657\n",
      "57580\n",
      "58110\n",
      "58415\n",
      "58773\n",
      "59261\n",
      "59296\n",
      "60066\n",
      "61075\n",
      "61178\n",
      "61966\n",
      "62366\n",
      "63706\n",
      "63800\n",
      "65420\n",
      "65985\n",
      "66521\n",
      "67660\n",
      "67699\n",
      "67986\n",
      "68022\n",
      "68169\n",
      "69507\n",
      "71394\n",
      "71968\n",
      "72656\n",
      "73220\n",
      "73255\n",
      "73992\n",
      "75041\n",
      "75052\n",
      "76031\n",
      "77125\n",
      "77155\n",
      "77683\n",
      "77696\n",
      "77866\n",
      "78311\n",
      "78871\n",
      "79503\n",
      "79611\n",
      "79892\n",
      "80207\n",
      "80918\n",
      "80958\n",
      "81511\n",
      "81518\n",
      "82615\n",
      "82754\n",
      "83045\n",
      "83175\n",
      "83177\n",
      "83517\n",
      "84995\n",
      "85270\n",
      "85787\n",
      "86424\n",
      "87125\n",
      "87251\n",
      "87716\n",
      "87778\n",
      "88047\n",
      "88973\n",
      "89961\n",
      "90208\n",
      "90238\n",
      "90568\n",
      "90838\n",
      "90862\n",
      "91123\n",
      "91133\n",
      "91235\n",
      "91402\n",
      "91708\n",
      "92357\n",
      "92388\n",
      "92729\n",
      "92733\n",
      "92931\n",
      "93562\n",
      "94003\n",
      "94133\n",
      "94150\n",
      "95109\n",
      "95155\n",
      "95624\n",
      "96255\n",
      "96543\n",
      "96577\n",
      "97794\n",
      "97923\n",
      "97950\n",
      "98312\n",
      "98980\n",
      "99932\n",
      "100338\n",
      "100339\n",
      "100530\n",
      "101579\n",
      "101861\n",
      "101957\n",
      "103209\n",
      "103452\n",
      "103476\n",
      "103589\n",
      "103836\n",
      "104339\n",
      "104493\n",
      "104661\n",
      "104702\n",
      "105094\n",
      "106023\n",
      "106493\n",
      "106518\n",
      "106691\n",
      "107003\n",
      "107914\n",
      "107967\n",
      "108390\n",
      "108484\n",
      "108521\n",
      "108640\n",
      "109251\n",
      "109316\n",
      "109419\n",
      "110721\n",
      "111346\n",
      "111593\n",
      "111692\n",
      "111949\n",
      "112897\n",
      "112948\n",
      "112957\n",
      "112982\n",
      "113272\n",
      "113417\n",
      "113948\n",
      "114140\n",
      "115137\n",
      "115243\n",
      "115311\n",
      "115667\n",
      "115880\n",
      "116357\n",
      "116608\n",
      "116616\n",
      "117049\n",
      "117070\n",
      "117096\n",
      "117508\n",
      "117594\n",
      "117829\n",
      "117836\n",
      "118294\n",
      "118474\n",
      "119158\n",
      "119167\n",
      "119552\n",
      "120047\n",
      "120094\n",
      "120151\n",
      "120184\n",
      "120351\n",
      "120452\n",
      "120966\n",
      "121746\n",
      "121770\n",
      "121962\n",
      "122015\n",
      "122022\n",
      "122228\n",
      "123664\n",
      "123724\n",
      "124057\n",
      "124118\n",
      "124180\n",
      "124553\n",
      "124698\n",
      "125041\n",
      "125377\n",
      "125618\n",
      "126442\n",
      "126734\n",
      "126745\n",
      "127216\n",
      "127757\n",
      "127866\n",
      "127867\n",
      "127934\n",
      "128678\n",
      "128960\n",
      "129541\n",
      "130594\n",
      "130925\n",
      "131023\n",
      "131193\n",
      "132005\n",
      "132017\n",
      "132087\n",
      "132588\n",
      "133783\n",
      "134643\n",
      "134745\n",
      "135868\n",
      "136379\n",
      "136823\n",
      "137051\n",
      "137448\n",
      "139509\n",
      "139620\n",
      "139661\n",
      "139669\n",
      "140021\n",
      "140074\n",
      "140258\n",
      "140610\n",
      "141482\n",
      "142045\n",
      "142823\n",
      "143267\n",
      "143392\n",
      "144180\n",
      "144861\n",
      "146330\n",
      "146843\n",
      "147015\n",
      "147347\n",
      "148317\n",
      "148694\n",
      "148782\n",
      "151165\n",
      "156087\n",
      "157020\n",
      "157648\n",
      "158302\n",
      "158643\n",
      "159125\n",
      "159576\n",
      "160093\n",
      "160186\n",
      "160303\n",
      "160499\n",
      "160637\n",
      "160668\n",
      "161475\n",
      "161560\n",
      "161716\n",
      "161817\n",
      "162470\n",
      "163494\n",
      "163637\n",
      "164281\n",
      "165906\n",
      "167825\n",
      "168075\n",
      "168885\n",
      "173860\n",
      "173992\n",
      "174061\n",
      "174425\n",
      "174668\n",
      "175129\n",
      "175691\n",
      "176248\n",
      "176499\n",
      "177056\n",
      "178564\n",
      "178826\n",
      "180754\n",
      "181703\n",
      "181708\n",
      "183958\n",
      "183976\n",
      "184271\n",
      "184366\n",
      "184999\n",
      "185473\n",
      "185588\n",
      "185943\n",
      "185946\n",
      "186005\n",
      "186234\n",
      "188604\n",
      "188826\n",
      "191218\n",
      "196300\n",
      "197279\n",
      "199427\n",
      "202868\n",
      "203790\n",
      "206801\n",
      "206845\n",
      "207255\n",
      "208501\n",
      "208619\n",
      "209129\n",
      "209734\n",
      "209805\n",
      "210371\n",
      "210631\n",
      "210710\n",
      "210781\n",
      "211283\n",
      "211476\n",
      "211538\n",
      "211640\n",
      "211741\n",
      "212879\n",
      "213356\n",
      "213380\n",
      "213872\n",
      "214720\n",
      "214732\n",
      "214843\n",
      "215003\n",
      "215543\n",
      "216812\n",
      "217046\n",
      "217233\n",
      "218241\n",
      "218738\n",
      "218965\n",
      "219735\n",
      "220396\n",
      "221396\n",
      "222452\n",
      "222512\n",
      "222951\n",
      "223250\n",
      "223501\n",
      "224959\n",
      "225958\n",
      "226201\n",
      "227452\n",
      "231741\n",
      "233870\n",
      "235416\n",
      "235779\n",
      "235927\n",
      "236070\n",
      "236854\n",
      "237556\n",
      "238894\n",
      "239533\n",
      "239565\n",
      "239955\n",
      "240263\n",
      "240415\n",
      "240681\n",
      "240918\n",
      "240996\n",
      "241645\n",
      "242064\n",
      "242755\n",
      "243650\n",
      "244379\n",
      "248150\n",
      "248478\n",
      "249124\n",
      "250999\n",
      "251565\n",
      "252383\n",
      "252559\n",
      "252585\n",
      "253047\n",
      "253809\n",
      "253904\n",
      "254398\n",
      "255184\n",
      "255199\n",
      "255203\n",
      "255594\n",
      "255609\n",
      "256446\n",
      "256497\n",
      "258243\n",
      "258954\n",
      "259064\n",
      "259540\n",
      "259551\n",
      "261303\n",
      "262434\n",
      "263686\n",
      "263763\n",
      "263980\n",
      "267371\n",
      "286035\n",
      "286897\n",
      "286972\n",
      "297954\n",
      "299605\n",
      "302066\n",
      "302706\n",
      "305635\n",
      "310873\n",
      "312242\n",
      "315555\n",
      "317471\n",
      "319202\n",
      "329186\n",
      "330495\n",
      "332802\n",
      "333287\n",
      "341259\n",
      "343665\n",
      "347052\n",
      "348146\n",
      "348918\n",
      "349461\n",
      "363919\n",
      "365907\n",
      "366297\n",
      "366559\n",
      "366584\n",
      "369669\n",
      "373083\n",
      "373158\n",
      "374307\n",
      "375286\n",
      "377650\n",
      "379030\n",
      "384170\n",
      "386857\n",
      "391107\n",
      "391256\n",
      "396715\n",
      "402745\n",
      "409491\n",
      "413587\n",
      "428184\n",
      "435667\n",
      "442352\n",
      "445034\n",
      "446298\n",
      "449864\n",
      "470527\n",
      "470831\n",
      "471567\n",
      "478074\n",
      "478316\n",
      "478505\n",
      "485021\n",
      "485141\n",
      "485194\n",
      "495692\n",
      "495823\n",
      "498009\n",
      "508844\n",
      "513800\n",
      "516540\n",
      "517766\n",
      "531060\n",
      "531194\n",
      "534706\n",
      "538520\n",
      "539103\n",
      "540398\n",
      "542459\n",
      "544744\n",
      "544950\n",
      "546938\n",
      "548713\n",
      "548755\n",
      "549676\n",
      "552480\n",
      "553766\n",
      "558271\n",
      "558283\n",
      "559359\n",
      "560393\n",
      "564249\n",
      "566745\n",
      "568848\n",
      "570712\n",
      "571482\n",
      "572358\n",
      "572397\n",
      "574705\n",
      "574714\n",
      "579217\n",
      "579258\n",
      "581346\n",
      "581470\n",
      "587711\n",
      "588173\n",
      "593880\n",
      "605708\n",
      "605774\n",
      "611503\n",
      "611504\n",
      "615429\n",
      "617743\n",
      "621669\n",
      "622681\n",
      "624906\n",
      "625561\n",
      "625773\n",
      "631018\n",
      "651252\n",
      "681002\n",
      "681843\n",
      "685398\n",
      "685736\n",
      "688376\n",
      "689852\n",
      "691209\n",
      "699329\n",
      "704858\n",
      "707062\n",
      "707784\n",
      "713372\n",
      "714798\n",
      "724676\n",
      "724787\n",
      "727966\n",
      "729763\n",
      "734817\n",
      "745929\n",
      "746801\n",
      "765187\n",
      "765601\n",
      "772237\n",
      "799980\n",
      "812696\n",
      "816018\n",
      "817549\n",
      "824781\n",
      "842091\n",
      "843088\n",
      "847787\n",
      "859612\n",
      "859621\n",
      "860875\n",
      "860944\n",
      "883360\n",
      "886941\n",
      "896922\n",
      "897463\n",
      "900323\n",
      "904950\n",
      "907162\n",
      "908775\n",
      "909166\n",
      "928225\n",
      "934207\n",
      "939794\n",
      "942062\n",
      "946022\n",
      "949827\n",
      "963746\n",
      "966124\n",
      "966698\n",
      "973518\n",
      "974902\n",
      "975095\n",
      "975557\n",
      "976058\n",
      "978681\n",
      "981251\n",
      "981946\n",
      "982047\n",
      "983945\n",
      "986267\n",
      "991129\n",
      "1005564\n",
      "1009417\n",
      "1012400\n",
      "1017882\n",
      "1022295\n",
      "1022445\n",
      "1024100\n",
      "1024521\n",
      "1028111\n",
      "1029014\n",
      "1029318\n",
      "1031316\n",
      "1032354\n",
      "1033007\n"
     ]
    }
   ],
   "source": [
    "for i in inds:\n",
    "    print(i)\n",
    "    df.loc[i,'DATE_OCCUPIED_YEAR']=df.loc[i,'YEAR_BUILT']"
   ]
  },
  {
   "cell_type": "code",
   "execution_count": 117,
   "id": "d96e24f3-f025-4f9b-a283-960ff41cf2ad",
   "metadata": {},
   "outputs": [],
   "source": [
    "# df['PURCHASED_LEASED_DATE']=pd.to_numeric(df['PURCHASED_LEASED_DATE'],errors='coerce')"
   ]
  },
  {
   "cell_type": "code",
   "execution_count": 118,
   "id": "a4a7b0ee-aa15-4caf-b30a-338cefec154f",
   "metadata": {},
   "outputs": [],
   "source": [
    "df['PURCHASED_LEASED_DATE']  =pd.to_datetime(df['PURCHASED_LEASED_DATE'],errors='coerce')"
   ]
  },
  {
   "cell_type": "code",
   "execution_count": 119,
   "id": "b2e4b92f-aa9b-44e2-a7bb-73bfd9eb6cc3",
   "metadata": {},
   "outputs": [
    {
     "data": {
      "text/plain": [
       "PURCHASED_LEASED_DATE    0\n",
       "DATE_OCCUPIED            1\n",
       "YEAR_BUILT               0\n",
       "dtype: int64"
      ]
     },
     "execution_count": 119,
     "metadata": {},
     "output_type": "execute_result"
    }
   ],
   "source": [
    "df[['PURCHASED_LEASED_DATE','DATE_OCCUPIED','YEAR_BUILT']].isna().sum()"
   ]
  },
  {
   "cell_type": "code",
   "execution_count": 125,
   "id": "2b0ce3c9-f2af-465d-874f-b9dae26e37a1",
   "metadata": {},
   "outputs": [],
   "source": [
    "# df.loc[df['YEAR_BUILT']>df['PURCHASED_LEASED_YEAR'],['YEAR_BUILT','PURCHASED_LEASED_YEAR']]"
   ]
  },
  {
   "cell_type": "code",
   "execution_count": null,
   "id": "ca9d936e-3a51-4f35-bb46-7516423085be",
   "metadata": {},
   "outputs": [],
   "source": [
    "sns.boxplot(df['PURCHASED_LEASED_YEAR'] - df['YEAR_BUILT'])"
   ]
  },
  {
   "cell_type": "markdown",
   "id": "ba67f3ac-c5f1-4444-9ce3-36279f77f432",
   "metadata": {},
   "source": [
    "A policy can be purchased in different options:\n",
    "1. It can be purchased after the house has been built\n",
    "2. It can be purchased after the fam has occupied in the house\n",
    "3. It can also be purchased when the house is under constructiion"
   ]
  },
  {
   "cell_type": "code",
   "execution_count": 126,
   "id": "f50eccf3-c176-4691-abc7-06624ce8edac",
   "metadata": {},
   "outputs": [
    {
     "data": {
      "text/plain": [
       "Masonry                       754201\n",
       "Frame                         146917\n",
       "Masonry Veneer                 22422\n",
       "Masonry Non-Combustible        14651\n",
       "Fire Resistive                 13717\n",
       "Superior                        8026\n",
       "Plastic Siding over Frame       1179\n",
       "Non-Combustible                  605\n",
       "Aluminum Siding Over Frame       587\n",
       "Modular                          116\n",
       "Name: CONSTRUCTION, dtype: int64"
      ]
     },
     "execution_count": 126,
     "metadata": {},
     "output_type": "execute_result"
    }
   ],
   "source": [
    "df['CONSTRUCTION'].value_counts()"
   ]
  },
  {
   "cell_type": "code",
   "execution_count": 127,
   "id": "59ae2898-f350-4b4b-8f7d-d52ade939e8e",
   "metadata": {},
   "outputs": [
    {
     "data": {
      "text/plain": [
       "70737"
      ]
     },
     "execution_count": 127,
     "metadata": {},
     "output_type": "execute_result"
    }
   ],
   "source": [
    "df['CONSTRUCTION'].isna().sum()"
   ]
  },
  {
   "cell_type": "code",
   "execution_count": 128,
   "id": "f43e8bd5-ee0a-4466-8775-f6c5049d21ac",
   "metadata": {},
   "outputs": [],
   "source": [
    "# fixed the missing values concept for the construction columns\n",
    "df.loc[(df['IS_DWELLING_ON_MASONARY']=='Yes') & (df['CONSTRUCTION'].isna()),'CONSTRUCTION'] = 'Masonry'"
   ]
  },
  {
   "cell_type": "code",
   "execution_count": 130,
   "id": "aca9b494-da4d-4118-a8a2-645ed59243e9",
   "metadata": {},
   "outputs": [
    {
     "data": {
      "text/plain": [
       "Dwelling       962421\n",
       "Mobile Home     70737\n",
       "Name: COVERAGE_STRUCTURE, dtype: int64"
      ]
     },
     "execution_count": 130,
     "metadata": {},
     "output_type": "execute_result"
    }
   ],
   "source": [
    "df['COVERAGE_STRUCTURE'].value_counts()"
   ]
  },
  {
   "cell_type": "code",
   "execution_count": 132,
   "id": "ed6708a9-8165-4af2-9e35-e9a6bb4610f5",
   "metadata": {},
   "outputs": [
    {
     "data": {
      "text/plain": [
       "5899"
      ]
     },
     "execution_count": 132,
     "metadata": {},
     "output_type": "execute_result"
    }
   ],
   "source": [
    "df['TOTAL_AREA_OF_BUILDING_SQFEET'].isna().sum()"
   ]
  },
  {
   "cell_type": "code",
   "execution_count": 135,
   "id": "9d94567c-8c1b-46cd-a760-5464532cb11b",
   "metadata": {},
   "outputs": [],
   "source": [
    "d={}\n",
    "for i in df['PROPERTY_ZIPCODE'].unique():\n",
    "    k = df.loc[df['PROPERTY_ZIPCODE']==i,'TOTAL_AREA_OF_BUILDING_SQFEET'].mean()\n",
    "    d[i] = k"
   ]
  },
  {
   "cell_type": "code",
   "execution_count": 136,
   "id": "ffe7716d-27e5-4c45-85fc-93b4c2103a76",
   "metadata": {},
   "outputs": [],
   "source": [
    "for i in df['PROPERTY_ZIPCODE'].unique():\n",
    "    df.loc[(df['TOTAL_AREA_OF_BUILDING_SQFEET'].isna()) & (df['PROPERTY_ZIPCODE']==i),'TOTAL_AREA_OF_BUILDING_SQFEET']=d[i]"
   ]
  },
  {
   "cell_type": "code",
   "execution_count": 137,
   "id": "ee4770ed-6d24-45d6-bb7d-37f867bf8278",
   "metadata": {},
   "outputs": [],
   "source": [
    "inds= df.loc[df['TOTAL_AREA_OF_BUILDING_SQFEET'].isna()].index\n",
    "df.drop(index=inds,inplace=True)"
   ]
  },
  {
   "cell_type": "markdown",
   "id": "87e79156-f49e-4c79-b92f-ad71e52455bd",
   "metadata": {},
   "source": [
    "### Area and SQFT and the NUMBER OF  STOREYS"
   ]
  },
  {
   "cell_type": "code",
   "execution_count": 138,
   "id": "d644da5d-8826-4651-bd9a-e9d5b6e0fa15",
   "metadata": {
    "tags": []
   },
   "outputs": [
    {
     "data": {
      "text/plain": [
       "35472"
      ]
     },
     "execution_count": 138,
     "metadata": {},
     "output_type": "execute_result"
    }
   ],
   "source": [
    "df['NUMBER_OF_STORIES'].isna().sum()"
   ]
  },
  {
   "cell_type": "code",
   "execution_count": 139,
   "id": "c1a969c1-347d-4bd2-9724-de812ecc614c",
   "metadata": {},
   "outputs": [],
   "source": [
    "inds =df.loc[df['NUMBER_OF_STORIES']==0].index\n",
    "df.drop(index=inds,inplace=True)"
   ]
  },
  {
   "cell_type": "code",
   "execution_count": 141,
   "id": "269517a3-cfbb-4500-9da4-4abe7de9f586",
   "metadata": {},
   "outputs": [
    {
     "data": {
      "text/plain": [
       "(1033156, 143)"
      ]
     },
     "execution_count": 141,
     "metadata": {},
     "output_type": "execute_result"
    }
   ],
   "source": [
    "df.shape"
   ]
  },
  {
   "cell_type": "markdown",
   "id": "2ceb24a4-fc27-447d-990b-bac9ef0154c7",
   "metadata": {},
   "source": [
    "The height, in feet, and the number of stories of a building shall be determined based on the type of construction, occupancy classification and whether there is an automatic sprinkler system installed throughout the building."
   ]
  },
  {
   "cell_type": "code",
   "execution_count": 142,
   "id": "edc61458-8096-4582-8b82-3af4facde174",
   "metadata": {},
   "outputs": [
    {
     "data": {
      "text/plain": [
       "CONSTRUCTION\n",
       "Aluminum Siding Over Frame     1.0\n",
       "Fire Resistive                13.0\n",
       "Frame                          1.0\n",
       "Masonry                        1.0\n",
       "Masonry Non-Combustible        7.0\n",
       "Masonry Veneer                 1.0\n",
       "Modular                        1.0\n",
       "Non-Combustible               12.0\n",
       "Plastic Siding over Frame      1.0\n",
       "Superior                       8.0\n",
       "Name: NUMBER_OF_STORIES, dtype: float64"
      ]
     },
     "execution_count": 142,
     "metadata": {},
     "output_type": "execute_result"
    }
   ],
   "source": [
    "df.groupby('CONSTRUCTION')['NUMBER_OF_STORIES'].median()"
   ]
  },
  {
   "cell_type": "code",
   "execution_count": 143,
   "id": "7066df36-6e7e-4788-a1fa-d26eddbc7407",
   "metadata": {},
   "outputs": [
    {
     "data": {
      "text/plain": [
       "None               986892\n",
       "Class B-Full         1372\n",
       "Class A-Partial      1244\n",
       "Name: SPRINKLER_SYSTEM_TYPE, dtype: int64"
      ]
     },
     "execution_count": 143,
     "metadata": {},
     "output_type": "execute_result"
    }
   ],
   "source": [
    "df['SPRINKLER_SYSTEM_TYPE'].value_counts()"
   ]
  },
  {
   "cell_type": "code",
   "execution_count": 144,
   "id": "c2727a5e-3aca-4806-97aa-4f3b05fdb2f4",
   "metadata": {},
   "outputs": [],
   "source": [
    "for i in df['CONSTRUCTION'].unique():\n",
    "    for j in df['OCCUPANCY'].unique():\n",
    "        kk = df.loc[(df['OCCUPANCY']==j) & (df['CONSTRUCTION']==i),'NUMBER_OF_STORIES'].median()\n",
    "        df.loc[(df['OCCUPANCY']==j) & (df['CONSTRUCTION']==i) & (df['NUMBER_OF_STORIES'].isna()),'NUMBER_OF_STORIES']=kk"
   ]
  },
  {
   "cell_type": "code",
   "execution_count": 145,
   "id": "ce3cfe88-c71b-466a-8092-f33fba526245",
   "metadata": {},
   "outputs": [
    {
     "data": {
      "text/plain": [
       "<AxesSubplot: >"
      ]
     },
     "execution_count": 145,
     "metadata": {},
     "output_type": "execute_result"
    },
    {
     "data": {
      "image/png": "[encoded data removed]",
      "text/plain": [
       "<Figure size 640x480 with 1 Axes>"
      ]
     },
     "metadata": {},
     "output_type": "display_data"
    }
   ],
   "source": [
    "sns.boxplot(df['NUMBER_OF_STORIES'])"
   ]
  },
  {
   "cell_type": "code",
   "execution_count": 146,
   "id": "8e701d70-2022-4c13-adf1-1b9821dbc564",
   "metadata": {},
   "outputs": [
    {
     "data": {
      "text/plain": [
       "(711, 1003)"
      ]
     },
     "execution_count": 146,
     "metadata": {},
     "output_type": "execute_result"
    }
   ],
   "source": [
    "df['PROPERTY_CITY'].nunique(),df['PROPERTY_ZIPCODE'].nunique()"
   ]
  },
  {
   "cell_type": "code",
   "execution_count": 150,
   "id": "5d75625d-3bb8-4b63-bf53-dc8120095813",
   "metadata": {},
   "outputs": [
    {
     "name": "stdout",
     "output_type": "stream",
     "text": [
      "Int64Index([   1043,    1258,    1513,    1661,    1736,    2551,    2805,\n",
      "               2954,    3088,    3137,\n",
      "            ...\n",
      "            1031229, 1031454, 1031483, 1031732, 1031845, 1032296, 1032509,\n",
      "            1032574, 1032691, 1032704],\n",
      "           dtype='int64', length=4763)\n"
     ]
    }
   ],
   "source": [
    "inds = df.loc[df['NUMBER_OF_STORIES']>30].index\n",
    "print(inds)\n",
    "df.drop(index=inds,inplace=True)"
   ]
  },
  {
   "cell_type": "code",
   "execution_count": 151,
   "id": "88833ac7-195e-49e5-8f86-da17fd26c0b7",
   "metadata": {},
   "outputs": [],
   "source": [
    "inds = df.loc[df['NUMBER_OF_STORIES']>20].index\n",
    "df.drop(index=inds,inplace=True)"
   ]
  },
  {
   "cell_type": "code",
   "execution_count": 152,
   "id": "db834722-e306-4aef-a671-97bfc2797d34",
   "metadata": {},
   "outputs": [
    {
     "data": {
      "text/plain": [
       "23705"
      ]
     },
     "execution_count": 152,
     "metadata": {},
     "output_type": "execute_result"
    }
   ],
   "source": [
    "df['NUMBER_OF_STORIES'].isna().sum()"
   ]
  },
  {
   "cell_type": "code",
   "execution_count": 153,
   "id": "b5c66356-9a43-4835-ba96-733e77e1073c",
   "metadata": {},
   "outputs": [],
   "source": [
    "df.loc[df['NUMBER_OF_STORIES'].isna(),'NUMBER_OF_STORIES']=0.0"
   ]
  },
  {
   "cell_type": "code",
   "execution_count": null,
   "id": "f2080a87-b122-4e20-bfc9-9d6cfc9c4b0b",
   "metadata": {},
   "outputs": [],
   "source": [
    "# df.loc[(df['FLOOR_UNIT_LOCATED_ON'].isna()) & (df['NUMBER_OF_STORIES']==0),'FLOOR_UNIT_LOCATED_ON'] = 0.0"
   ]
  },
  {
   "cell_type": "code",
   "execution_count": null,
   "id": "261c5ceb-db17-4c8a-ad25-eb6280cea480",
   "metadata": {},
   "outputs": [],
   "source": [
    "# df.groupby(['NUMBER_OF_STORIES','FLOOR_UNIT_LOCATED_ON'])[\"POLICY_NUMBER\"].count()"
   ]
  },
  {
   "cell_type": "code",
   "execution_count": 155,
   "id": "b0a3a701-8c1e-428e-84db-e010b413984b",
   "metadata": {},
   "outputs": [],
   "source": [
    "inds= df.loc[df['NUMBER_OF_UNITS_IN_BUILDING']>150].index\n",
    "df.drop(index=inds,inplace=True)"
   ]
  },
  {
   "cell_type": "code",
   "execution_count": 158,
   "id": "30ccb6ee-5adb-459d-8d18-7c0c6b489ba8",
   "metadata": {},
   "outputs": [
    {
     "data": {
      "text/plain": [
       "68730"
      ]
     },
     "execution_count": 158,
     "metadata": {},
     "output_type": "execute_result"
    }
   ],
   "source": [
    "df['NUMBER_OF_UNITS_IN_BUILDING'].isna().sum()"
   ]
  },
  {
   "cell_type": "code",
   "execution_count": 159,
   "id": "746961cf-acb3-4346-81af-c12066c7e230",
   "metadata": {},
   "outputs": [],
   "source": [
    "df.loc[(df['NUMBER_OF_UNITS_IN_BUILDING'].isna()) & (df['NUMBER_OF_STORIES']==0),'NUMBER_OF_UNITS_IN_BUILDING']=0 "
   ]
  },
  {
   "cell_type": "code",
   "execution_count": 162,
   "id": "178f527b-4edc-4774-b794-b1bef5dfb546",
   "metadata": {},
   "outputs": [],
   "source": [
    "inds = df.loc[df['NUMBER_OF_STORIES']>100].index\n",
    "df.drop(index=inds,inplace=True)"
   ]
  },
  {
   "cell_type": "code",
   "execution_count": 164,
   "id": "06b2353b-4d47-48c1-9727-ff89509bb8e9",
   "metadata": {},
   "outputs": [
    {
     "data": {
      "text/plain": [
       "(3200, 143)"
      ]
     },
     "execution_count": 164,
     "metadata": {},
     "output_type": "execute_result"
    }
   ],
   "source": [
    "df.loc[df['NUMBER_OF_UNITS_IN_BUILDING']>100].shape"
   ]
  },
  {
   "cell_type": "code",
   "execution_count": 165,
   "id": "a2d30fff-af7e-450d-8102-df3dde20b56f",
   "metadata": {},
   "outputs": [
    {
     "data": {
      "text/plain": [
       "45025"
      ]
     },
     "execution_count": 165,
     "metadata": {},
     "output_type": "execute_result"
    }
   ],
   "source": [
    "df['NUMBER_OF_UNITS_IN_BUILDING'].isna().sum()"
   ]
  },
  {
   "cell_type": "code",
   "execution_count": 166,
   "id": "371c4cad-c861-4fce-93ef-fec614cc73ee",
   "metadata": {},
   "outputs": [
    {
     "data": {
      "text/plain": [
       "Index(['ROOF_MATERIAL', 'YEAR_ROOF_UPDATE', 'ROOF_COVER', 'ROOF_SHAPE',\n",
       "       'ROOF_DECK_ATTACH', 'ROOF_TO_WALL_ATTACH'],\n",
       "      dtype='object')"
      ]
     },
     "execution_count": 166,
     "metadata": {},
     "output_type": "execute_result"
    }
   ],
   "source": [
    "roof_cols = df.columns[df.columns.str.contains('ROOF')]\n",
    "roof_cols"
   ]
  },
  {
   "cell_type": "code",
   "execution_count": 167,
   "id": "0446034e-193f-42bc-a841-e2a946f1dd1f",
   "metadata": {},
   "outputs": [],
   "source": [
    "df.drop(columns=roof_cols,inplace=True)"
   ]
  },
  {
   "cell_type": "code",
   "execution_count": 168,
   "id": "67484c2e-e9f1-4d0e-8e6e-27e6d624f9cf",
   "metadata": {},
   "outputs": [
    {
     "data": {
      "text/plain": [
       "No     646886\n",
       "Yes    285049\n",
       "Name: IS_THERE_A_FLOOD_POLICY_IN_EFFECT, dtype: int64"
      ]
     },
     "execution_count": 168,
     "metadata": {},
     "output_type": "execute_result"
    }
   ],
   "source": [
    "df['IS_THERE_A_FLOOD_POLICY_IN_EFFECT'].value_counts()"
   ]
  },
  {
   "cell_type": "code",
   "execution_count": 169,
   "id": "c5116d8e-9dff-4e24-8e76-36af0c916442",
   "metadata": {},
   "outputs": [
    {
     "data": {
      "text/plain": [
       "FEMA_FLOOD_ZONE  IS_THERE_A_FLOOD_POLICY_IN_EFFECT\n",
       "MFHA             No                                   572924\n",
       "                 Yes                                   97216\n",
       "SFHA             No                                    73962\n",
       "                 Yes                                  187833\n",
       "Name: POLICY_NUMBER, dtype: int64"
      ]
     },
     "execution_count": 169,
     "metadata": {},
     "output_type": "execute_result"
    }
   ],
   "source": [
    "df.groupby(['FEMA_FLOOD_ZONE','IS_THERE_A_FLOOD_POLICY_IN_EFFECT'])['POLICY_NUMBER'].count()"
   ]
  },
  {
   "cell_type": "code",
   "execution_count": 170,
   "id": "15bd4c13-ddd1-47d1-a67e-9b452fb53845",
   "metadata": {},
   "outputs": [
    {
     "data": {
      "text/plain": [
       "MFHA    83540\n",
       "Name: FEMA_FLOOD_ZONE, dtype: int64"
      ]
     },
     "execution_count": 170,
     "metadata": {},
     "output_type": "execute_result"
    }
   ],
   "source": [
    "df.loc[df['IS_THERE_A_FLOOD_POLICY_IN_EFFECT'].isna(),'FEMA_FLOOD_ZONE'].value_counts()"
   ]
  },
  {
   "cell_type": "code",
   "execution_count": 171,
   "id": "a451c16a-4c41-4369-a9d1-46bf471fb0c3",
   "metadata": {},
   "outputs": [],
   "source": [
    "df.loc[(df['IS_THERE_A_FLOOD_POLICY_IN_EFFECT'].isna()) & (df['FEMA_FLOOD_ZONE']=='MFHA'),'IS_THERE_A_FLOOD_POLICY_IN_EFFECT']='No'"
   ]
  },
  {
   "cell_type": "code",
   "execution_count": 172,
   "id": "a98f024f-9a3d-4a7e-9708-2a9e6aaf3d71",
   "metadata": {},
   "outputs": [
    {
     "data": {
      "text/plain": [
       "MFHA    753680\n",
       "SFHA    261795\n",
       "Name: FEMA_FLOOD_ZONE, dtype: int64"
      ]
     },
     "execution_count": 172,
     "metadata": {},
     "output_type": "execute_result"
    }
   ],
   "source": [
    "df['FEMA_FLOOD_ZONE'].value_counts()"
   ]
  },
  {
   "cell_type": "code",
   "execution_count": 173,
   "id": "37f0030c-41e1-4d72-a67f-3234c245cb7a",
   "metadata": {},
   "outputs": [
    {
     "data": {
      "text/plain": [
       "0"
      ]
     },
     "execution_count": 173,
     "metadata": {},
     "output_type": "execute_result"
    }
   ],
   "source": [
    "df['IS_THERE_A_FLOOD_POLICY_IN_EFFECT'].isna().sum()"
   ]
  },
  {
   "cell_type": "code",
   "execution_count": 174,
   "id": "c5dc2bdd-e741-4326-89ae-e7a03925f8c6",
   "metadata": {},
   "outputs": [
    {
     "data": {
      "text/plain": [
       "Masonry                       767302\n",
       "Frame                         146840\n",
       "Masonry Veneer                 22355\n",
       "Masonry Non-Combustible        11042\n",
       "Fire Resistive                  8224\n",
       "Superior                        5968\n",
       "Plastic Siding over Frame       1178\n",
       "Aluminum Siding Over Frame       585\n",
       "Non-Combustible                  378\n",
       "Modular                          116\n",
       "Name: CONSTRUCTION, dtype: int64"
      ]
     },
     "execution_count": 174,
     "metadata": {},
     "output_type": "execute_result"
    }
   ],
   "source": [
    "df['CONSTRUCTION'].value_counts()"
   ]
  },
  {
   "cell_type": "code",
   "execution_count": 175,
   "id": "7b3e410a-2f8b-4f4f-90c0-ff9839862aee",
   "metadata": {},
   "outputs": [
    {
     "data": {
      "text/plain": [
       "Masonry                       657969\n",
       "Frame                         110734\n",
       "Masonry Veneer                 19736\n",
       "Masonry Non-Combustible         9759\n",
       "Fire Resistive                  7042\n",
       "Plastic Siding over Frame        988\n",
       "Aluminum Siding Over Frame       468\n",
       "Non-Combustible                  313\n",
       "Modular                           80\n",
       "Superior                          17\n",
       "Name: CONSTRUCTION, dtype: int64"
      ]
     },
     "execution_count": 175,
     "metadata": {},
     "output_type": "execute_result"
    }
   ],
   "source": [
    "df.loc[(df['IS_DWELLING_ON_MASONARY']=='Yes'),'CONSTRUCTION'].value_counts()"
   ]
  },
  {
   "cell_type": "code",
   "execution_count": 178,
   "id": "bc9a4cc7-acc3-4ec7-b415-582dbeec056c",
   "metadata": {},
   "outputs": [],
   "source": [
    "df.loc[df['CONSTRUCTION'].isna(),'CONSTRUCTION']='Masonry'"
   ]
  },
  {
   "cell_type": "code",
   "execution_count": 180,
   "id": "4fb35c07-2428-4653-8631-7aff9c7c64e7",
   "metadata": {},
   "outputs": [],
   "source": [
    "inds = df.loc[df['DATE_OCCUPIED'].isna()].index\n",
    "df.drop(index=inds,inplace=True)"
   ]
  },
  {
   "cell_type": "code",
   "execution_count": 181,
   "id": "60ff0452-83bb-4188-9020-34373ec5377f",
   "metadata": {},
   "outputs": [
    {
     "data": {
      "text/plain": [
       "1.0     891364\n",
       "2.0      35160\n",
       "3.0      12971\n",
       "4.0       6830\n",
       "5.0       3624\n",
       "6.0       2179\n",
       "7.0       1645\n",
       "8.0       1387\n",
       "9.0       1083\n",
       "10.0       896\n",
       "11.0       694\n",
       "12.0       609\n",
       "14.0       466\n",
       "15.0       393\n",
       "16.0       318\n",
       "17.0       243\n",
       "18.0       148\n",
       "13.0       103\n",
       "19.0        94\n",
       "20.0        67\n",
       "Name: FLOOR_UNIT_LOCATED_ON, dtype: int64"
      ]
     },
     "execution_count": 181,
     "metadata": {},
     "output_type": "execute_result"
    }
   ],
   "source": [
    "df['FLOOR_UNIT_LOCATED_ON'].value_counts()"
   ]
  },
  {
   "cell_type": "code",
   "execution_count": 182,
   "id": "efab7945-3b7e-4810-8564-2827fd8fb63f",
   "metadata": {},
   "outputs": [],
   "source": [
    "inds= df.loc[df['FLOOR_UNIT_LOCATED_ON']>10].index\n",
    "df.drop(index=inds,inplace=True)"
   ]
  },
  {
   "cell_type": "code",
   "execution_count": 183,
   "id": "54ded97f-15b9-43c9-9251-cf529dd2f747",
   "metadata": {},
   "outputs": [
    {
     "data": {
      "text/plain": [
       "1.0    31467\n",
       "0.0    23705\n",
       "2.0       27\n",
       "3.0        1\n",
       "Name: NUMBER_OF_STORIES, dtype: int64"
      ]
     },
     "execution_count": 183,
     "metadata": {},
     "output_type": "execute_result"
    }
   ],
   "source": [
    "df.loc[df['FLOOR_UNIT_LOCATED_ON'].isna(),'NUMBER_OF_STORIES'].value_counts()"
   ]
  },
  {
   "cell_type": "code",
   "execution_count": 184,
   "id": "fffa38cb-42ac-496e-a609-4f4942f84e52",
   "metadata": {},
   "outputs": [],
   "source": [
    "inds = df.loc[(df['NUMBER_OF_STORIES']>1)& (df['FLOOR_UNIT_LOCATED_ON'].isna()),'FLOOR_UNIT_LOCATED_ON'].index\n",
    "df.drop(index=inds,inplace=True)"
   ]
  },
  {
   "cell_type": "code",
   "execution_count": 185,
   "id": "34d08906-149a-4126-9ed1-284286c2497e",
   "metadata": {},
   "outputs": [],
   "source": [
    "df.loc[(df['FLOOR_UNIT_LOCATED_ON'].isna())& (df['NUMBER_OF_STORIES']==0),'FLOOR_UNIT_LOCATED_ON']=0"
   ]
  },
  {
   "cell_type": "code",
   "execution_count": 186,
   "id": "3640a6d3-91f4-4771-99be-c1fa4918f557",
   "metadata": {},
   "outputs": [],
   "source": [
    "df.loc[(df['FLOOR_UNIT_LOCATED_ON'].isna())& (df['NUMBER_OF_STORIES']==1),'FLOOR_UNIT_LOCATED_ON']=1"
   ]
  },
  {
   "cell_type": "code",
   "execution_count": 187,
   "id": "afba69ae-24e5-4f2d-b164-416acd6a2cf8",
   "metadata": {},
   "outputs": [
    {
     "data": {
      "text/plain": [
       "NUMBER_OF_STORIES\n",
       "0.0     0.000000\n",
       "1.0     1.000000\n",
       "2.0     1.110076\n",
       "3.0     1.733149\n",
       "4.0     2.423455\n",
       "5.0     2.931566\n",
       "6.0     3.437885\n",
       "7.0     3.908674\n",
       "8.0     4.420190\n",
       "9.0     4.965464\n",
       "10.0    5.373362\n",
       "11.0    5.529347\n",
       "12.0    5.395694\n",
       "13.0    5.438406\n",
       "14.0    5.387205\n",
       "15.0    5.641221\n",
       "16.0    5.719346\n",
       "17.0    5.608871\n",
       "18.0    5.215139\n",
       "19.0    5.556863\n",
       "20.0    5.515831\n",
       "Name: FLOOR_UNIT_LOCATED_ON, dtype: float64"
      ]
     },
     "execution_count": 187,
     "metadata": {},
     "output_type": "execute_result"
    }
   ],
   "source": [
    "df.groupby(['NUMBER_OF_STORIES'])['FLOOR_UNIT_LOCATED_ON'].mean()"
   ]
  },
  {
   "cell_type": "code",
   "execution_count": 188,
   "id": "f957f690-7a21-47af-9f2f-a23dbed7d434",
   "metadata": {},
   "outputs": [
    {
     "data": {
      "text/plain": [
       "Index(['CITIZENS_EMERGENCY_ASSESSMENT_AMOUNT', 'CITIZENS_EMERGENCY_ASSESSMENT_AMOUNT.1'], dtype='object')"
      ]
     },
     "execution_count": 188,
     "metadata": {},
     "output_type": "execute_result"
    }
   ],
   "source": [
    "ct = df.columns[df.columns.str.contains('CITIZENS')]\n",
    "ct"
   ]
  },
  {
   "cell_type": "code",
   "execution_count": 189,
   "id": "85c74491-a065-4595-bce0-2b94ea15e2a9",
   "metadata": {},
   "outputs": [
    {
     "data": {
      "text/html": [
       "<div>\n",
       "<style scoped>\n",
       "    .dataframe tbody tr th:only-of-type {\n",
       "        vertical-align: middle;\n",
       "    }\n",
       "\n",
       "    .dataframe tbody tr th {\n",
       "        vertical-align: top;\n",
       "    }\n",
       "\n",
       "    .dataframe thead th {\n",
       "        text-align: right;\n",
       "    }\n",
       "</style>\n",
       "<table border=\"1\" class=\"dataframe\">\n",
       "  <thead>\n",
       "    <tr style=\"text-align: right;\">\n",
       "      <th></th>\n",
       "      <th>POLICY_NUMBER</th>\n",
       "      <th>POLICY_TERM_NUMBER</th>\n",
       "      <th>POLICY_ENDORSEMENT_NUMBER</th>\n",
       "      <th>ACCOUNTING_COMPANY</th>\n",
       "      <th>PRODUCT_CATEGORY</th>\n",
       "      <th>POLICY_TYPE</th>\n",
       "      <th>HAS_POOL</th>\n",
       "      <th>IS_POOL_SCREENED</th>\n",
       "      <th>IS_POOL_FENCED</th>\n",
       "      <th>VICIOUS_ANIMALS_DESC</th>\n",
       "      <th>IS_DWELLING_ON_MASONARY</th>\n",
       "      <th>IS_MOBILE_HOME</th>\n",
       "      <th>PROTECTION_CLASS</th>\n",
       "      <th>WINDBORNE_DEBRIS_REGION</th>\n",
       "      <th>TERRAIN</th>\n",
       "      <th>IS_RISK_WITHIN_CITY_LIMITS</th>\n",
       "      <th>FEMA_FLOOD_ZONE</th>\n",
       "      <th>IS_THERE_A_FLOOD_POLICY_IN_EFFECT</th>\n",
       "      <th>YEAR_BUILT</th>\n",
       "      <th>CONSTRUCTION</th>\n",
       "      <th>TOTAL_AREA_OF_BUILDING_SQFEET</th>\n",
       "      <th>NUMBER_OF_STORIES</th>\n",
       "      <th>FLOOR_UNIT_LOCATED_ON</th>\n",
       "      <th>NUMBER_OF_UNITS_IN_BUILDING</th>\n",
       "      <th>TOTAL_LIVING_AREA_SQ_FEET</th>\n",
       "      <th>NUMBER_UNITS_IN_FIRE_DIVISION</th>\n",
       "      <th>ANY_PLUMBING_UNACCEPTABLE</th>\n",
       "      <th>ANY_HAZARDOUS_WIRING</th>\n",
       "      <th>ALUMINUM_WIRING_REMEDIATED</th>\n",
       "      <th>NUMBER_OF_AMPS</th>\n",
       "      <th>BCEG_CODE</th>\n",
       "      <th>PRIOR_CARRIER</th>\n",
       "      <th>WLM_BUILDING_TYPE</th>\n",
       "      <th>SECONDARY_WATER_RESISTANCE</th>\n",
       "      <th>OPENING_PROTECTION</th>\n",
       "      <th>CLASS_C_TYPE_GRANDFATHER</th>\n",
       "      <th>REPLACEMENT_COST</th>\n",
       "      <th>ALTERNATE_VALUATION_TYPE</th>\n",
       "      <th>MARKET_VALUE</th>\n",
       "      <th>PURCHASE_PRICE</th>\n",
       "      <th>ALTERNATE_VALUATION_ACV</th>\n",
       "      <th>DATE_OCCUPIED</th>\n",
       "      <th>RESIDENCE_TYPE</th>\n",
       "      <th>NUMBER_OF_FAMILIES</th>\n",
       "      <th>NUMBER_OF_BOARDERS</th>\n",
       "      <th>USAGETYPE</th>\n",
       "      <th>OCCUPANCY</th>\n",
       "      <th>MONTHS_UNOCCUPIED</th>\n",
       "      <th>FIRE_ALARM_TYPE</th>\n",
       "      <th>SPRINKLER_SYSTEM_TYPE</th>\n",
       "      <th>LOCKED_SECURITY_GATE</th>\n",
       "      <th>HAS_SECURITY_GUARD</th>\n",
       "      <th>COVERAGE_STRUCTURE</th>\n",
       "      <th>COVERAGE_A_DWELLING</th>\n",
       "      <th>COVERAGE_CONDO_UNIT_OWNER_LIMIT</th>\n",
       "      <th>COVERAGE_A_LOSS_SETTLEMENT</th>\n",
       "      <th>COVERAGE_B_OTHER_STRUCTURES_PERCENT</th>\n",
       "      <th>COVERAGE_B_OTHER_STRUCTURES_AMOUNT</th>\n",
       "      <th>COVERAGE_C_PERSONAL_PROPERTY_AMOUNT</th>\n",
       "      <th>COVERAGE_C_PERSONAL_PROPERTY_PERCENT</th>\n",
       "      <th>COVERAGE_C_LOSS_SETTLEMENT</th>\n",
       "      <th>COVERAGE_D_LOSS_OF_USE</th>\n",
       "      <th>COVERAGE_PERSONAL_LIABILITY_AMOUNT</th>\n",
       "      <th>COVERAGE_MEDICAL_PAYMENT_AMOUNT</th>\n",
       "      <th>PERSONAL_PROPERTY_REPLACEMENT_COST</th>\n",
       "      <th>SINKHOLE_LOSS_COVERAGE</th>\n",
       "      <th>COVERAGE_MOLD_PROPERTY_AMOUNT</th>\n",
       "      <th>COVERAGE_MOLD_LIABILITY_AMOUNT</th>\n",
       "      <th>COVERAGE_LOSS_ASSESMENT_AMOUNT</th>\n",
       "      <th>COVERAGE_ORDINANCE_LAW_LIMIT</th>\n",
       "      <th>COVERAGE_ORDINANCE_LAW_LIMIT_OF_LIABILITY</th>\n",
       "      <th>PREMIUM_SUBTOTAL</th>\n",
       "      <th>TOTAL_PREMIUM</th>\n",
       "      <th>BCEGS_MITIGATION_DISCOUNT</th>\n",
       "      <th>WLM_DISCOUNT</th>\n",
       "      <th>FIRE_PREMIUM_AMOUNT</th>\n",
       "      <th>WATER_PREMIUM_AMOUNT</th>\n",
       "      <th>LIABILITY_MEDICAL_PREMIUM_AMOUNT</th>\n",
       "      <th>AOP_PREMIUM_AMOUNT</th>\n",
       "      <th>SINKHOLE_PREMIUM_AMOUNT</th>\n",
       "      <th>THEFT_PREMIUM_AMOUNT</th>\n",
       "      <th>VMM_PREMIUM_AMOUNT</th>\n",
       "      <th>HURRICANE_PREMIUM_AMOUNT</th>\n",
       "      <th>OTHER_WIND_PREMIUM_AMOUNT</th>\n",
       "      <th>COVERAGE_A_DWELLING_SPECIAL_PREMIUM_COVERAGE</th>\n",
       "      <th>LOSS_ASSESSMENT_COVERAGE_AMOUNT</th>\n",
       "      <th>UNITS_REGULARLY_RENTED_TO_OTHERS_PREMIUM_AMOUNT</th>\n",
       "      <th>LIENHOLDER_SINGLE_INTEREST_PREMIUM_AMOUNT</th>\n",
       "      <th>INCREASED_ORDINANCE_LAW_PREMIUM_AMOUNT</th>\n",
       "      <th>CONDO_INCREASED_COVERAGE_A_PREMIUM_AMOUNT</th>\n",
       "      <th>BUILDING_ITEMS_GROUPI_PREMIUM</th>\n",
       "      <th>BUILDING_ITEMS_GROUPII_PREMIUM</th>\n",
       "      <th>IMPROVEMENTS_ALTER_GROUPI_PREMIUM_AMOUNT</th>\n",
       "      <th>IMPROVEMENTS_ALTER_GROUPII_PREMIUM_AMOUNT</th>\n",
       "      <th>TAX_EXEMPT_SRCHG_BGI_AMOUNT</th>\n",
       "      <th>TAX_EXEMPT_SRCHG_BGII_AMOUNT</th>\n",
       "      <th>MINIMUM_PREMIUM_AMOUNT</th>\n",
       "      <th>FHCF_BUILDUP_PREMIUM_AMOUNT</th>\n",
       "      <th>FIGA_2012_ASSESSMENT_AMOUNT</th>\n",
       "      <th>CITIZENS_EMERGENCY_ASSESSMENT_AMOUNT</th>\n",
       "      <th>FL_CATASTROPHE_FUND_AMOUNT</th>\n",
       "      <th>CITIZENS_EMERGENCY_ASSESSMENT_AMOUNT.1</th>\n",
       "      <th>TAX_EXEMPT_SRCHG_AMOUNT</th>\n",
       "      <th>CATASTROPHE_FUND_SURG_AMOUNT</th>\n",
       "      <th>HURRICANE_DEDUCTIBLE_PERCENT</th>\n",
       "      <th>HURRICANE_DEDUCTIBLE_AMOUNT</th>\n",
       "      <th>ALL_OTHER_PERILS</th>\n",
       "      <th>SINKHOLE_DEDUCTIBLE_AMOUNT</th>\n",
       "      <th>WIND_HAIL_DEDUCTIBLE_PERCENT</th>\n",
       "      <th>WIND_HAIL_DEDUCTIBLE_AMOUNT</th>\n",
       "      <th>IS_WIND_COVERAGE_EXCLUDED</th>\n",
       "      <th>HURRICANE_WIND_MITIGATION_FACTOR</th>\n",
       "      <th>VANDALISM_MALICIOUS_MISCHIEF</th>\n",
       "      <th>EXTENDED_COVERAGE</th>\n",
       "      <th>ENDHO0490</th>\n",
       "      <th>ENDHO1732</th>\n",
       "      <th>ENDHO1733</th>\n",
       "      <th>ENDHW1733</th>\n",
       "      <th>ENDMH0404</th>\n",
       "      <th>CURRENT_TERM_UNCAPPED_PREMIUM</th>\n",
       "      <th>NUMBER_OF_INSPECTIONS</th>\n",
       "      <th>PRIOR_POLICY_NUMBER_y</th>\n",
       "      <th>PURCHASED_LEASED_DATE</th>\n",
       "      <th>BILLING_METHOD</th>\n",
       "      <th>PAY_PLAN</th>\n",
       "      <th>PROPERTY_CITY</th>\n",
       "      <th>PROPERTY_STATE</th>\n",
       "      <th>PROPERTY_ZIPCODE</th>\n",
       "      <th>PROPERTY_COUNTY</th>\n",
       "      <th>AGENCY_NAME</th>\n",
       "      <th>AGENCY_FEIN</th>\n",
       "      <th>AGENCY_PHYSICAL_ADDRESS_CITY</th>\n",
       "      <th>AGENCY_PHYSICAL_ADDRESS_STATE</th>\n",
       "      <th>AGENCY_PHYSICAL_ADDRESS_ZIP_CODE</th>\n",
       "      <th>PROPERTY_ADDRESS</th>\n",
       "      <th>AGENCY_ADDRESS</th>\n",
       "      <th>DATE_OCCUPIED_YEAR</th>\n",
       "    </tr>\n",
       "  </thead>\n",
       "  <tbody>\n",
       "  </tbody>\n",
       "</table>\n",
       "</div>"
      ],
      "text/plain": [
       "Empty DataFrame\n",
       "Columns: [POLICY_NUMBER, POLICY_TERM_NUMBER, POLICY_ENDORSEMENT_NUMBER, ACCOUNTING_COMPANY, PRODUCT_CATEGORY, POLICY_TYPE, HAS_POOL, IS_POOL_SCREENED, IS_POOL_FENCED, VICIOUS_ANIMALS_DESC, IS_DWELLING_ON_MASONARY, IS_MOBILE_HOME, PROTECTION_CLASS, WINDBORNE_DEBRIS_REGION, TERRAIN, IS_RISK_WITHIN_CITY_LIMITS, FEMA_FLOOD_ZONE, IS_THERE_A_FLOOD_POLICY_IN_EFFECT, YEAR_BUILT, CONSTRUCTION, TOTAL_AREA_OF_BUILDING_SQFEET, NUMBER_OF_STORIES, FLOOR_UNIT_LOCATED_ON, NUMBER_OF_UNITS_IN_BUILDING, TOTAL_LIVING_AREA_SQ_FEET, NUMBER_UNITS_IN_FIRE_DIVISION, ANY_PLUMBING_UNACCEPTABLE, ANY_HAZARDOUS_WIRING, ALUMINUM_WIRING_REMEDIATED, NUMBER_OF_AMPS, BCEG_CODE, PRIOR_CARRIER, WLM_BUILDING_TYPE, SECONDARY_WATER_RESISTANCE, OPENING_PROTECTION, CLASS_C_TYPE_GRANDFATHER, REPLACEMENT_COST, ALTERNATE_VALUATION_TYPE, MARKET_VALUE, PURCHASE_PRICE, ALTERNATE_VALUATION_ACV, DATE_OCCUPIED, RESIDENCE_TYPE, NUMBER_OF_FAMILIES, NUMBER_OF_BOARDERS, USAGETYPE, OCCUPANCY, MONTHS_UNOCCUPIED, FIRE_ALARM_TYPE, SPRINKLER_SYSTEM_TYPE, LOCKED_SECURITY_GATE, HAS_SECURITY_GUARD, COVERAGE_STRUCTURE, COVERAGE_A_DWELLING, COVERAGE_CONDO_UNIT_OWNER_LIMIT, COVERAGE_A_LOSS_SETTLEMENT, COVERAGE_B_OTHER_STRUCTURES_PERCENT, COVERAGE_B_OTHER_STRUCTURES_AMOUNT, COVERAGE_C_PERSONAL_PROPERTY_AMOUNT, COVERAGE_C_PERSONAL_PROPERTY_PERCENT, COVERAGE_C_LOSS_SETTLEMENT, COVERAGE_D_LOSS_OF_USE, COVERAGE_PERSONAL_LIABILITY_AMOUNT, COVERAGE_MEDICAL_PAYMENT_AMOUNT, PERSONAL_PROPERTY_REPLACEMENT_COST, SINKHOLE_LOSS_COVERAGE, COVERAGE_MOLD_PROPERTY_AMOUNT, COVERAGE_MOLD_LIABILITY_AMOUNT, COVERAGE_LOSS_ASSESMENT_AMOUNT, COVERAGE_ORDINANCE_LAW_LIMIT, COVERAGE_ORDINANCE_LAW_LIMIT_OF_LIABILITY, PREMIUM_SUBTOTAL, TOTAL_PREMIUM, BCEGS_MITIGATION_DISCOUNT, WLM_DISCOUNT, FIRE_PREMIUM_AMOUNT, WATER_PREMIUM_AMOUNT, LIABILITY_MEDICAL_PREMIUM_AMOUNT, AOP_PREMIUM_AMOUNT, SINKHOLE_PREMIUM_AMOUNT, THEFT_PREMIUM_AMOUNT, VMM_PREMIUM_AMOUNT, HURRICANE_PREMIUM_AMOUNT, OTHER_WIND_PREMIUM_AMOUNT, COVERAGE_A_DWELLING_SPECIAL_PREMIUM_COVERAGE, LOSS_ASSESSMENT_COVERAGE_AMOUNT, UNITS_REGULARLY_RENTED_TO_OTHERS_PREMIUM_AMOUNT, LIENHOLDER_SINGLE_INTEREST_PREMIUM_AMOUNT, INCREASED_ORDINANCE_LAW_PREMIUM_AMOUNT, CONDO_INCREASED_COVERAGE_A_PREMIUM_AMOUNT, BUILDING_ITEMS_GROUPI_PREMIUM, BUILDING_ITEMS_GROUPII_PREMIUM, IMPROVEMENTS_ALTER_GROUPI_PREMIUM_AMOUNT, IMPROVEMENTS_ALTER_GROUPII_PREMIUM_AMOUNT, TAX_EXEMPT_SRCHG_BGI_AMOUNT, TAX_EXEMPT_SRCHG_BGII_AMOUNT, MINIMUM_PREMIUM_AMOUNT, FHCF_BUILDUP_PREMIUM_AMOUNT, FIGA_2012_ASSESSMENT_AMOUNT, CITIZENS_EMERGENCY_ASSESSMENT_AMOUNT, ...]\n",
       "Index: []"
      ]
     },
     "execution_count": 189,
     "metadata": {},
     "output_type": "execute_result"
    }
   ],
   "source": [
    "df.loc[df['CITIZENS_EMERGENCY_ASSESSMENT_AMOUNT']!=df['CITIZENS_EMERGENCY_ASSESSMENT_AMOUNT.1']]"
   ]
  },
  {
   "cell_type": "code",
   "execution_count": 190,
   "id": "17e20c2a-3eb1-4ba9-bf66-27dcd274a1a8",
   "metadata": {},
   "outputs": [],
   "source": [
    "df.drop(columns=['CITIZENS_EMERGENCY_ASSESSMENT_AMOUNT.1'],inplace=True)"
   ]
  },
  {
   "cell_type": "code",
   "execution_count": 191,
   "id": "ea1c2589-5818-4000-9fd6-d1c46a41f751",
   "metadata": {},
   "outputs": [],
   "source": [
    "df.loc[(df['NUMBER_OF_UNITS_IN_BUILDING'].isna()) & (df['NUMBER_OF_STORIES']==1),'NUMBER_OF_UNITS_IN_BUILDING']=0"
   ]
  },
  {
   "cell_type": "code",
   "execution_count": 192,
   "id": "364e4916-22a6-4345-9e55-d6d07ac03821",
   "metadata": {},
   "outputs": [
    {
     "data": {
      "text/plain": [
       "1.0     737465\n",
       "2.0     185017\n",
       "3.0      26704\n",
       "0.0      23705\n",
       "4.0      13626\n",
       "5.0       6941\n",
       "6.0       3574\n",
       "8.0       2318\n",
       "10.0      2290\n",
       "7.0       2179\n",
       "12.0      1347\n",
       "9.0       1303\n",
       "15.0      1048\n",
       "11.0       903\n",
       "20.0       758\n",
       "16.0       734\n",
       "14.0       594\n",
       "13.0       552\n",
       "18.0       502\n",
       "17.0       496\n",
       "19.0       255\n",
       "Name: NUMBER_OF_STORIES, dtype: int64"
      ]
     },
     "execution_count": 192,
     "metadata": {},
     "output_type": "execute_result"
    }
   ],
   "source": [
    "df['NUMBER_OF_STORIES'].value_counts()"
   ]
  },
  {
   "cell_type": "code",
   "execution_count": 197,
   "id": "1edd87be-44e3-4af8-bc43-e9ad4337dc5b",
   "metadata": {},
   "outputs": [],
   "source": [
    "inds = df.loc[df['TOTAL_AREA_OF_BUILDING_SQFEET']<120].index\n",
    "df.drop(index=inds,inplace=True)"
   ]
  },
  {
   "cell_type": "code",
   "execution_count": 198,
   "id": "1c34cf9d-46db-4496-a388-bc43cd5735f2",
   "metadata": {},
   "outputs": [],
   "source": [
    "inds = df.loc[df['TOTAL_AREA_OF_BUILDING_SQFEET']>3000].index\n",
    "df.drop(index=inds,inplace=True)"
   ]
  },
  {
   "cell_type": "code",
   "execution_count": 199,
   "id": "23f08d3e-7661-417a-9afd-c2a80b597703",
   "metadata": {},
   "outputs": [],
   "source": [
    "df.loc[df['TOTAL_LIVING_AREA_SQ_FEET'].isna(),'TOTAL_LIVING_AREA_SQ_FEET']=df['TOTAL_LIVING_AREA_SQ_FEET'].mean()"
   ]
  },
  {
   "cell_type": "code",
   "execution_count": 200,
   "id": "5703581b-12c5-48b0-b53e-ba8d8565364a",
   "metadata": {},
   "outputs": [
    {
     "data": {
      "text/plain": [
       "1521.5110649309026"
      ]
     },
     "execution_count": 200,
     "metadata": {},
     "output_type": "execute_result"
    }
   ],
   "source": [
    "df['TOTAL_LIVING_AREA_SQ_FEET'].mean()"
   ]
  },
  {
   "cell_type": "markdown",
   "id": "cd1503f5-ae62-4abd-9815-eb6b4ce6db74",
   "metadata": {},
   "source": [
    "## House characterstics"
   ]
  },
  {
   "cell_type": "code",
   "execution_count": 202,
   "id": "379ccf66-60f0-4a42-82fe-67856513d595",
   "metadata": {},
   "outputs": [],
   "source": [
    "df.loc[df['NUMBER_UNITS_IN_FIRE_DIVISION']=='9 or more','NUMBER_UNITS_IN_FIRE_DIVISION']='9'"
   ]
  },
  {
   "cell_type": "code",
   "execution_count": 203,
   "id": "e70b3848-69b1-403e-af3b-49d3f9a407c5",
   "metadata": {},
   "outputs": [],
   "source": [
    "df['NUMBER_UNITS_IN_FIRE_DIVISION']=pd.to_numeric(df['NUMBER_UNITS_IN_FIRE_DIVISION'],errors='coerce')"
   ]
  },
  {
   "cell_type": "code",
   "execution_count": 204,
   "id": "a5f0fac4-2126-450a-aa8a-de93ebe95576",
   "metadata": {},
   "outputs": [
    {
     "data": {
      "text/plain": [
       "NUMBER_OF_UNITS_IN_BUILDING  NUMBER_UNITS_IN_FIRE_DIVISION\n",
       "0.0                          1.0                               67884\n",
       "                             3.0                                   1\n",
       "1.0                          1.0                              664713\n",
       "2.0                          1.0                               19963\n",
       "                             2.0                                7810\n",
       "                                                               ...  \n",
       "150.0                        1.0                                 271\n",
       "                             2.0                                   2\n",
       "                             3.0                                   1\n",
       "                             4.0                                   2\n",
       "                             9.0                                   6\n",
       "Name: POLICY_NUMBER, Length: 527, dtype: int64"
      ]
     },
     "execution_count": 204,
     "metadata": {},
     "output_type": "execute_result"
    }
   ],
   "source": [
    "df.groupby(['NUMBER_OF_UNITS_IN_BUILDING','NUMBER_UNITS_IN_FIRE_DIVISION'])['POLICY_NUMBER'].count()"
   ]
  },
  {
   "cell_type": "code",
   "execution_count": 205,
   "id": "56322f4c-26a5-4602-9620-67f2f34bcf77",
   "metadata": {},
   "outputs": [],
   "source": [
    "df.loc[(df['NUMBER_UNITS_IN_FIRE_DIVISION'].isna()) & (df['NUMBER_OF_UNITS_IN_BUILDING']==0),'NUMBER_UNITS_IN_FIRE_DIVISION']=1"
   ]
  },
  {
   "cell_type": "code",
   "execution_count": 206,
   "id": "cb1b0e38-5cf9-48da-a340-ea5a68e97932",
   "metadata": {},
   "outputs": [
    {
     "data": {
      "text/plain": [
       "array([2036., 2417., 1989., ...,  221.,  190.,  288.])"
      ]
     },
     "execution_count": 206,
     "metadata": {},
     "output_type": "execute_result"
    }
   ],
   "source": [
    "df.loc[df['NUMBER_UNITS_IN_FIRE_DIVISION'].isna(),'TOTAL_AREA_OF_BUILDING_SQFEET'].unique()"
   ]
  },
  {
   "cell_type": "code",
   "execution_count": 207,
   "id": "7590b1c2-60f8-4729-8dd0-94323b1c3c0b",
   "metadata": {},
   "outputs": [
    {
     "data": {
      "text/plain": [
       "NUMBER_UNITS_IN_FIRE_DIVISION\n",
       "1.0    1544.322188\n",
       "2.0    1689.927673\n",
       "3.0    1881.329197\n",
       "4.0    1543.470703\n",
       "5.0    1362.183511\n",
       "6.0    1351.812863\n",
       "7.0    1468.038835\n",
       "8.0    1155.060899\n",
       "9.0     988.621277\n",
       "Name: TOTAL_AREA_OF_BUILDING_SQFEET, dtype: float64"
      ]
     },
     "execution_count": 207,
     "metadata": {},
     "output_type": "execute_result"
    }
   ],
   "source": [
    "df.groupby(['NUMBER_UNITS_IN_FIRE_DIVISION'])['TOTAL_AREA_OF_BUILDING_SQFEET'].mean()"
   ]
  },
  {
   "cell_type": "code",
   "execution_count": 209,
   "id": "771a5939-b793-4df1-b151-d93b37b5c32e",
   "metadata": {},
   "outputs": [
    {
     "data": {
      "text/plain": [
       "1.0    822953\n",
       "2.0      9392\n",
       "9.0      1709\n",
       "4.0      1640\n",
       "3.0      1182\n",
       "6.0       417\n",
       "8.0       407\n",
       "5.0       300\n",
       "7.0       103\n",
       "Name: NUMBER_UNITS_IN_FIRE_DIVISION, dtype: int64"
      ]
     },
     "execution_count": 209,
     "metadata": {},
     "output_type": "execute_result"
    }
   ],
   "source": [
    "df['NUMBER_UNITS_IN_FIRE_DIVISION'].value_counts()"
   ]
  },
  {
   "cell_type": "code",
   "execution_count": 210,
   "id": "ba408bf8-f2ea-4e21-864f-2339f197792a",
   "metadata": {},
   "outputs": [],
   "source": [
    "df.drop(columns=['NUMBER_UNITS_IN_FIRE_DIVISION'],inplace=True)"
   ]
  },
  {
   "cell_type": "code",
   "execution_count": 211,
   "id": "77db1d38-a0fc-46bc-b7b0-65b80bde6200",
   "metadata": {},
   "outputs": [
    {
     "data": {
      "text/plain": [
       "None of the Above    895585\n",
       "Other                  8006\n",
       "Aluminum Branch        1775\n",
       "Copper Wiring          1248\n",
       "Knob and Tube             1\n",
       "Name: ANY_HAZARDOUS_WIRING, dtype: int64"
      ]
     },
     "execution_count": 211,
     "metadata": {},
     "output_type": "execute_result"
    }
   ],
   "source": [
    "df['ANY_HAZARDOUS_WIRING'].value_counts()"
   ]
  },
  {
   "cell_type": "code",
   "execution_count": 212,
   "id": "9f56e625-e52f-4a83-b71b-ff87e622d5d4",
   "metadata": {},
   "outputs": [
    {
     "data": {
      "text/plain": [
       "None            805621\n",
       "Unknown          98799\n",
       "Polybutylene      2195\n",
       "Name: ANY_PLUMBING_UNACCEPTABLE, dtype: int64"
      ]
     },
     "execution_count": 212,
     "metadata": {},
     "output_type": "execute_result"
    }
   ],
   "source": [
    "df['ANY_PLUMBING_UNACCEPTABLE'].value_counts()"
   ]
  },
  {
   "cell_type": "code",
   "execution_count": 213,
   "id": "c066eb0e-4254-4531-a974-a41ae77ef6e4",
   "metadata": {},
   "outputs": [],
   "source": [
    "df.drop(columns=['ANY_PLUMBING_UNACCEPTABLE','ANY_HAZARDOUS_WIRING'],inplace=True)"
   ]
  },
  {
   "cell_type": "code",
   "execution_count": 214,
   "id": "2e729771-af32-411d-abca-4391664165ff",
   "metadata": {},
   "outputs": [
    {
     "data": {
      "text/plain": [
       "(979379, 133)"
      ]
     },
     "execution_count": 214,
     "metadata": {},
     "output_type": "execute_result"
    }
   ],
   "source": [
    "df.shape"
   ]
  },
  {
   "cell_type": "code",
   "execution_count": 215,
   "id": "2a391fb3-a8d7-4dab-b98d-23a90918a290",
   "metadata": {},
   "outputs": [
    {
     "data": {
      "text/plain": [
       "Index(['AGENCY_NAME', 'AGENCY_FEIN', 'AGENCY_PHYSICAL_ADDRESS_CITY',\n",
       "       'AGENCY_PHYSICAL_ADDRESS_STATE', 'AGENCY_PHYSICAL_ADDRESS_ZIP_CODE',\n",
       "       'AGENCY_ADDRESS'],\n",
       "      dtype='object')"
      ]
     },
     "execution_count": 215,
     "metadata": {},
     "output_type": "execute_result"
    }
   ],
   "source": [
    "df.columns[df.columns.str.contains('AGEN')]"
   ]
  },
  {
   "cell_type": "code",
   "execution_count": 218,
   "id": "af808f4b-d749-484d-80e6-a0c8f4a78343",
   "metadata": {},
   "outputs": [],
   "source": [
    "# df.drop(columns=['PROPERTY_ADDRESS_LINE1','AGENCY_ID','AGENCY_PHYSICAL_ADDRESS_LINE_1'],inplace=True)"
   ]
  },
  {
   "cell_type": "code",
   "execution_count": 219,
   "id": "42852283-278f-405e-88f8-46c75ee6e9aa",
   "metadata": {},
   "outputs": [
    {
     "data": {
      "text/plain": [
       "Ungraded             729663\n",
       "04                    78426\n",
       "03                    62407\n",
       "02                    23151\n",
       "05                    11033\n",
       "06                     1415\n",
       "08                      942\n",
       "Non-Participating       899\n",
       "01                      369\n",
       "07                      299\n",
       "09                       24\n",
       "10                       14\n",
       "01 - Ind. Grading        11\n",
       "Name: BCEG_CODE, dtype: int64"
      ]
     },
     "execution_count": 219,
     "metadata": {},
     "output_type": "execute_result"
    }
   ],
   "source": [
    "df['BCEG_CODE'].value_counts()"
   ]
  },
  {
   "cell_type": "code",
   "execution_count": 221,
   "id": "b50778be-68ea-448a-9dbd-a8b76e8c0f5a",
   "metadata": {},
   "outputs": [],
   "source": [
    "df.drop(columns=['BCEG_CODE'],inplace=True)"
   ]
  },
  {
   "cell_type": "code",
   "execution_count": 222,
   "id": "0a3294fe-b897-4eaa-a3b0-9a1a418b77e3",
   "metadata": {},
   "outputs": [
    {
     "data": {
      "text/plain": [
       "100 or more Amps      903335\n",
       "Less than 100 Amps      3280\n",
       "Name: NUMBER_OF_AMPS, dtype: int64"
      ]
     },
     "execution_count": 222,
     "metadata": {},
     "output_type": "execute_result"
    }
   ],
   "source": [
    "df['NUMBER_OF_AMPS'].value_counts()"
   ]
  },
  {
   "cell_type": "code",
   "execution_count": 223,
   "id": "09584891-5f90-4155-ba9c-0b4c29fb06a7",
   "metadata": {},
   "outputs": [
    {
     "data": {
      "text/plain": [
       "1-4 Units    814331\n",
       "Type I        59166\n",
       "Type II       21762\n",
       "Type III      13504\n",
       "Name: WLM_BUILDING_TYPE, dtype: int64"
      ]
     },
     "execution_count": 223,
     "metadata": {},
     "output_type": "execute_result"
    }
   ],
   "source": [
    "df[\"WLM_BUILDING_TYPE\"].value_counts()"
   ]
  },
  {
   "cell_type": "code",
   "execution_count": 224,
   "id": "2ce2c76a-4fe8-4c82-bf0c-dfbf40d4a22b",
   "metadata": {},
   "outputs": [
    {
     "data": {
      "text/plain": [
       "No     977631\n",
       "Yes      1748\n",
       "Name: ALUMINUM_WIRING_REMEDIATED, dtype: int64"
      ]
     },
     "execution_count": 224,
     "metadata": {},
     "output_type": "execute_result"
    }
   ],
   "source": [
    "df['ALUMINUM_WIRING_REMEDIATED'].value_counts()"
   ]
  },
  {
   "cell_type": "code",
   "execution_count": 225,
   "id": "9a8d4523-7453-48d8-a425-95e19761b708",
   "metadata": {},
   "outputs": [
    {
     "data": {
      "text/plain": [
       "UNKNOWN    419989\n",
       "NO         371829\n",
       "YES        121031\n",
       "Name: SECONDARY_WATER_RESISTANCE, dtype: int64"
      ]
     },
     "execution_count": 225,
     "metadata": {},
     "output_type": "execute_result"
    }
   ],
   "source": [
    "df['SECONDARY_WATER_RESISTANCE'].value_counts()"
   ]
  },
  {
   "cell_type": "code",
   "execution_count": 226,
   "id": "36daf4e6-c39a-4a35-9b5d-165667aba19b",
   "metadata": {},
   "outputs": [
    {
     "data": {
      "text/plain": [
       "None       469442\n",
       "Class A    239807\n",
       "Unknown    208011\n",
       "Class B      4118\n",
       "Class C      2846\n",
       "Name: OPENING_PROTECTION, dtype: int64"
      ]
     },
     "execution_count": 226,
     "metadata": {},
     "output_type": "execute_result"
    }
   ],
   "source": [
    "df['OPENING_PROTECTION'].value_counts()"
   ]
  },
  {
   "cell_type": "code",
   "execution_count": 227,
   "id": "a4f4b5c3-c0fd-4ddb-b9ac-43058c450713",
   "metadata": {},
   "outputs": [
    {
     "data": {
      "text/plain": [
       "No     962210\n",
       "Yes      1991\n",
       "Name: CLASS_C_TYPE_GRANDFATHER, dtype: int64"
      ]
     },
     "execution_count": 227,
     "metadata": {},
     "output_type": "execute_result"
    }
   ],
   "source": [
    "df['CLASS_C_TYPE_GRANDFATHER'].value_counts()"
   ]
  },
  {
   "cell_type": "code",
   "execution_count": 228,
   "id": "4a518f70-5a4b-40af-8eaa-e1e8218cebdc",
   "metadata": {},
   "outputs": [
    {
     "data": {
      "text/plain": [
       "167780"
      ]
     },
     "execution_count": 228,
     "metadata": {},
     "output_type": "execute_result"
    }
   ],
   "source": [
    "df['REPLACEMENT_COST'].isna().sum()"
   ]
  },
  {
   "cell_type": "markdown",
   "id": "5f820af2-c37e-432c-a661-1d2d19526b75",
   "metadata": {},
   "source": [
    "### removed the columns with most missing values"
   ]
  },
  {
   "cell_type": "code",
   "execution_count": 229,
   "id": "9abe6fe2-2382-43cf-95a9-6134edf36bad",
   "metadata": {},
   "outputs": [],
   "source": [
    "df.drop(columns=['NUMBER_OF_AMPS','WLM_BUILDING_TYPE','ALUMINUM_WIRING_REMEDIATED','SECONDARY_WATER_RESISTANCE','OPENING_PROTECTION','CLASS_C_TYPE_GRANDFATHER',\n",
    "                ],inplace=True)"
   ]
  },
  {
   "cell_type": "code",
   "execution_count": 230,
   "id": "5800079b-3642-419f-b42a-8bc91185f2dd",
   "metadata": {},
   "outputs": [],
   "source": [
    "coverage_cols = df.columns[df.columns.str.contains(\"COVERAGE\")]"
   ]
  },
  {
   "cell_type": "code",
   "execution_count": 231,
   "id": "1b663812-bb25-4880-b2ef-bdb6bccd7d6f",
   "metadata": {},
   "outputs": [
    {
     "data": {
      "text/plain": [
       "COVERAGE_STRUCTURE                                  0\n",
       "COVERAGE_A_DWELLING                                 0\n",
       "COVERAGE_CONDO_UNIT_OWNER_LIMIT                     0\n",
       "COVERAGE_A_LOSS_SETTLEMENT                      50844\n",
       "COVERAGE_B_OTHER_STRUCTURES_PERCENT                 0\n",
       "COVERAGE_B_OTHER_STRUCTURES_AMOUNT                  0\n",
       "COVERAGE_C_PERSONAL_PROPERTY_AMOUNT                 0\n",
       "COVERAGE_C_PERSONAL_PROPERTY_PERCENT                0\n",
       "COVERAGE_C_LOSS_SETTLEMENT                          0\n",
       "COVERAGE_D_LOSS_OF_USE                              0\n",
       "COVERAGE_PERSONAL_LIABILITY_AMOUNT                  0\n",
       "COVERAGE_MEDICAL_PAYMENT_AMOUNT                     0\n",
       "SINKHOLE_LOSS_COVERAGE                              0\n",
       "COVERAGE_MOLD_PROPERTY_AMOUNT                       0\n",
       "COVERAGE_MOLD_LIABILITY_AMOUNT                      0\n",
       "COVERAGE_LOSS_ASSESMENT_AMOUNT                      0\n",
       "COVERAGE_ORDINANCE_LAW_LIMIT                        0\n",
       "COVERAGE_ORDINANCE_LAW_LIMIT_OF_LIABILITY           0\n",
       "COVERAGE_A_DWELLING_SPECIAL_PREMIUM_COVERAGE        0\n",
       "LOSS_ASSESSMENT_COVERAGE_AMOUNT                     0\n",
       "CONDO_INCREASED_COVERAGE_A_PREMIUM_AMOUNT           0\n",
       "IS_WIND_COVERAGE_EXCLUDED                           0\n",
       "EXTENDED_COVERAGE                                   0\n",
       "dtype: int64"
      ]
     },
     "execution_count": 231,
     "metadata": {},
     "output_type": "execute_result"
    }
   ],
   "source": [
    "df[coverage_cols].isna().sum()"
   ]
  },
  {
   "cell_type": "code",
   "execution_count": 232,
   "id": "5b042416-c79a-41f3-8daa-b4801068b30b",
   "metadata": {},
   "outputs": [
    {
     "data": {
      "text/plain": [
       "Dwelling                 718331\n",
       "Unit Owner               116567\n",
       "Townhouse or Rowhouse     69361\n",
       "Apartment Complex          4503\n",
       "Name: RESIDENCE_TYPE, dtype: int64"
      ]
     },
     "execution_count": 232,
     "metadata": {},
     "output_type": "execute_result"
    }
   ],
   "source": [
    "df[\"RESIDENCE_TYPE\"].value_counts()"
   ]
  },
  {
   "cell_type": "code",
   "execution_count": 233,
   "id": "756c9ff3-86aa-475c-8d82-beba38f9c76e",
   "metadata": {},
   "outputs": [
    {
     "data": {
      "text/plain": [
       "Dwelling       908762\n",
       "Mobile Home     70617\n",
       "Name: COVERAGE_STRUCTURE, dtype: int64"
      ]
     },
     "execution_count": 233,
     "metadata": {},
     "output_type": "execute_result"
    }
   ],
   "source": [
    "df['COVERAGE_STRUCTURE'].value_counts()"
   ]
  },
  {
   "cell_type": "code",
   "execution_count": 234,
   "id": "179cc01d-4487-4af6-85c0-b4f9fdf984aa",
   "metadata": {},
   "outputs": [
    {
     "data": {
      "text/plain": [
       "(70617, 126)"
      ]
     },
     "execution_count": 234,
     "metadata": {},
     "output_type": "execute_result"
    }
   ],
   "source": [
    "df.loc[(df['RESIDENCE_TYPE'].isna()) & (df['COVERAGE_STRUCTURE']=='Mobile Home')].shape"
   ]
  },
  {
   "cell_type": "code",
   "execution_count": 235,
   "id": "5e7f8a79-6f95-45e4-83ae-99d72f4d28e8",
   "metadata": {},
   "outputs": [
    {
     "data": {
      "text/plain": [
       "POLICY_TYPE\n",
       "DP-1     233813.049566\n",
       "DP-3     233041.865302\n",
       "DW-2     286291.309980\n",
       "HO-3     261595.243103\n",
       "HO-4               NaN\n",
       "HO-6               NaN\n",
       "HO-8     182449.616259\n",
       "HW-2     303679.293998\n",
       "HW-4               NaN\n",
       "HW-6               NaN\n",
       "MD-1               NaN\n",
       "MDP-1     50939.783821\n",
       "MHO-3     54334.780059\n",
       "MHO-4              NaN\n",
       "MW-2               NaN\n",
       "Name: REPLACEMENT_COST, dtype: float64"
      ]
     },
     "execution_count": 235,
     "metadata": {},
     "output_type": "execute_result"
    }
   ],
   "source": [
    "df.groupby(['POLICY_TYPE',])['REPLACEMENT_COST'].mean()"
   ]
  },
  {
   "cell_type": "code",
   "execution_count": 236,
   "id": "ed3740e9-fddb-4f0b-8cf1-932775d6db9a",
   "metadata": {},
   "outputs": [
    {
     "data": {
      "text/plain": [
       "Masonry                       792886\n",
       "Frame                         140303\n",
       "Masonry Veneer                 21257\n",
       "Masonry Non-Combustible        10302\n",
       "Fire Resistive                  7362\n",
       "Superior                        5089\n",
       "Plastic Siding over Frame       1159\n",
       "Aluminum Siding Over Frame       571\n",
       "Non-Combustible                  334\n",
       "Modular                          116\n",
       "Name: CONSTRUCTION, dtype: int64"
      ]
     },
     "execution_count": 236,
     "metadata": {},
     "output_type": "execute_result"
    }
   ],
   "source": [
    "df['CONSTRUCTION'].value_counts()"
   ]
  },
  {
   "cell_type": "code",
   "execution_count": 237,
   "id": "ea7e24d9-d16e-458e-8e5b-15e5ef6a4174",
   "metadata": {},
   "outputs": [
    {
     "data": {
      "text/plain": [
       "Dwelling                 718331\n",
       "Unit Owner               116567\n",
       "Townhouse or Rowhouse     69361\n",
       "Apartment Complex          4503\n",
       "Name: RESIDENCE_TYPE, dtype: int64"
      ]
     },
     "execution_count": 237,
     "metadata": {},
     "output_type": "execute_result"
    }
   ],
   "source": [
    "df[\"RESIDENCE_TYPE\"].value_counts()"
   ]
  },
  {
   "cell_type": "code",
   "execution_count": 238,
   "id": "632e3a96-cc7d-45d2-9fb3-6f159bfdf80c",
   "metadata": {},
   "outputs": [
    {
     "data": {
      "text/plain": [
       "Owner Occupied     763507\n",
       "Tenant Occupied    215872\n",
       "Name: OCCUPANCY, dtype: int64"
      ]
     },
     "execution_count": 238,
     "metadata": {},
     "output_type": "execute_result"
    }
   ],
   "source": [
    "df['OCCUPANCY'].value_counts()"
   ]
  },
  {
   "cell_type": "code",
   "execution_count": 239,
   "id": "244d4296-9bdb-4c61-879e-df2042c5c2b1",
   "metadata": {},
   "outputs": [
    {
     "data": {
      "text/plain": [
       "None                                              922972\n",
       "May June July August September October              7201\n",
       "May June July August September                      3002\n",
       "April May June July August September                2996\n",
       "June July August                                    2292\n",
       "                                                   ...  \n",
       "January April June July October November               1\n",
       "April May July September October November              1\n",
       "February March May June July September October         1\n",
       "January March May October November                     1\n",
       "May July September November December                   1\n",
       "Name: MONTHS_UNOCCUPIED, Length: 2711, dtype: int64"
      ]
     },
     "execution_count": 239,
     "metadata": {},
     "output_type": "execute_result"
    }
   ],
   "source": [
    "df['MONTHS_UNOCCUPIED'].value_counts()"
   ]
  },
  {
   "cell_type": "code",
   "execution_count": 240,
   "id": "6d857326-1c6d-44ec-aacd-1aa610befffb",
   "metadata": {},
   "outputs": [],
   "source": [
    "df.drop(columns=['MONTHS_UNOCCUPIED'],inplace=True)"
   ]
  },
  {
   "cell_type": "code",
   "execution_count": 241,
   "id": "af3e2c8e-00d1-4bcd-9b32-aa1cb286280f",
   "metadata": {},
   "outputs": [
    {
     "data": {
      "text/plain": [
       "None               897650\n",
       "Central Station     42732\n",
       "Name: FIRE_ALARM_TYPE, dtype: int64"
      ]
     },
     "execution_count": 241,
     "metadata": {},
     "output_type": "execute_result"
    }
   ],
   "source": [
    "df['FIRE_ALARM_TYPE'].value_counts()"
   ]
  },
  {
   "cell_type": "code",
   "execution_count": 242,
   "id": "3f8438f4-8946-4002-8273-667baa2e73c2",
   "metadata": {},
   "outputs": [],
   "source": [
    "df.drop(columns=['FIRE_ALARM_TYPE'],inplace=True)"
   ]
  },
  {
   "cell_type": "code",
   "execution_count": 249,
   "id": "ca92bddf-1ba4-4b09-b143-b1e966e22aa5",
   "metadata": {},
   "outputs": [
    {
     "data": {
      "text/plain": [
       "array(['MDP-1', 'MHO-3', 'DP-3', 'HO-6', 'HW-6', 'MD-1', 'MW-2', 'HO-4',\n",
       "       'HW-4', 'MHO-4', 'DP-1', 'DW-2', 'HO-3', 'HW-2'], dtype=object)"
      ]
     },
     "execution_count": 249,
     "metadata": {},
     "output_type": "execute_result"
    }
   ],
   "source": [
    "df.loc[df['REPLACEMENT_COST'].isna(),'POLICY_TYPE'].unique()"
   ]
  },
  {
   "cell_type": "code",
   "execution_count": 253,
   "id": "8c351497-abe3-4fee-baa5-0c25d77f7749",
   "metadata": {},
   "outputs": [],
   "source": [
    "df.drop(columns=['ALTERNATE_VALUATION_ACV','ALTERNATE_VALUATION_TYPE'],inplace=True)"
   ]
  },
  {
   "cell_type": "code",
   "execution_count": 254,
   "id": "4b23a8b7-82fe-4f4a-8edf-e6bab3c862db",
   "metadata": {},
   "outputs": [
    {
     "data": {
      "text/plain": [
       "Primary                 706407\n",
       "Rental Property         206140\n",
       "Secondary                30192\n",
       "Seasonal(3-6 months)     24386\n",
       "Seasonal                  7547\n",
       "Seasonal(>6 months)       2802\n",
       "Seasonal-Rental           1888\n",
       "Farm/Ranch                  17\n",
       "Name: USAGETYPE, dtype: int64"
      ]
     },
     "execution_count": 254,
     "metadata": {},
     "output_type": "execute_result"
    }
   ],
   "source": [
    "df['USAGETYPE'].value_counts()"
   ]
  },
  {
   "cell_type": "code",
   "execution_count": 255,
   "id": "d7d34247-6ebe-457f-9380-ac18871cad57",
   "metadata": {},
   "outputs": [],
   "source": [
    "df.loc[df['USAGETYPE'].str.contains('Seasonal'),'USAGETYPE']='Seasonal'"
   ]
  },
  {
   "cell_type": "code",
   "execution_count": 256,
   "id": "6003263e-8b0b-4758-90a3-1bbafb896a4a",
   "metadata": {},
   "outputs": [],
   "source": [
    "df.loc[df['USAGETYPE'].str.contains('Farm'),'USAGETYPE']='Primary'"
   ]
  },
  {
   "cell_type": "code",
   "execution_count": 257,
   "id": "e66878aa-63d0-43e3-abb5-b7677b8248bc",
   "metadata": {},
   "outputs": [
    {
     "data": {
      "text/plain": [
       "0"
      ]
     },
     "execution_count": 257,
     "metadata": {},
     "output_type": "execute_result"
    }
   ],
   "source": [
    "df['USAGETYPE'].isna().sum()"
   ]
  },
  {
   "cell_type": "code",
   "execution_count": 259,
   "id": "b0c0d932-8ff7-4a00-8def-fb7010cfa7f6",
   "metadata": {},
   "outputs": [],
   "source": [
    "for i in df['POLICY_TYPE'].value_counts().index:\n",
    "    k =df.loc[df['POLICY_TYPE']==i,'USAGETYPE'].value_counts().index\n",
    "    for j in k:\n",
    "        pk =df.loc[(df['USAGETYPE']==j) & (df['POLICY_TYPE']==i),'REPLACEMENT_COST'].median()\n",
    "        df.loc[(df['REPLACEMENT_COST'].isna())&(df['USAGETYPE']==j) & (df['POLICY_TYPE']==i),'REPLACEMENT_COST']=pk"
   ]
  },
  {
   "cell_type": "code",
   "execution_count": 260,
   "id": "0732be88-6620-48e9-b930-b170cec67a4b",
   "metadata": {},
   "outputs": [
    {
     "data": {
      "text/plain": [
       "84675"
      ]
     },
     "execution_count": 260,
     "metadata": {},
     "output_type": "execute_result"
    }
   ],
   "source": [
    "df['REPLACEMENT_COST'].isna().sum()"
   ]
  },
  {
   "cell_type": "code",
   "execution_count": 263,
   "id": "57a4ba61-d6d3-470b-bbad-ca61e8cf1131",
   "metadata": {},
   "outputs": [],
   "source": [
    "df.loc[df['RESIDENCE_TYPE'].isna(),'RESIDENCE_TYPE']='Mobile Home'"
   ]
  },
  {
   "cell_type": "code",
   "execution_count": 264,
   "id": "4580d71d-3e7d-4a55-a910-41da253bca6c",
   "metadata": {},
   "outputs": [
    {
     "data": {
      "text/plain": [
       "0    910150\n",
       "1     48926\n",
       "2     19024\n",
       "4       681\n",
       "3       553\n",
       "5        44\n",
       "6         1\n",
       "Name: NUMBER_OF_BOARDERS, dtype: int64"
      ]
     },
     "execution_count": 264,
     "metadata": {},
     "output_type": "execute_result"
    }
   ],
   "source": [
    "df['NUMBER_OF_BOARDERS'].value_counts()"
   ]
  },
  {
   "cell_type": "code",
   "execution_count": 265,
   "id": "26863de6-babc-4104-8321-0e36b8c4420f",
   "metadata": {},
   "outputs": [],
   "source": [
    "inds= df.loc[df['NUMBER_OF_BOARDERS']>5].index\n",
    "df.drop(index=inds,inplace=True)"
   ]
  },
  {
   "cell_type": "code",
   "execution_count": 266,
   "id": "c3592dc7-86e2-4f1b-979f-60f821a63d0e",
   "metadata": {},
   "outputs": [
    {
     "data": {
      "text/plain": [
       "array(['Fire Resistive', 'Masonry', 'Superior', 'Frame',\n",
       "       'Masonry Non-Combustible', 'Masonry Veneer', 'Non-Combustible',\n",
       "       'Aluminum Siding Over Frame', 'Plastic Siding over Frame',\n",
       "       'Modular'], dtype=object)"
      ]
     },
     "execution_count": 266,
     "metadata": {},
     "output_type": "execute_result"
    }
   ],
   "source": [
    "kk = df.loc[df['REPLACEMENT_COST'].isna(),'CONSTRUCTION'].unique()\n",
    "kk"
   ]
  },
  {
   "cell_type": "code",
   "execution_count": 268,
   "id": "67c32592-5237-462a-bd6b-1c6e7213eb60",
   "metadata": {},
   "outputs": [],
   "source": [
    "for i in kk:\n",
    "    p = df.loc[(df['CONSTRUCTION']==i) & (df['REPLACEMENT_COST'].notna()),'REPLACEMENT_COST'].median()\n",
    "    df.loc[(df['CONSTRUCTION']==i) & (df['REPLACEMENT_COST'].isna()),'REPLACEMENT_COST']=p"
   ]
  },
  {
   "cell_type": "code",
   "execution_count": 269,
   "id": "4f360a4d-f33a-4424-a377-151c5325d918",
   "metadata": {},
   "outputs": [
    {
     "data": {
      "text/plain": [
       "Primary            706424\n",
       "Rental Property    206139\n",
       "Seasonal            36623\n",
       "Secondary           30192\n",
       "Name: USAGETYPE, dtype: int64"
      ]
     },
     "execution_count": 269,
     "metadata": {},
     "output_type": "execute_result"
    }
   ],
   "source": [
    "df['USAGETYPE'].value_counts()"
   ]
  },
  {
   "cell_type": "code",
   "execution_count": 270,
   "id": "563158a4-6123-43f1-9fca-c51ed9d021df",
   "metadata": {},
   "outputs": [
    {
     "data": {
      "text/plain": [
       "Owner Occupied     763507\n",
       "Tenant Occupied    215871\n",
       "Name: OCCUPANCY, dtype: int64"
      ]
     },
     "execution_count": 270,
     "metadata": {},
     "output_type": "execute_result"
    }
   ],
   "source": [
    "df['OCCUPANCY'].value_counts()"
   ]
  },
  {
   "cell_type": "markdown",
   "id": "e4b4dfc2-16c4-4bce-a48d-79fbce9a8fe8",
   "metadata": {},
   "source": [
    "SPRINKLER_SYSTEM_TYPE\n",
    "\n",
    "LOCKED_SECURITY_GATE\n",
    "\n",
    "HAS_SECURITY_GUARD"
   ]
  },
  {
   "cell_type": "code",
   "execution_count": 271,
   "id": "0007aeeb-20c4-4fe5-8108-1e4524534f7e",
   "metadata": {},
   "outputs": [
    {
     "data": {
      "text/plain": [
       "None               938754\n",
       "Class B-Full          866\n",
       "Class A-Partial       761\n",
       "Name: SPRINKLER_SYSTEM_TYPE, dtype: int64"
      ]
     },
     "execution_count": 271,
     "metadata": {},
     "output_type": "execute_result"
    }
   ],
   "source": [
    "df['SPRINKLER_SYSTEM_TYPE'].value_counts()"
   ]
  },
  {
   "cell_type": "code",
   "execution_count": 272,
   "id": "5203b6b2-a4dd-42ac-bd7b-03f03bf94def",
   "metadata": {},
   "outputs": [
    {
     "data": {
      "text/plain": [
       "array(['HW-2', 'DW-2', 'HW-6', 'MD-1', 'MW-2', 'DP-3', 'HO-6', 'HW-4',\n",
       "       'HO-4', 'HO-3', 'DP-1', 'MHO-3'], dtype=object)"
      ]
     },
     "execution_count": 272,
     "metadata": {},
     "output_type": "execute_result"
    }
   ],
   "source": [
    "df.loc[df['SPRINKLER_SYSTEM_TYPE']!='None','POLICY_TYPE'].unique()"
   ]
  },
  {
   "cell_type": "code",
   "execution_count": 273,
   "id": "8bbbfe51-5cfc-43a6-ac37-41814ee57efb",
   "metadata": {},
   "outputs": [
    {
     "data": {
      "text/plain": [
       "No     867101\n",
       "Yes     61021\n",
       "Name: LOCKED_SECURITY_GATE, dtype: int64"
      ]
     },
     "execution_count": 273,
     "metadata": {},
     "output_type": "execute_result"
    }
   ],
   "source": [
    "df['LOCKED_SECURITY_GATE'].value_counts()"
   ]
  },
  {
   "cell_type": "code",
   "execution_count": 274,
   "id": "a8577d44-b769-4888-ac27-c45f03f055ce",
   "metadata": {},
   "outputs": [
    {
     "data": {
      "text/plain": [
       "No     874816\n",
       "Yes     31798\n",
       "Name: HAS_SECURITY_GUARD, dtype: int64"
      ]
     },
     "execution_count": 274,
     "metadata": {},
     "output_type": "execute_result"
    }
   ],
   "source": [
    "df['HAS_SECURITY_GUARD'].value_counts()"
   ]
  },
  {
   "cell_type": "code",
   "execution_count": 275,
   "id": "70faaa98-9440-4716-b11c-a071fe176985",
   "metadata": {},
   "outputs": [],
   "source": [
    "df.drop(columns=['SPRINKLER_SYSTEM_TYPE','HAS_SECURITY_GUARD','LOCKED_SECURITY_GATE'],inplace=True)"
   ]
  },
  {
   "cell_type": "code",
   "execution_count": 286,
   "id": "e12dd45f-fa52-484f-8fdc-75d49093aa4b",
   "metadata": {},
   "outputs": [
    {
     "data": {
      "text/plain": [
       "2500.0    568835\n",
       "1000.0    192368\n",
       "500.0     145411\n",
       "Name: ALL_OTHER_PERILS, dtype: int64"
      ]
     },
     "execution_count": 286,
     "metadata": {},
     "output_type": "execute_result"
    }
   ],
   "source": [
    "df['ALL_OTHER_PERILS'].value_counts()"
   ]
  },
  {
   "cell_type": "code",
   "execution_count": 287,
   "id": "46f874ac-d447-4ec9-b6c0-196e0b6c500b",
   "metadata": {},
   "outputs": [],
   "source": [
    "df.drop(columns=[\"WLM_DISCOUNT\",'ALL_OTHER_PERILS'],inplace=True)"
   ]
  },
  {
   "cell_type": "code",
   "execution_count": 280,
   "id": "3831a55a-8f79-4666-8bb6-0cac10a7ed55",
   "metadata": {},
   "outputs": [],
   "source": [
    "df.drop(columns=[\"BCEGS_MITIGATION_DISCOUNT\"],inplace=True)"
   ]
  },
  {
   "cell_type": "code",
   "execution_count": 283,
   "id": "ebc96d33-d601-4625-bd4c-107484e3149e",
   "metadata": {},
   "outputs": [],
   "source": [
    "df.drop(columns=[\"PRIOR_CARRIER\",'VICIOUS_ANIMALS_DESC'],inplace=True)"
   ]
  },
  {
   "cell_type": "code",
   "execution_count": 289,
   "id": "734fbba7-9409-4e55-abce-fcfb44ce196e",
   "metadata": {},
   "outputs": [
    {
     "data": {
      "text/plain": [
       "(979378, 114)"
      ]
     },
     "execution_count": 289,
     "metadata": {},
     "output_type": "execute_result"
    }
   ],
   "source": [
    "df.shape"
   ]
  },
  {
   "cell_type": "code",
   "execution_count": 290,
   "id": "8e95bd0f-a201-4a73-8a3f-e685dc34cc38",
   "metadata": {},
   "outputs": [],
   "source": [
    "df.to_csv('meth_v4.csv',index_label=False)"
   ]
  },
  {
   "cell_type": "code",
   "execution_count": 1,
   "id": "c08bf3e2-5761-4b6b-b20b-e8140b9b50fe",
   "metadata": {},
   "outputs": [],
   "source": [
    "# Load the next Data_cleaning_v3 and use the meth_v4.csv file for it"
   ]
  },
  {
   "cell_type": "code",
   "execution_count": 2,
   "id": "01385644-cb9e-45a5-b659-f59b83f8dca3",
   "metadata": {},
   "outputs": [],
   "source": [
    "## There are couple more cleaning steps for the data"
   ]
  },
  {
   "cell_type": "code",
   "execution_count": null,
   "id": "c86f5b65-a40a-43b9-abd3-8acc4c0a05af",
   "metadata": {},
   "outputs": [],
   "source": []
  }
 ],
 "metadata": {
  "kernelspec": {
   "display_name": "Python 3 (ipykernel)",
   "language": "python",
   "name": "python3"
  },
  "language_info": {
   "codemirror_mode": {
    "name": "ipython",
    "version": 3
   },
   "file_extension": ".py",
   "mimetype": "text/x-python",
   "name": "python",
   "nbconvert_exporter": "python",
   "pygments_lexer": "ipython3",
   "version": "3.9.16"
  }
 },
 "nbformat": 4,
 "nbformat_minor": 5
}
